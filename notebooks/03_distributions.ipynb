{
 "cells": [
  {
   "cell_type": "markdown",
   "metadata": {},
   "source": [
    "### Key concepts\n",
    "1. Distributions are where data comes from\n",
    "\n",
    "2. Gaussian distribution\n",
    "\n",
    "3. Mean & standard deviation\n",
    "\n",
    "4. Percentiles & outliers\n",
    "\n",
    "5. Power law distribution"
   ]
  },
  {
   "cell_type": "code",
   "execution_count": null,
   "metadata": {
    "collapsed": true
   },
   "outputs": [],
   "source": [
    "%matplotlib inline\n",
    "import matplotlib\n",
    "import matplotlib.pyplot as plt\n",
    "import pandas as pd\n",
    "import random\n",
    "from IPython.core.display import clear_output\n",
    "\n",
    "def coin_flip(p=0.5):\n",
    "    val = random.random()\n",
    "    if val < p:\n",
    "        return 1 # Heads\n",
    "    else:\n",
    "        return 0 # Tails\n",
    "\n",
    "def roll_dice():\n",
    "    val1 = int(random.random() * 6) + 1\n",
    "    val2 = int(random.random() * 6) + 1\n",
    "    return val1 + val2\n",
    "    \n",
    "def coin_flips(n=10):\n",
    "    res = 0\n",
    "    for i in range(n):\n",
    "        res += coin_flip()\n",
    "    return res\n",
    "\n",
    "def random_avg(n=10):\n",
    "    res = 0\n",
    "    for i in range(n):\n",
    "        res += 10 * random.random()\n",
    "    return res / n\n",
    "\n",
    "def simulate(f, runs=100):\n",
    "    return pd.DataFrame({'Val': [f() for i in range(runs)]})\n",
    "\n",
    "def show_counts(df):\n",
    "    df = df.assign(Count=1)\n",
    "    df = df.groupby('Val').count()\n",
    "    return df\n",
    "\n",
    "def histogram(df, bins=10, range=None):\n",
    "    if isinstance(df, pd.Series):\n",
    "        df = pd.DataFrame({df.name: df})\n",
    "    counts = df.assign(Count=1)\n",
    "    col_name = df.columns[0]\n",
    "    counts = counts.groupby(col_name).count()\n",
    "    df.plot.hist(bins=bins, range=range)\n",
    "    plt.show()\n",
    "    if counts.shape[0] < 30:\n",
    "        return counts"
   ]
  },
  {
   "cell_type": "markdown",
   "metadata": {},
   "source": [
    "### 1. Distributions\n",
    "We think of data as coming from a distribution. A distribution is a random process that produces individual data points.  \n",
    "A distribution is like a person, and data is like a photograph of that person.\n",
    "The more data points you have, the more you know about the true distribution, like a high-resolution photograph."
   ]
  },
  {
   "cell_type": "markdown",
   "metadata": {},
   "source": [
    "#### Dice Rolls\n",
    "\n",
    "We can analyze a distribution by making repeated random simulations and plotting a histogram of the results. Here, we simulate rolling dice 100 times."
   ]
  },
  {
   "cell_type": "code",
   "execution_count": null,
   "metadata": {
    "collapsed": true
   },
   "outputs": [],
   "source": [
    "histogram(simulate(f=roll_dice, runs=100), bins=range(2, 14))"
   ]
  },
  {
   "cell_type": "markdown",
   "metadata": {},
   "source": [
    "To understand why the distribution has this shape, consider that every square in this diagram represents an equally likely outcome.\n",
    "\n",
    "<img src=\"../images/dicediagram.jpg\" style=\"width: 300px;\">\n",
    "[(source)](https://casmusings.wordpress.com/about/)"
   ]
  },
  {
   "cell_type": "markdown",
   "metadata": {},
   "source": [
    "#### Coin Flips\n",
    "Here is a simulation of flipping a coin 10 times. Flipping many coins approximates a bell curve distribution. "
   ]
  },
  {
   "cell_type": "code",
   "execution_count": null,
   "metadata": {
    "collapsed": true
   },
   "outputs": [],
   "source": [
    "histogram(simulate(f=coin_flips, runs=100), bins=range(0, 11))"
   ]
  },
  {
   "cell_type": "markdown",
   "metadata": {},
   "source": [
    "## TRY THIS"
   ]
  },
  {
   "cell_type": "code",
   "execution_count": null,
   "metadata": {
    "collapsed": true
   },
   "outputs": [],
   "source": [
    "# Implement a distribution\n",
    "# this function should flip a coin repeatedly until you get a head. it should return the number of coin flips required. \n",
    "def coin_flips_to_head():\n",
    "    return ..."
   ]
  },
  {
   "cell_type": "code",
   "execution_count": null,
   "metadata": {
    "collapsed": true
   },
   "outputs": [],
   "source": [
    "histogram(simulate(f=coin_flips_to_head))"
   ]
  },
  {
   "cell_type": "markdown",
   "metadata": {},
   "source": [
    "### 2. The Gaussian (Normal) distribution\n",
    "A Gaussian distribution is a bell curve, where data clusters around a central mean.\n",
    "This is the most common distribution of data. Height, test scores, and commute times all look like Gaussians.\n",
    "It's so common because the sum of random numbers always looks has a Gaussian distribution."
   ]
  },
  {
   "cell_type": "code",
   "execution_count": null,
   "metadata": {
    "collapsed": true
   },
   "outputs": [],
   "source": [
    "# the more data points we have, the closer our data looks like the true distribution\n",
    "flips = []\n",
    "for _ in range(100):\n",
    "    flips.append(simulate(f=random_avg, runs=100))\n",
    "    clear_output(wait=True)\n",
    "    histogram(pd.concat(flips), bins=50, range=(0, 10))"
   ]
  },
  {
   "cell_type": "markdown",
   "metadata": {},
   "source": [
    "## Real-world Data: NBA Player Statistics 🏀\n",
    "\n",
    "Let's load a dataset of NBA player statistics to see how these distributions come up in the real world.\n",
    "\n",
    "![](../images/nickyoung.gif)"
   ]
  },
  {
   "cell_type": "code",
   "execution_count": null,
   "metadata": {
    "collapsed": true
   },
   "outputs": [],
   "source": [
    "nba = pd.read_csv('../datasets/nba.csv')\n",
    "nba = nba.drop('Unnamed: 0', axis=1)\n",
    "for col in nba.columns:\n",
    "    if col not in ['Player', 'Pos', 'Tm']:\n",
    "        nba[col] = pd.to_numeric(nba[col])"
   ]
  },
  {
   "cell_type": "markdown",
   "metadata": {},
   "source": [
    "The data has some basic data for each player:\n",
    "\n",
    "- **Player**: The player's name\n",
    "- **Tm**: The player's team. *Players who were traded within the season are listed multiple times.*\n",
    "- **Pos**: The player's position ([reference](https://en.wikipedia.org/wiki/Basketball_positions))\n",
    "- **Age**: The player's age\n",
    "- **2P, 2PA, 2P%**: The player's 2-pointer stats (goals made, attempts, percentage)\n",
    "- **3P, 3PA, 3P%**: The player's 3-pointer stats\n",
    "- **FT, FTA, FT%**: The player's free throw stats\n",
    "- Plenty of others, see [this reference](https://en.wikipedia.org/wiki/Basketball_statistics)\n",
    "\n",
    "Use `.head()` to have a look at the first few rows to familiarize yourself with the data."
   ]
  },
  {
   "cell_type": "code",
   "execution_count": null,
   "metadata": {
    "collapsed": true
   },
   "outputs": [],
   "source": [
    "nba.head()"
   ]
  },
  {
   "cell_type": "markdown",
   "metadata": {},
   "source": [
    "### 3-Pointer histogram\n",
    "\n",
    "Here is a histogram of 3-point shooting % (for players with at least 20 attempts)"
   ]
  },
  {
   "cell_type": "code",
   "execution_count": null,
   "metadata": {
    "collapsed": true
   },
   "outputs": [],
   "source": [
    "histogram(nba[nba['3PA'] >= 20]['3P%'])"
   ]
  },
  {
   "cell_type": "markdown",
   "metadata": {},
   "source": [
    "## TRY THIS: Make a histogram of each player's free throw shooting %\n"
   ]
  },
  {
   "cell_type": "code",
   "execution_count": null,
   "metadata": {
    "collapsed": true
   },
   "outputs": [],
   "source": [
    "# Your code here"
   ]
  },
  {
   "cell_type": "markdown",
   "metadata": {},
   "source": [
    "Let's see who is in the bottom bucket."
   ]
  },
  {
   "cell_type": "code",
   "execution_count": null,
   "metadata": {
    "collapsed": true
   },
   "outputs": [],
   "source": [
    "nba[nba.FTA > 20].sort_values('FT%')[['FT', 'FTA', 'Player']].head(8)"
   ]
  },
  {
   "cell_type": "code",
   "execution_count": null,
   "metadata": {
    "collapsed": true
   },
   "outputs": [],
   "source": [
    "from IPython.display import HTML\n",
    "HTML('<iframe width=\"560\" height=\"315\" src=\"https://www.youtube.com/embed/L_Knvctdm-8?rel=0&amp;controls=0&amp;showinfo=0\" frameborder=\"0\" allowfullscreen></iframe>')"
   ]
  },
  {
   "cell_type": "markdown",
   "metadata": {
    "collapsed": true
   },
   "source": [
    "## TRY This: Plot a histogram of NBA players' age. Is it a Gaussian distribution?"
   ]
  },
  {
   "cell_type": "code",
   "execution_count": null,
   "metadata": {
    "collapsed": true
   },
   "outputs": [],
   "source": [
    "histogram(...)"
   ]
  },
  {
   "cell_type": "markdown",
   "metadata": {},
   "source": [
    "### Mean and Standard Deviation\n",
    "\n",
    "1. The mean is the average value of a distribution. For the Gaussian distribution, it is also the middle value.\n",
    "2. The standard deviation is the average distance from the mean."
   ]
  },
  {
   "cell_type": "code",
   "execution_count": null,
   "metadata": {
    "collapsed": true
   },
   "outputs": [],
   "source": [
    "nba[nba['3PA'] >= 20]['3P%'].mean()"
   ]
  },
  {
   "cell_type": "code",
   "execution_count": null,
   "metadata": {
    "collapsed": true
   },
   "outputs": [],
   "source": [
    "nba[nba['3PA'] >= 20]['3P%'].std()"
   ]
  },
  {
   "cell_type": "markdown",
   "metadata": {},
   "source": [
    "## TRY This\n",
    "\n",
    "What is the mean and standard deviation of age?"
   ]
  },
  {
   "cell_type": "code",
   "execution_count": null,
   "metadata": {
    "collapsed": true
   },
   "outputs": [],
   "source": [
    "# Your code here"
   ]
  },
  {
   "cell_type": "markdown",
   "metadata": {},
   "source": [
    "The standard deviation is a way to quickly understand how rare a particular data-point is:\n",
    "\n",
    "1. A point within 1 std-dev of the mean is around 68%\n",
    "2. Within 2 std-dev ~ 95%\n",
    "3. Within 3 std-dev ~ 99.7%\n",
    "4. Within 4 std-dev ~99.99%"
   ]
  },
  {
   "cell_type": "markdown",
   "metadata": {},
   "source": [
    "### Outliers\n",
    "\n",
    "Real data is not entirely normally distributed. Particularly, there are more unusual points than you would expect by random chance. Generally, we consider points outside 3 std-dev's to be outliers."
   ]
  },
  {
   "cell_type": "markdown",
   "metadata": {},
   "source": [
    "## TRY This\n",
    "\n",
    "Which players are outliers in:\n",
    "1. 3-point %\n",
    "2. Age\n",
    "3. Free-throw % (consider players with at least 100 attempts)"
   ]
  },
  {
   "cell_type": "code",
   "execution_count": null,
   "metadata": {
    "collapsed": true
   },
   "outputs": [],
   "source": [
    "# Your code here"
   ]
  },
  {
   "cell_type": "markdown",
   "metadata": {},
   "source": [
    "### Power law distribution\n",
    "\n",
    "There are lots of distributions that are not Gaussian. In particular, many distributions are fat-tailed with small numbers of samples having outsized effects on the overall sum and the mean:\n",
    "\n",
    "1. Spotify plays per artist\n",
    "2. Purchases on amazon\n",
    "3. Income\n",
    "4. Wealth"
   ]
  },
  {
   "cell_type": "code",
   "execution_count": null,
   "metadata": {
    "collapsed": true
   },
   "outputs": [],
   "source": [
    "# total points scored looks like this\n",
    "histogram(nba['PTS'])"
   ]
  },
  {
   "cell_type": "code",
   "execution_count": null,
   "metadata": {
    "collapsed": true
   },
   "outputs": [],
   "source": [
    "nba['PTS'].mean()"
   ]
  },
  {
   "cell_type": "code",
   "execution_count": null,
   "metadata": {
    "collapsed": true
   },
   "outputs": [],
   "source": [
    "# The average player scores many fewer points than the average points scored\n",
    "nba['PTS'].median()"
   ]
  },
  {
   "cell_type": "markdown",
   "metadata": {},
   "source": [
    "## TRY THIS\n",
    "\n",
    "How many players account for 50% of the points scored?\n",
    "\n",
    "**Hint**:\n",
    "1. Sort the nba dataset by `PTS`\n",
    "2. add a new column `PointsSoFar`, use the `cumsum` function to calculate the cumulative sum of points\n",
    "3. add a new column `PointsRatio`, which is `PointsSoFar` divided by the total points scored (`nba['PTS'].sum()`)\n",
    "4. where does `PointsRatio` go over 50% (can count the number of players where `PointsRatio < 0.5`)"
   ]
  },
  {
   "cell_type": "code",
   "execution_count": null,
   "metadata": {
    "collapsed": true
   },
   "outputs": [],
   "source": [
    "# Sort the dataset by points. ascending=False means reverse the sort.\n",
    "# Fill in the column we want to sort by.\n",
    "sorted_data = nba.sort_values(..., ascending=False)"
   ]
  },
  {
   "cell_type": "code",
   "execution_count": null,
   "metadata": {
    "collapsed": true
   },
   "outputs": [],
   "source": [
    "# Change this code to calculate PointsSoFar.\n",
    "sorted_data['PointsSoFar'] = sorted_data[...].cumsum()"
   ]
  },
  {
   "cell_type": "code",
   "execution_count": null,
   "metadata": {
    "collapsed": true
   },
   "outputs": [],
   "source": [
    "# Change this code to calculate the PointsRatio.\n",
    "sorted_data['PointsRatio'] = sorted_data[...] / sorted_data[...].sum()"
   ]
  },
  {
   "cell_type": "code",
   "execution_count": null,
   "metadata": {
    "collapsed": true
   },
   "outputs": [],
   "source": [
    "# Change this code to filter out rows with PointsRatio > 0.5 and count how many rows are left.\n",
    "sorted_data[...]"
   ]
  },
  {
   "cell_type": "markdown",
   "metadata": {},
   "source": [
    "The `PointsRatio` column answers the question \"what percent of all points scored are scored by the top n players\", for every value of n. Using this plot, how many players account for 20% of all points scored?"
   ]
  },
  {
   "cell_type": "code",
   "execution_count": null,
   "metadata": {
    "collapsed": true
   },
   "outputs": [],
   "source": [
    "sorted_data.PointsRatio.reset_index(drop=True).plot()"
   ]
  },
  {
   "cell_type": "markdown",
   "metadata": {},
   "source": [
    "Why do some players score so much more than others? Hint: have a look at what the distribution looks like when we divide by minutes played:"
   ]
  },
  {
   "cell_type": "code",
   "execution_count": null,
   "metadata": {
    "collapsed": true
   },
   "outputs": [],
   "source": [
    "nba['PointsPerMinute'] = nba['PTS'] / nba['MP']\n",
    "histogram(nba[nba['MP'] >= 100]['PointsPerMinute'])"
   ]
  },
  {
   "cell_type": "code",
   "execution_count": null,
   "metadata": {
    "collapsed": true
   },
   "outputs": [],
   "source": [
    "nba[nba['MP'] >= 100].sort_values('PointsPerMinute', ascending=False)"
   ]
  }
 ],
 "metadata": {
  "kernelspec": {
   "display_name": "Python 2",
   "language": "python",
   "name": "python2"
  },
  "language_info": {
   "codemirror_mode": {
    "name": "ipython",
    "version": 2
   },
   "file_extension": ".py",
   "mimetype": "text/x-python",
   "name": "python",
   "nbconvert_exporter": "python",
   "pygments_lexer": "ipython2",
   "version": "2.7.13"
  }
 },
 "nbformat": 4,
 "nbformat_minor": 2
}
