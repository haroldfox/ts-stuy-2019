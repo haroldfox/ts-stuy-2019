{
 "cells": [
  {
   "cell_type": "markdown",
   "metadata": {},
   "source": [
    "### Key concepts\n",
    "1. Hypothesis testing\n",
    "2. Polls and sampling\n",
    "3. Margin of error\n",
    "4. T-tests and T-statistics\n",
    "5. Election simulation"
   ]
  },
  {
   "cell_type": "code",
   "execution_count": null,
   "metadata": {
    "collapsed": true
   },
   "outputs": [],
   "source": [
    "import math\n",
    "import matplotlib\n",
    "import matplotlib.pyplot as plt\n",
    "import numpy as np\n",
    "import numpy.random\n",
    "import pandas as pd\n",
    "import random\n",
    "import scipy.stats\n",
    "\n",
    "def coin_flip(p=0.5):\n",
    "    val = random.random()\n",
    "    if val < p:\n",
    "        return 1.0\n",
    "    else:\n",
    "        return 0.0\n",
    "\n",
    "def coin_flips(n=10, p=0.5):\n",
    "    rand = numpy.random.rand(n)\n",
    "    return rand[(rand < p)].size / n\n",
    "\n",
    "def random_avg(n=10):\n",
    "    res = 0\n",
    "    for i in range(n):\n",
    "        res += 10 * random.random()\n",
    "    return res / n\n",
    "\n",
    "def simulate(f, runs=10000):\n",
    "    return pd.DataFrame({'Val': [f() for i in range(runs)]})\n",
    "\n",
    "def poll_distribution(n, p):\n",
    "    res = 0\n",
    "    for i in range(10000):\n",
    "        res += coin_flips(n, p)\n",
    "    return res / 10000\n",
    "\n",
    "def histogram(df, bins=10):\n",
    "    if isinstance(df, pd.Series):\n",
    "        df = pd.DataFrame({df.name: df})\n",
    "    counts = df.assign(Count=1)\n",
    "    col_name = df.columns[0]\n",
    "    counts = counts.groupby(col_name).count()\n",
    "    df.plot.hist(bins=bins, xlim=(0, 1))\n",
    "    plt.show()"
   ]
  },
  {
   "cell_type": "code",
   "execution_count": null,
   "metadata": {
    "collapsed": true
   },
   "outputs": [],
   "source": [
    "# This could fail, that's ok.\n",
    "from ipywidgets import interact"
   ]
  },
  {
   "cell_type": "markdown",
   "metadata": {},
   "source": [
    "## Hypothesis Testing 👩‍🔬\n",
    "\n",
    "To convert data into information, we use the scientific method. \n",
    "1. We have a **theory**\n",
    "2. We propose a **hypothesis** that should be true if our theory is true\n",
    "3. We think of data as an **experiment** to test our hypothesis\n",
    "\n",
    "Most hypotheses are negatives or null hypotheses, and we try to use the data to reject the null hypothesis.\n",
    "\n",
    "- Data does *not* follow a particular distribution\n",
    "- Two variables are *not* independent of each other\n",
    "\n",
    "We can never categorically disprove a null hypothesis. We can only say it is highly unlikely."
   ]
  },
  {
   "cell_type": "markdown",
   "metadata": {},
   "source": [
    "In the following exercise, we will test whether a sequence of coin flips comes from a biased coin by showing that it is highly unlikely to come from a fair coin.\n",
    "\n",
    "Let's say I rolled 55% heads out of 100 flips. How likely is that scenario with a normal coin?\n",
    "What if I rolled 55% heads out of 1000 flips.\n",
    "\n",
    "We can test that by running many simulations of a normal coin. We count the simulations that yielded at least 55% heads."
   ]
  },
  {
   "cell_type": "code",
   "execution_count": null,
   "metadata": {
    "collapsed": true
   },
   "outputs": [],
   "source": [
    "def test_estimate_out_of_bounds(num_samples, data_val, true_p=0.5, num_tests=10000):\n",
    "    success = 0\n",
    "    for i in range(num_tests):\n",
    "        sample = coin_flips(num_samples, true_p)\n",
    "        if data_val >= true_p:\n",
    "            # If this simultion yields at least as many heads as our data, \n",
    "            # then this distribution could have produced this data\n",
    "            if sample >= data_val:\n",
    "                success += 1\n",
    "        elif data_val <= true_p:\n",
    "            if sample <= data_val:\n",
    "                success += 1\n",
    "    return success / num_tests"
   ]
  },
  {
   "cell_type": "code",
   "execution_count": null,
   "metadata": {},
   "outputs": [],
   "source": [
    "test_estimate_out_of_bounds(10, 0.55)"
   ]
  },
  {
   "cell_type": "markdown",
   "metadata": {},
   "source": [
    "## TRY THIS\n",
    "Write a function to repeatedly flip a biased coin. \n",
    "How many attempts do you need before you can say that the chance of those flips being fair is less then 1%"
   ]
  },
  {
   "cell_type": "code",
   "execution_count": null,
   "metadata": {
    "collapsed": true
   },
   "outputs": [],
   "source": [
    "# return the number of coin flips you need to make before it becomes highly unlikely (< 1%)\n",
    "# that those coin flips came from an unbiased coin.\n",
    "# NOTE: Do the test every 100 coin flips, because testing in this way is expensive.\n",
    "def detect_bias(bias=0.55):\n",
    "    num_heads = 0\n",
    "    num_flips = 0\n",
    "    while True:\n",
    "        # flip the biased coin\n",
    "        num_heads += ...\n",
    "        num_flips += 1\n",
    "        if num_flips % 100 == 0:\n",
    "            likelihood = test_estimate_out_of_bounds(..., ...)\n",
    "            if likelihood < 0.01:\n",
    "                return num_flips"
   ]
  },
  {
   "cell_type": "code",
   "execution_count": null,
   "metadata": {},
   "outputs": [],
   "source": [
    "detect_bias(0.55)"
   ]
  },
  {
   "cell_type": "code",
   "execution_count": null,
   "metadata": {},
   "outputs": [],
   "source": [
    "detect_bias(0.53)"
   ]
  },
  {
   "cell_type": "code",
   "execution_count": null,
   "metadata": {},
   "outputs": [],
   "source": [
    "detect_bias(0.51)"
   ]
  },
  {
   "cell_type": "markdown",
   "metadata": {},
   "source": [
    "What happens is that the more coin flips you do, the tighter the range of possible probabilities \n",
    "that could have generated those flips. \n",
    "Also, the closer two distributions are, the more samples you need to prove the hypothesis that they are different\n"
   ]
  },
  {
   "cell_type": "code",
   "execution_count": null,
   "metadata": {},
   "outputs": [],
   "source": [
    "@interact\n",
    "def h(flips=(50, 10000), bias=(0.0, 1.0)):\n",
    "    histogram(simulate(lambda: coin_flips(flips, bias)))"
   ]
  },
  {
   "cell_type": "code",
   "execution_count": null,
   "metadata": {},
   "outputs": [],
   "source": [
    "histogram(simulate(lambda: coin_flips(1000, 0.5)))"
   ]
  },
  {
   "cell_type": "code",
   "execution_count": null,
   "metadata": {},
   "outputs": [],
   "source": [
    "histogram(simulate(lambda: coin_flips(10000, 0.5)))"
   ]
  },
  {
   "cell_type": "code",
   "execution_count": null,
   "metadata": {},
   "outputs": [],
   "source": [
    "histogram(simulate(lambda: coin_flips(100, 0.55)))"
   ]
  },
  {
   "cell_type": "code",
   "execution_count": null,
   "metadata": {},
   "outputs": [],
   "source": [
    "histogram(simulate(lambda: coin_flips(1000, 0.55)))"
   ]
  },
  {
   "cell_type": "code",
   "execution_count": null,
   "metadata": {},
   "outputs": [],
   "source": [
    "histogram(simulate(lambda: coin_flips(10000, 0.55)))"
   ]
  },
  {
   "cell_type": "code",
   "execution_count": null,
   "metadata": {
    "collapsed": true
   },
   "outputs": [],
   "source": [
    "polls = pd.read_csv('../datasets/presidential_polls.csv')\n",
    "polls = polls[pd.notnull(polls['samplesize'])]\n",
    "polls['samplesize'] = polls['samplesize'].astype(np.int64)\n",
    "electoral_college = pd.read_csv('../datasets/electoral-college-votes.csv', names=['state', 'ElectoralVotes'])\n",
    "polls['Total'] = polls['rawpoll_clinton'] + polls['rawpoll_trump']\n",
    "polls['AdjTotal'] = polls['adjpoll_clinton'] + polls['adjpoll_trump']\n",
    "polls['Clinton'] = polls['rawpoll_clinton'] / polls['Total']\n",
    "polls['AdjClinton'] = polls['adjpoll_clinton'] / polls['AdjTotal']\n",
    "polls['AdjTrump'] = polls['adjpoll_trump'] / polls['AdjTotal']\n",
    "polls['Trump'] = polls['rawpoll_trump'] / polls['Total']\n",
    "polls = polls[(~polls['state'].str.contains('CD'))]\n",
    "polls = polls[['pollster', 'grade', 'state', 'Clinton', 'Trump', 'AdjClinton', 'AdjTrump', 'samplesize']]\n",
    "state_polls = polls[polls['state'] != 'U.S.'].groupby('state', as_index=False).first()\n",
    "state_polls = pd.merge(state_polls, electoral_college, on='state')\n",
    "national_polls = polls[polls['state'] == 'U.S.'].head()"
   ]
  },
  {
   "cell_type": "markdown",
   "metadata": {},
   "source": [
    "A poll is like taking a sample of data from the true distribution. We imagine every American votes randomly accordingly to some true probability, `true_p`. A poll asks a small number of those Americans what their vote will be, and we use that sample to estimate `true_p`."
   ]
  },
  {
   "cell_type": "code",
   "execution_count": null,
   "metadata": {},
   "outputs": [],
   "source": [
    "national_polls"
   ]
  },
  {
   "cell_type": "code",
   "execution_count": null,
   "metadata": {},
   "outputs": [],
   "source": [
    "state_polls"
   ]
  },
  {
   "cell_type": "markdown",
   "metadata": {},
   "source": [
    "## TRY This\n",
    "\n",
    "Take a look at the national polls. \n",
    "Now look up the official national vote counts for Clinton and Trump.\n",
    "How accurate were those polls given the true probability. Use AdjClinton as the poll value."
   ]
  },
  {
   "cell_type": "code",
   "execution_count": null,
   "metadata": {
    "collapsed": true
   },
   "outputs": [],
   "source": [
    "# return the likelihood of a particular poll result given the true election result.\n",
    "def test_poll(sample_size, poll_value, true_result):\n",
    "    return test_estimate_out_of_bounds(..., ..., ...)"
   ]
  },
  {
   "cell_type": "markdown",
   "metadata": {},
   "source": [
    "## Margin of error\n",
    "What's important about a poll is not just its percentage, but its margin of error: the range of true percentages that would be consistent with it. Precisely, it means that the true percentage is within the poll's value with a high probability, generally 95%. "
   ]
  },
  {
   "cell_type": "markdown",
   "metadata": {},
   "source": [
    "## TRY This\n",
    "Look at the national polls.\n",
    "Given the true percentage, what range of true results would be consistent with that poll? \n",
    "Plug a range of different values into test_poll and choose the highest and lowest values which have likelihood > 5%\n",
    "\n",
    "Is the actual election result within the margin of error of the poll?"
   ]
  },
  {
   "cell_type": "code",
   "execution_count": null,
   "metadata": {
    "collapsed": true
   },
   "outputs": [],
   "source": [
    "# Use test_poll above and try different values of the true_result parameter. \n",
    "# Start at the poll_value itself and increment it by 0.001 until the \n",
    "# likelihood that it is consistent with the true result is < 5%.\n",
    "# Return the difference between this largest, acceptable value and poll_value.\n",
    "def margin_of_error(sample_size, poll_value):\n",
    "    diff = 0\n",
    "    while True:\n",
    "        likelihood = test_estimate_out_of_bounds(..., ..., ...)\n",
    "        if likelihood < 0.05\n",
    "        diff += 0.001\n",
    "    return diff * 2"
   ]
  },
  {
   "cell_type": "markdown",
   "metadata": {},
   "source": [
    "## T-stats and t-tests\n",
    "We don't have to use simulations to test whether our data matches some hypothetical normal distribution\n",
    "\n",
    "Instead, we can compute something called a t-statistic. The t-statistic itself follows a distribution, the t-distribution. When the computed t-statistic is an outlier value, then we can confidently reject our null hypothesis. Achieving that particular t-statistic by chance was too unlikely."
   ]
  },
  {
   "cell_type": "code",
   "execution_count": null,
   "metadata": {
    "collapsed": true
   },
   "outputs": [],
   "source": [
    "def t_stat(sample_size, poll_value, true_p):\n",
    "    sum_poll_values = poll_value * sample_size\n",
    "    s = sum_poll_values - (sum_poll_values * sum_poll_values) / sample_size\n",
    "    s = math.sqrt(s / (sample_size - 1))\n",
    "    return (poll_value - true_p) / (s / math.sqrt(sample_size))"
   ]
  },
  {
   "cell_type": "code",
   "execution_count": null,
   "metadata": {
    "collapsed": true
   },
   "outputs": [],
   "source": [
    "def t_test_poll(sample_size, poll_value, true_p):\n",
    "    t = t_stat(sample_size, poll_value, true_p)\n",
    "    likelihood = scipy.stats.t.sf(abs(t), sample_size - 1)\n",
    "    return likelihood"
   ]
  },
  {
   "cell_type": "markdown",
   "metadata": {},
   "source": [
    "## TRY This\n",
    "Calculate the margin of error again, this time using t_test_poll instead of test_poll"
   ]
  },
  {
   "cell_type": "code",
   "execution_count": null,
   "metadata": {
    "collapsed": true
   },
   "outputs": [],
   "source": [
    "def t_test_margin_of_error(sample_size, poll_value):\n",
    "    diff = 0\n",
    "    while True:\n",
    "        likelihood = t_test_poll(..., ..., ...)\n",
    "        if likelihood < 0.05:\n",
    "            diff += 0.001\n",
    "    return diff * 2"
   ]
  },
  {
   "cell_type": "markdown",
   "metadata": {},
   "source": [
    "## Election simulation 🗳️🇺🇸\n",
    "\n",
    "The USA uses the electoral college system, which is a lot more complex than a simple universal vote. Let's look at state polls to see what the electoral college estimates were. "
   ]
  },
  {
   "cell_type": "code",
   "execution_count": null,
   "metadata": {
    "collapsed": true
   },
   "outputs": [],
   "source": [
    "# given a poll value and a sample size, we estimate the chance of Clinton winning as the \n",
    "# likelihood that the true probability for a state is at least 50%\n",
    "def chance_win(sample_size, poll_value):\n",
    "    t = t_stat(sample_size, poll_value, 0.5)\n",
    "    return scipy.stats.t.cdf(t, sample_size - 1)"
   ]
  },
  {
   "cell_type": "code",
   "execution_count": null,
   "metadata": {
    "collapsed": true
   },
   "outputs": [],
   "source": [
    "state_polls['WinProb'] = state_polls.apply(lambda row: chance_win(row['samplesize'], row['AdjClinton']), axis=1)"
   ]
  },
  {
   "cell_type": "code",
   "execution_count": null,
   "metadata": {
    "collapsed": true
   },
   "outputs": [],
   "source": [
    "# swing states\n",
    "state_polls[(state_polls['WinProb'] >= 0.01) & (state_polls['WinProb'] <= 0.99)]"
   ]
  },
  {
   "cell_type": "markdown",
   "metadata": {},
   "source": [
    "## Try this\n",
    "Run a simulation of 10000 elections. For each simulation, for each state, simulate whether\n",
    "Clinton wins the state according to the WinProb column. If Clinton gets over 270 electoral votes, she wins. How many simulated elections does Clinton win in this way?"
   ]
  },
  {
   "cell_type": "code",
   "execution_count": null,
   "metadata": {
    "collapsed": true
   },
   "outputs": [],
   "source": [
    "num_wins = 0\n",
    "for i in range(10000):\n",
    "    state_polls['ClintonWin'] = ... # 1 if clinton won the state in this simulation and 0 otherwise\n",
    "    state_polls['ElectoralWon'] = ... # the number of electoral votes in a state if Clinton won it and 0 otherwise\n",
    "    total_won = ... # total electoral votes won in this simulation \n",
    "    if total_won >= ...:\n",
    "        num_wins += 1\n",
    "num_wins / 10000"
   ]
  },
  {
   "cell_type": "markdown",
   "metadata": {},
   "source": [
    "Does this seem accurate? Look at state_polls. What seems wrong?"
   ]
  },
  {
   "cell_type": "markdown",
   "metadata": {},
   "source": [
    "What happens if we increase our uncertainty about winning by lowering the effective sample size to 100?"
   ]
  },
  {
   "cell_type": "code",
   "execution_count": null,
   "metadata": {
    "collapsed": true
   },
   "outputs": [],
   "source": [
    "state_polls['WinProb'] = state_polls.apply(lambda row: chance_win(100, row['AdjClinton']), axis=1)"
   ]
  }
 ],
 "metadata": {
  "kernelspec": {
   "display_name": "Python 3",
   "language": "python",
   "name": "python3"
  },
  "language_info": {
   "codemirror_mode": {
    "name": "ipython",
    "version": 3
   },
   "file_extension": ".py",
   "mimetype": "text/x-python",
   "name": "python",
   "nbconvert_exporter": "python",
   "pygments_lexer": "ipython3",
   "version": "3.6.1"
  }
 },
 "nbformat": 4,
 "nbformat_minor": 2
}
