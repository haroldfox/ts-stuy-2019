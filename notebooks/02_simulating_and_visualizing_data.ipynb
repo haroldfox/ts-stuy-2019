{
 "cells": [
  {
   "cell_type": "code",
   "execution_count": 2,
   "metadata": {
    "collapsed": true
   },
   "outputs": [],
   "source": [
    "import pandas as pd   # We give the libraries short names for easier referencing\n",
    "import numpy as np\n",
    "import datetime\n",
    "import matplotlib.pyplot as plt\n",
    "import seaborn as sns\n",
    "import datetime\n",
    "%matplotlib inline  \n",
    "# This allows us to display plots right within our Jupyter notebook"
   ]
  },
  {
   "cell_type": "markdown",
   "metadata": {},
   "source": [
    "## 1. Brief Recap of Last Session"
   ]
  },
  {
   "cell_type": "markdown",
   "metadata": {
    "collapsed": true
   },
   "source": [
    "Last week we introduced Pandas DataFrames and Series objects. Let's start off with a few exercises to review some of the concepts we talked about last week:\n",
    "\n",
    "1). Using np.random.normal(size=(rows, columns)), construct a Pandas DataFrame with columns 'a', 'b', 'c' (use the default integer index). \n",
    "\n",
    "2). Before doing any experiments, what is the probability that a row in your DataFrame satisfies (a>0, b>0, c<0)? \n",
    "\n",
    "3). Using what you know about filtering DataFrames, test your prediction. If you repeat the experiment and make 'rows' larger when you construct the DataFrame, what do you see?\n",
    "\n",
    "4). Write a little function that only returns positive normal random variables. In other words, your function should first generate a candidate normal random variable, discard it if it isn't positive, then try again, etc. Now, add a new column to your DataFrame, 'd', with only positive normal random variables. Find the number of rows such that a,b>d, and c<d. \n",
    "\n",
    "5). You now have a df with 4 columns. Construct a Pandas Series called Sers with the same index as your df; if a,b>d and c<d, the corresponding entry in Sers should be equal to d. Otherwise, it should be a^2+b^2+c^2. "
   ]
  },
  {
   "cell_type": "markdown",
   "metadata": {},
   "source": [
    "## 2. Missing Data, Dtypes, Merges:"
   ]
  },
  {
   "cell_type": "markdown",
   "metadata": {},
   "source": [
    "We're going to analyze Spotify data. The data exists in three csv files. Let's pull those into our notebook now:"
   ]
  },
  {
   "cell_type": "code",
   "execution_count": 3,
   "metadata": {
    "collapsed": true
   },
   "outputs": [],
   "source": [
    "data_dir = '../datasets/kworb/'\n",
    "artists = pd.read_csv(data_dir + 'artists.csv')\n",
    "tracks = pd.read_csv(data_dir + 'tracks.csv')\n",
    "track_daily = pd.read_csv(data_dir + 'track_daily.csv')"
   ]
  },
  {
   "cell_type": "code",
   "execution_count": 4,
   "metadata": {
    "collapsed": false
   },
   "outputs": [
    {
     "name": "stdout",
     "output_type": "stream",
     "text": [
      "(10000, 4)\n",
      "(47599, 66)\n",
      "(416752, 61)\n"
     ]
    }
   ],
   "source": [
    "print(artists.shape)\n",
    "print(tracks.shape)\n",
    "print(track_daily.shape)"
   ]
  },
  {
   "cell_type": "markdown",
   "metadata": {},
   "source": [
    "The data in track_daily has different columns for different countries (as well as a column specifying the track, the global plays, and the date), and different rows corresponding to track plays on different days. Take a look at the columns in our dataframe."
   ]
  },
  {
   "cell_type": "code",
   "execution_count": 5,
   "metadata": {
    "collapsed": false
   },
   "outputs": [
    {
     "data": {
      "text/plain": [
       "Index([u'AD', u'AR', u'AT', u'AU', u'BE', u'BG', u'BO', u'BR', u'CA', u'CH',\n",
       "       u'CL', u'CO', u'CR', u'CY', u'CZ', u'DE', u'DK', u'DO', u'Date', u'EC',\n",
       "       u'EE', u'ES', u'FI', u'FR', u'GB', u'GR', u'GT', u'Global', u'HK',\n",
       "       u'HN', u'HU', u'ID', u'IE', u'IS', u'IT', u'JP', u'LT', u'LU', u'LV',\n",
       "       u'MT', u'MX', u'MY', u'NI', u'NL', u'NO', u'NZ', u'PA', u'PE', u'PH',\n",
       "       u'PL', u'PT', u'PY', u'SE', u'SG', u'SK', u'SV', u'TR', u'TW',\n",
       "       u'TrackUrl', u'US', u'UY'],\n",
       "      dtype='object')"
      ]
     },
     "execution_count": 5,
     "metadata": {},
     "output_type": "execute_result"
    }
   ],
   "source": [
    "track_daily.columns"
   ]
  },
  {
   "cell_type": "markdown",
   "metadata": {},
   "source": [
    "Due to some commas we can't easily convert to an int or a float without some modification:"
   ]
  },
  {
   "cell_type": "code",
   "execution_count": 185,
   "metadata": {
    "collapsed": false
   },
   "outputs": [
    {
     "name": "stdout",
     "output_type": "stream",
     "text": [
      "1,132\n",
      "True\n",
      "Try this instead:\n",
      "1132\n"
     ]
    }
   ],
   "source": [
    "print(track_daily['AD'].loc[10])\n",
    "print(isinstance(track_daily['AD'].loc[10],str))\n",
    "\n",
    "try: \n",
    "    numerical_val = int(track_daily['AD'].loc[10])\n",
    "except:\n",
    "    print(\"Try this instead:\")\n",
    "    numerical_val = int(track_daily['AD'].loc[10].replace(\",\",\"\"))\n",
    "    print(numerical_val)"
   ]
  },
  {
   "cell_type": "markdown",
   "metadata": {},
   "source": [
    "Using pd.to_numeric, we can convert the df to a form that's easier to work with (the following will take a few seconds, but we only have to do it once):"
   ]
  },
  {
   "cell_type": "code",
   "execution_count": 6,
   "metadata": {
    "collapsed": false
   },
   "outputs": [],
   "source": [
    "for col in track_daily.columns:\n",
    "    if col=='TrackUrl':\n",
    "        continue\n",
    "    track_daily[col] = pd.to_numeric(track_daily[col].str.replace(\",\",\"\"), errors='coerce')"
   ]
  },
  {
   "cell_type": "markdown",
   "metadata": {},
   "source": [
    "We explored a few important concepts above. First, what is the errors='coerce' doing? Try the following:"
   ]
  },
  {
   "cell_type": "code",
   "execution_count": 186,
   "metadata": {
    "collapsed": false,
    "scrolled": true
   },
   "outputs": [
    {
     "name": "stdout",
     "output_type": "stream",
     "text": [
      "That didn't work!\n"
     ]
    }
   ],
   "source": [
    "sers1 = pd.Series(['a','b','1','2','3'])\n",
    "try:\n",
    "    numeric_sers = pd.to_numeric(sers1)\n",
    "except:\n",
    "    print(\"That didn't work!\")\n",
    "    numeric_sers = pd.to_numeric(sers1, errors='coerce')"
   ]
  },
  {
   "cell_type": "code",
   "execution_count": 147,
   "metadata": {
    "collapsed": false
   },
   "outputs": [
    {
     "data": {
      "text/plain": [
       "0    NaN\n",
       "1    NaN\n",
       "2    1.0\n",
       "3    2.0\n",
       "4    3.0\n",
       "dtype: float64"
      ]
     },
     "execution_count": 147,
     "metadata": {},
     "output_type": "execute_result"
    }
   ],
   "source": [
    "numeric_sers"
   ]
  },
  {
   "cell_type": "markdown",
   "metadata": {},
   "source": [
    "What happened to all the letters that couldn't be converted to numbers? We see NaN, which stands for not a number. Let's look at few properties of NaNs below:"
   ]
  },
  {
   "cell_type": "code",
   "execution_count": 148,
   "metadata": {
    "collapsed": false
   },
   "outputs": [
    {
     "data": {
      "text/plain": [
       "True"
      ]
     },
     "execution_count": 148,
     "metadata": {},
     "output_type": "execute_result"
    }
   ],
   "source": [
    "#Adding just one nan can ruin everything!\n",
    "good_vals = pd.Series(np.random.normal(size=100))\n",
    "bad_vals = good_vals + np.nan\n",
    "np.all(np.isnan(bad_vals))"
   ]
  },
  {
   "cell_type": "markdown",
   "metadata": {},
   "source": [
    "NaN can mean a lot of things, but most of the time NaN means missing data. It's generally good practice to try to understand why data is missing. How do we deal with NaN? That depends on the context. One thing we can do is just replace all the NaN with zero:"
   ]
  },
  {
   "cell_type": "code",
   "execution_count": 149,
   "metadata": {
    "collapsed": false
   },
   "outputs": [
    {
     "data": {
      "text/plain": [
       "0    0.0\n",
       "1    0.0\n",
       "2    1.0\n",
       "3    2.0\n",
       "4    3.0\n",
       "dtype: float64"
      ]
     },
     "execution_count": 149,
     "metadata": {},
     "output_type": "execute_result"
    }
   ],
   "source": [
    "numeric_sers.fillna(0.)"
   ]
  },
  {
   "cell_type": "markdown",
   "metadata": {},
   "source": [
    "Can you think of any cases when that wouldn't be a good idea? \n",
    "Hint: Look at the following:"
   ]
  },
  {
   "cell_type": "code",
   "execution_count": 150,
   "metadata": {
    "collapsed": false
   },
   "outputs": [
    {
     "data": {
      "text/plain": [
       "1.2"
      ]
     },
     "execution_count": 150,
     "metadata": {},
     "output_type": "execute_result"
    }
   ],
   "source": [
    "numeric_sers.fillna(0.).mean()"
   ]
  },
  {
   "cell_type": "markdown",
   "metadata": {},
   "source": [
    "Consider the following alternatives to the above, what do you think they're doing?"
   ]
  },
  {
   "cell_type": "code",
   "execution_count": 151,
   "metadata": {
    "collapsed": false
   },
   "outputs": [
    {
     "name": "stdout",
     "output_type": "stream",
     "text": [
      "2.0\n",
      "2.0\n"
     ]
    }
   ],
   "source": [
    "val1 = numeric_sers[np.isfinite(numeric_sers)].mean()\n",
    "val2 = np.nanmean(numeric_sers)\n",
    "print(val1)\n",
    "print(val2)\n",
    "\n",
    "# Does pandas do the 'right' thing automatically?\n",
    "val3 = numeric_sers.mean()\n",
    "\n",
    "# What about for sums?\n",
    "val4 = numeric_sers.sum()"
   ]
  },
  {
   "cell_type": "markdown",
   "metadata": {},
   "source": [
    "Let's test how the 'Global' column is related to the sum of the other columns (ignoring Date and TrackUrl):"
   ]
  },
  {
   "cell_type": "code",
   "execution_count": 7,
   "metadata": {
    "collapsed": false
   },
   "outputs": [],
   "source": [
    "track_daily['all_vals'] = track_daily[\n",
    "    [i for i in track_daily.columns if i not in ['Date','TrackUrl','Global']]\n",
    "].sum(axis=1)"
   ]
  },
  {
   "cell_type": "code",
   "execution_count": 8,
   "metadata": {
    "collapsed": false,
    "scrolled": true
   },
   "outputs": [
    {
     "data": {
      "text/html": [
       "<div>\n",
       "<table border=\"1\" class=\"dataframe\">\n",
       "  <thead>\n",
       "    <tr style=\"text-align: right;\">\n",
       "      <th></th>\n",
       "      <th>all_vals</th>\n",
       "      <th>Global</th>\n",
       "    </tr>\n",
       "  </thead>\n",
       "  <tbody>\n",
       "    <tr>\n",
       "      <th>all_vals</th>\n",
       "      <td>1.000000</td>\n",
       "      <td>0.997617</td>\n",
       "    </tr>\n",
       "    <tr>\n",
       "      <th>Global</th>\n",
       "      <td>0.997617</td>\n",
       "      <td>1.000000</td>\n",
       "    </tr>\n",
       "  </tbody>\n",
       "</table>\n",
       "</div>"
      ],
      "text/plain": [
       "          all_vals    Global\n",
       "all_vals  1.000000  0.997617\n",
       "Global    0.997617  1.000000"
      ]
     },
     "execution_count": 8,
     "metadata": {},
     "output_type": "execute_result"
    }
   ],
   "source": [
    "# A correlation coefficient is a number between [0,1] which tells us something about how closely related two \n",
    "# vectors (or random variables) are. When vector1 = a*vector2 + b for some numbers a,b then these two \n",
    "# vectors are perfectly correlated (correlation = 1). \n",
    "\n",
    "# df.corr() shows us a correlation matrix between the columns of a df:\n",
    "track_daily[['all_vals','Global']].corr()"
   ]
  },
  {
   "cell_type": "code",
   "execution_count": 9,
   "metadata": {
    "collapsed": false
   },
   "outputs": [
    {
     "data": {
      "text/plain": [
       "1.2024523204527295"
      ]
     },
     "execution_count": 9,
     "metadata": {},
     "output_type": "execute_result"
    }
   ],
   "source": [
    "# However, our interpretation of the meaning of column 'Global' may be suspect:\n",
    "track_daily['all_vals'].sum()/track_daily['Global'].sum()"
   ]
  },
  {
   "cell_type": "markdown",
   "metadata": {},
   "source": [
    "To do our analysis, we'll need to use information from all of the data sets above. For instance, 'tracks' won't necessarily tell us the name of the artist:"
   ]
  },
  {
   "cell_type": "code",
   "execution_count": 10,
   "metadata": {
    "collapsed": false
   },
   "outputs": [
    {
     "data": {
      "text/plain": [
       "Index([u'AD', u'AR', u'AT', u'AU', u'ArtistUrl', u'BE', u'BG', u'BO', u'BR',\n",
       "       u'CA', u'CH', u'CL', u'CO', u'CR', u'CY', u'CZ', u'DE', u'DK', u'DO',\n",
       "       u'EC', u'EE', u'ES', u'FI', u'FR', u'GB', u'GR', u'GT', u'Global',\n",
       "       u'HK', u'HN', u'HU', u'ID', u'IE', u'IS', u'IT', u'JP', u'LT', u'LU',\n",
       "       u'LV', u'MT', u'MX', u'MY', u'NI', u'NL', u'NO', u'NZ', u'PA', u'PE',\n",
       "       u'PH', u'PL', u'PT', u'PY', u'Peak Date', u'SE', u'SG', u'SK', u'SV',\n",
       "       u'Streams', u'TR', u'TW', u'Track_href', u'Track_name', u'US', u'UY',\n",
       "       u'With_href', u'With_name'],\n",
       "      dtype='object')"
      ]
     },
     "execution_count": 10,
     "metadata": {},
     "output_type": "execute_result"
    }
   ],
   "source": [
    "tracks.columns"
   ]
  },
  {
   "cell_type": "code",
   "execution_count": 11,
   "metadata": {
    "collapsed": false
   },
   "outputs": [
    {
     "data": {
      "text/plain": [
       "Index([u'Name', u'Pos', u'Total', u'Url'], dtype='object')"
      ]
     },
     "execution_count": 11,
     "metadata": {},
     "output_type": "execute_result"
    }
   ],
   "source": [
    "artists.columns"
   ]
  },
  {
   "cell_type": "markdown",
   "metadata": {},
   "source": [
    "But we can use the df artists to find who each track is by. Look at the following:"
   ]
  },
  {
   "cell_type": "code",
   "execution_count": 12,
   "metadata": {
    "collapsed": false,
    "scrolled": false
   },
   "outputs": [
    {
     "data": {
      "text/html": [
       "<div>\n",
       "<table border=\"1\" class=\"dataframe\">\n",
       "  <thead>\n",
       "    <tr style=\"text-align: right;\">\n",
       "      <th></th>\n",
       "      <th>Name</th>\n",
       "      <th>Pos</th>\n",
       "      <th>Total</th>\n",
       "      <th>Url</th>\n",
       "    </tr>\n",
       "  </thead>\n",
       "  <tbody>\n",
       "    <tr>\n",
       "      <th>0</th>\n",
       "      <td>Drake</td>\n",
       "      <td>1</td>\n",
       "      <td>9,243,451,212</td>\n",
       "      <td>artist/3TVXtAsR1Inumwj472S9r4.html</td>\n",
       "    </tr>\n",
       "  </tbody>\n",
       "</table>\n",
       "</div>"
      ],
      "text/plain": [
       "    Name  Pos          Total                                 Url\n",
       "0  Drake    1  9,243,451,212  artist/3TVXtAsR1Inumwj472S9r4.html"
      ]
     },
     "execution_count": 12,
     "metadata": {},
     "output_type": "execute_result"
    }
   ],
   "source": [
    "artists[artists['Url']==tracks['ArtistUrl'].loc[0]]"
   ]
  },
  {
   "cell_type": "markdown",
   "metadata": {},
   "source": [
    "How can relate track_daily to tracks? Perhaps we can use 'url', but first let's look at some of the values:"
   ]
  },
  {
   "cell_type": "code",
   "execution_count": 13,
   "metadata": {
    "collapsed": false
   },
   "outputs": [
    {
     "data": {
      "text/plain": [
       "'../track/6cT5orvyKqwghJp6KB9vG0.html'"
      ]
     },
     "execution_count": 13,
     "metadata": {},
     "output_type": "execute_result"
    }
   ],
   "source": [
    "tracks['Track_href'].loc[0]"
   ]
  },
  {
   "cell_type": "code",
   "execution_count": 14,
   "metadata": {
    "collapsed": false
   },
   "outputs": [
    {
     "data": {
      "text/plain": [
       "'track/1jptfRmRAdxA2REY3GBY3C.html'"
      ]
     },
     "execution_count": 14,
     "metadata": {},
     "output_type": "execute_result"
    }
   ],
   "source": [
    "track_daily['TrackUrl'].loc[0]"
   ]
  },
  {
   "cell_type": "markdown",
   "metadata": {},
   "source": [
    "We will need to do the following before comparing the two (why?):"
   ]
  },
  {
   "cell_type": "code",
   "execution_count": 15,
   "metadata": {
    "collapsed": true
   },
   "outputs": [],
   "source": [
    "tracks['TrackUrl'] = [x[3:] for x in tracks['Track_href']]"
   ]
  },
  {
   "cell_type": "markdown",
   "metadata": {},
   "source": [
    "Note that there are also duplications in the TrackUrl columns (look at the columns 'With_name' to see why there were duplications):"
   ]
  },
  {
   "cell_type": "code",
   "execution_count": 16,
   "metadata": {
    "collapsed": false
   },
   "outputs": [
    {
     "data": {
      "text/html": [
       "<div>\n",
       "<table border=\"1\" class=\"dataframe\">\n",
       "  <thead>\n",
       "    <tr style=\"text-align: right;\">\n",
       "      <th></th>\n",
       "      <th>AD</th>\n",
       "      <th>AR</th>\n",
       "      <th>AT</th>\n",
       "      <th>AU</th>\n",
       "      <th>ArtistUrl</th>\n",
       "      <th>BE</th>\n",
       "      <th>BG</th>\n",
       "      <th>BO</th>\n",
       "      <th>BR</th>\n",
       "      <th>CA</th>\n",
       "      <th>...</th>\n",
       "      <th>Streams</th>\n",
       "      <th>TR</th>\n",
       "      <th>TW</th>\n",
       "      <th>Track_href</th>\n",
       "      <th>Track_name</th>\n",
       "      <th>US</th>\n",
       "      <th>UY</th>\n",
       "      <th>With_href</th>\n",
       "      <th>With_name</th>\n",
       "      <th>TrackUrl</th>\n",
       "    </tr>\n",
       "  </thead>\n",
       "  <tbody>\n",
       "    <tr>\n",
       "      <th>224</th>\n",
       "      <td>--</td>\n",
       "      <td>149</td>\n",
       "      <td>119</td>\n",
       "      <td>58</td>\n",
       "      <td>artist/6eUKZXaKkcviH0Ku9w2n3V.html</td>\n",
       "      <td>73</td>\n",
       "      <td>16</td>\n",
       "      <td>139</td>\n",
       "      <td>119</td>\n",
       "      <td>21</td>\n",
       "      <td>...</td>\n",
       "      <td>48,837,201</td>\n",
       "      <td>84</td>\n",
       "      <td>114</td>\n",
       "      <td>../track/0Gi17qCJh9e9RJxLaYkm9l.html</td>\n",
       "      <td>Dark Times</td>\n",
       "      <td>18</td>\n",
       "      <td>190</td>\n",
       "      <td>1Xyo4u8uXC1ZmMpatF05PJ.html</td>\n",
       "      <td>The Weeknd</td>\n",
       "      <td>track/0Gi17qCJh9e9RJxLaYkm9l.html</td>\n",
       "    </tr>\n",
       "    <tr>\n",
       "      <th>291</th>\n",
       "      <td>--</td>\n",
       "      <td>149</td>\n",
       "      <td>119</td>\n",
       "      <td>58</td>\n",
       "      <td>artist/1Xyo4u8uXC1ZmMpatF05PJ.html</td>\n",
       "      <td>73</td>\n",
       "      <td>16</td>\n",
       "      <td>139</td>\n",
       "      <td>119</td>\n",
       "      <td>21</td>\n",
       "      <td>...</td>\n",
       "      <td>48,837,201</td>\n",
       "      <td>84</td>\n",
       "      <td>114</td>\n",
       "      <td>../track/0Gi17qCJh9e9RJxLaYkm9l.html</td>\n",
       "      <td>Dark Times</td>\n",
       "      <td>18</td>\n",
       "      <td>190</td>\n",
       "      <td>6eUKZXaKkcviH0Ku9w2n3V.html</td>\n",
       "      <td>Ed Sheeran</td>\n",
       "      <td>track/0Gi17qCJh9e9RJxLaYkm9l.html</td>\n",
       "    </tr>\n",
       "  </tbody>\n",
       "</table>\n",
       "<p>2 rows × 67 columns</p>\n",
       "</div>"
      ],
      "text/plain": [
       "     AD   AR   AT  AU                           ArtistUrl  BE  BG   BO   BR  \\\n",
       "224  --  149  119  58  artist/6eUKZXaKkcviH0Ku9w2n3V.html  73  16  139  119   \n",
       "291  --  149  119  58  artist/1Xyo4u8uXC1ZmMpatF05PJ.html  73  16  139  119   \n",
       "\n",
       "     CA                ...                     Streams  TR   TW  \\\n",
       "224  21                ...                  48,837,201  84  114   \n",
       "291  21                ...                  48,837,201  84  114   \n",
       "\n",
       "                               Track_href  Track_name  US   UY  \\\n",
       "224  ../track/0Gi17qCJh9e9RJxLaYkm9l.html  Dark Times  18  190   \n",
       "291  ../track/0Gi17qCJh9e9RJxLaYkm9l.html  Dark Times  18  190   \n",
       "\n",
       "                       With_href   With_name  \\\n",
       "224  1Xyo4u8uXC1ZmMpatF05PJ.html  The Weeknd   \n",
       "291  6eUKZXaKkcviH0Ku9w2n3V.html  Ed Sheeran   \n",
       "\n",
       "                              TrackUrl  \n",
       "224  track/0Gi17qCJh9e9RJxLaYkm9l.html  \n",
       "291  track/0Gi17qCJh9e9RJxLaYkm9l.html  \n",
       "\n",
       "[2 rows x 67 columns]"
      ]
     },
     "execution_count": 16,
     "metadata": {},
     "output_type": "execute_result"
    }
   ],
   "source": [
    "dup = tracks[tracks['TrackUrl'].duplicated()]['TrackUrl']\n",
    "tracks[tracks['TrackUrl']==dup.iloc[0]]"
   ]
  },
  {
   "cell_type": "markdown",
   "metadata": {},
   "source": [
    "Let's add some extra columns to the data to help us analyze it:"
   ]
  },
  {
   "cell_type": "code",
   "execution_count": 17,
   "metadata": {
    "collapsed": false
   },
   "outputs": [],
   "source": [
    "# Warning! Once you execute this cell, you'll get errors if you try to execute again. \n",
    "\n",
    "tracks = tracks.merge(artists[['Name','Url']], left_on = 'ArtistUrl', right_on = 'Url')\n",
    "\n",
    "unique_tracks = tracks[np.invert(tracks['TrackUrl'].duplicated())][['Name', 'TrackUrl']]\n",
    "track_daily = track_daily.merge(unique_tracks, left_on = 'TrackUrl', right_on = 'TrackUrl')"
   ]
  },
  {
   "cell_type": "markdown",
   "metadata": {},
   "source": [
    "## 3. Data Visualization:"
   ]
  },
  {
   "cell_type": "markdown",
   "metadata": {},
   "source": [
    "Let's get a sense for what the data looks like over time. Unfortunately, not all of the 'Date' column contains valid numbers, so we'll just ignore observations for which that isn't present. For instance, what is the sum of streams in the US, and Colombia, on each day?"
   ]
  },
  {
   "cell_type": "code",
   "execution_count": 18,
   "metadata": {
    "collapsed": false
   },
   "outputs": [],
   "source": [
    "daily_aggregate = track_daily[np.isfinite(track_daily['Date'])].groupby('Date').aggregate({'US':np.sum, 'CO':np.sum})"
   ]
  },
  {
   "cell_type": "code",
   "execution_count": null,
   "metadata": {
    "collapsed": true
   },
   "outputs": [],
   "source": [
    "# Take a look at the df we've created:\n",
    "daily_aggregate.head()"
   ]
  },
  {
   "cell_type": "code",
   "execution_count": 19,
   "metadata": {
    "collapsed": false
   },
   "outputs": [],
   "source": [
    "# Let's convert the index to something easier to plot:\n",
    "daily_aggregate.index = daily_aggregate.index.map(lambda x: pd.to_datetime(str(int(x)), format='%Y%m%d'))"
   ]
  },
  {
   "cell_type": "markdown",
   "metadata": {},
   "source": [
    "Above, we introduced an important concept called a 'lambda' function. This is essentially a one-line function which isn't necessarily stored. For instance, look at the following:"
   ]
  },
  {
   "cell_type": "code",
   "execution_count": 227,
   "metadata": {
    "collapsed": false
   },
   "outputs": [
    {
     "data": {
      "text/plain": [
       "144"
      ]
     },
     "execution_count": 227,
     "metadata": {},
     "output_type": "execute_result"
    }
   ],
   "source": [
    "f = lambda x: x**2\n",
    "f(12)"
   ]
  },
  {
   "cell_type": "markdown",
   "metadata": {},
   "source": [
    "#### **TRY THIS!**\n",
    "\n",
    "Try to make sense of the following cell. Once you see what is going on, try making a new index, called new_idx, using daily_aggregate.index.map, and a lambda function that shifts each day in the index forward by 1. Hint: Try something like old_date + pd.Timedelta(1). Be careful not to overwrite daily_aggregate's index like we did in the cell above!"
   ]
  },
  {
   "cell_type": "code",
   "execution_count": 56,
   "metadata": {
    "collapsed": false
   },
   "outputs": [
    {
     "data": {
      "text/plain": [
       "True"
      ]
     },
     "execution_count": 56,
     "metadata": {},
     "output_type": "execute_result"
    }
   ],
   "source": [
    "df = pd.DataFrame(np.random.normal(size=(100,3)))\n",
    "v1 = df.apply(lambda x: (x[0]+x[1])*x[2], axis = 1)\n",
    "v2 = (df[0]+df[1])*df[2]\n",
    "np.allclose(v1,v2)"
   ]
  },
  {
   "cell_type": "markdown",
   "metadata": {},
   "source": [
    "Now, let's plot the daily_aggregate data as a function of time:"
   ]
  },
  {
   "cell_type": "code",
   "execution_count": 20,
   "metadata": {
    "collapsed": false,
    "scrolled": true
   },
   "outputs": [
    {
     "data": {
      "text/plain": [
       "<matplotlib.axes._subplots.AxesSubplot at 0x1255b3cd0>"
      ]
     },
     "execution_count": 20,
     "metadata": {},
     "output_type": "execute_result"
    },
    {
     "data": {
      "image/png": "[encoded data removed]",
      "text/plain": [
       "<matplotlib.figure.Figure at 0x1255b3650>"
      ]
     },
     "metadata": {},
     "output_type": "display_data"
    }
   ],
   "source": [
    "daily_aggregate.plot()"
   ]
  },
  {
   "cell_type": "markdown",
   "metadata": {},
   "source": [
    "Obviously the curves above are on a different scale, and a more sensible number might be if we 'normalized' the data by population. It is easy to see that US is increasing over time. "
   ]
  },
  {
   "cell_type": "markdown",
   "metadata": {},
   "source": [
    "#### **TRY THIS!**\n",
    "\n",
    "How correlated are Colombia and US? What do you think is driving the trends we see above?"
   ]
  },
  {
   "cell_type": "markdown",
   "metadata": {},
   "source": [
    "You can customize your plots as well:"
   ]
  },
  {
   "cell_type": "code",
   "execution_count": 21,
   "metadata": {
    "collapsed": false
   },
   "outputs": [
    {
     "data": {
      "text/plain": [
       "<matplotlib.text.Text at 0x12a3c7b10>"
      ]
     },
     "execution_count": 21,
     "metadata": {},
     "output_type": "execute_result"
    },
    {
     "data": {
      "image/png": "[encoded data removed]",
      "text/plain": [
       "<matplotlib.figure.Figure at 0x12347d190>"
      ]
     },
     "metadata": {},
     "output_type": "display_data"
    }
   ],
   "source": [
    "legend = {'CO':'b', 'US':'r'}\n",
    "daily_aggregate.plot(style = legend)\n",
    "plt.title(\"Spotify data as a function of time\",fontsize=20)\n",
    "plt.ylabel(\"Streams\",fontsize=20)\n",
    "plt.xlabel(\"Time\",fontsize=20)"
   ]
  },
  {
   "cell_type": "markdown",
   "metadata": {},
   "source": [
    "We can plot only the data from the US in 2017:"
   ]
  },
  {
   "cell_type": "code",
   "execution_count": 22,
   "metadata": {
    "collapsed": false,
    "scrolled": true
   },
   "outputs": [
    {
     "data": {
      "text/plain": [
       "<matplotlib.axes._subplots.AxesSubplot at 0x1298ef750>"
      ]
     },
     "execution_count": 22,
     "metadata": {},
     "output_type": "execute_result"
    },
    {
     "data": {
      "image/png": "[encoded data removed]",
      "text/plain": [
       "<matplotlib.figure.Figure at 0x119e190d0>"
      ]
     },
     "metadata": {},
     "output_type": "display_data"
    }
   ],
   "source": [
    "daily_aggregate[daily_aggregate.index.map(lambda x: x.year==2017)]['US'].plot()"
   ]
  },
  {
   "cell_type": "markdown",
   "metadata": {},
   "source": [
    "#### **TRY THIS!**\n",
    "\n",
    "Plot only the data in daily_aggregate for which the day is even. Hint: to get the day of the first entry in the df, you can do daily_aggregate.index[0].day. \n",
    "\n",
    "Pandas is good about ignoring days that are missing from the index when plotting, but you might not even be able to tell a difference between the plot when you filter by even day. Try printing the length of the dfs to confirm your filtering is doing the right thing."
   ]
  },
  {
   "cell_type": "markdown",
   "metadata": {},
   "source": [
    "Let's plot 2016 data by month:"
   ]
  },
  {
   "cell_type": "code",
   "execution_count": 23,
   "metadata": {
    "collapsed": true
   },
   "outputs": [],
   "source": [
    "_2016_data = daily_aggregate[daily_aggregate.index.map(lambda x: x.year==2016)]\n",
    "_2016_monthly = _2016_data.groupby(lambda x:x.month).aggregate(np.sum)"
   ]
  },
  {
   "cell_type": "code",
   "execution_count": null,
   "metadata": {
    "collapsed": true
   },
   "outputs": [],
   "source": [
    "_2016_monthly.head()"
   ]
  },
  {
   "cell_type": "code",
   "execution_count": 24,
   "metadata": {
    "collapsed": false
   },
   "outputs": [
    {
     "data": {
      "text/plain": [
       "<matplotlib.axes._subplots.AxesSubplot at 0x11ff16250>"
      ]
     },
     "execution_count": 24,
     "metadata": {},
     "output_type": "execute_result"
    },
    {
     "data": {
      "image/png": "[encoded data removed]",
      "text/plain": [
       "<matplotlib.figure.Figure at 0x122979850>"
      ]
     },
     "metadata": {},
     "output_type": "display_data"
    }
   ],
   "source": [
    "_2016_monthly.plot(kind='bar')"
   ]
  },
  {
   "cell_type": "markdown",
   "metadata": {},
   "source": [
    "Do you think it is safe to make any conclusions about monthly trends from the plot above? What if we grouped the entire data set by month:"
   ]
  },
  {
   "cell_type": "code",
   "execution_count": 25,
   "metadata": {
    "collapsed": false
   },
   "outputs": [
    {
     "data": {
      "text/plain": [
       "<matplotlib.axes._subplots.AxesSubplot at 0x122d06f50>"
      ]
     },
     "execution_count": 25,
     "metadata": {},
     "output_type": "execute_result"
    },
    {
     "data": {
      "image/png": "[encoded data removed]",
      "text/plain": [
       "<matplotlib.figure.Figure at 0x122cfa090>"
      ]
     },
     "metadata": {},
     "output_type": "display_data"
    }
   ],
   "source": [
    "daily_aggregate.groupby(lambda x:x.month).aggregate(np.sum).plot(kind='bar')"
   ]
  },
  {
   "cell_type": "markdown",
   "metadata": {},
   "source": [
    "The above bar plot seems entirely different. We shouldn't make conclusions about monthly patterns yet since we see a very obvious 'trend' in the data. In a later lesson, you will learn more about how to estimate models and extract 'residuals'. A related question is, how might we model the data as a function of time? Linear? Something else? Do you have a hypothesis for how this data might evolve? For instance, if I tell two people about Spotify, and they tell two people about Spotify, and they tell two people..."
   ]
  },
  {
   "cell_type": "markdown",
   "metadata": {},
   "source": [
    "Now, let's test plotting the data by artist:"
   ]
  },
  {
   "cell_type": "code",
   "execution_count": 26,
   "metadata": {
    "collapsed": false,
    "scrolled": true
   },
   "outputs": [
    {
     "data": {
      "text/html": [
       "<div>\n",
       "<table border=\"1\" class=\"dataframe\">\n",
       "  <thead>\n",
       "    <tr style=\"text-align: right;\">\n",
       "      <th></th>\n",
       "      <th>CO</th>\n",
       "      <th>US</th>\n",
       "    </tr>\n",
       "    <tr>\n",
       "      <th>Name</th>\n",
       "      <th></th>\n",
       "      <th></th>\n",
       "    </tr>\n",
       "  </thead>\n",
       "  <tbody>\n",
       "    <tr>\n",
       "      <th>AC/DC</th>\n",
       "      <td>36300.0</td>\n",
       "      <td>0.0</td>\n",
       "    </tr>\n",
       "    <tr>\n",
       "      <th>Alejandro Fernandez</th>\n",
       "      <td>91470.0</td>\n",
       "      <td>0.0</td>\n",
       "    </tr>\n",
       "    <tr>\n",
       "      <th>Alejandro Sanz</th>\n",
       "      <td>521363.0</td>\n",
       "      <td>0.0</td>\n",
       "    </tr>\n",
       "    <tr>\n",
       "      <th>Alexis &amp; Fido</th>\n",
       "      <td>7001186.0</td>\n",
       "      <td>0.0</td>\n",
       "    </tr>\n",
       "    <tr>\n",
       "      <th>Alkilados</th>\n",
       "      <td>3336128.0</td>\n",
       "      <td>0.0</td>\n",
       "    </tr>\n",
       "    <tr>\n",
       "      <th>Alkilados Feat Mike Bahia</th>\n",
       "      <td>992582.0</td>\n",
       "      <td>0.0</td>\n",
       "    </tr>\n",
       "    <tr>\n",
       "      <th>Alkilados feat. Nicky Jam, J. Alvarez, El Roockie</th>\n",
       "      <td>2217669.0</td>\n",
       "      <td>0.0</td>\n",
       "    </tr>\n",
       "    <tr>\n",
       "      <th>Alle Farben</th>\n",
       "      <td>10932.0</td>\n",
       "      <td>0.0</td>\n",
       "    </tr>\n",
       "    <tr>\n",
       "      <th>Alvaro Soler</th>\n",
       "      <td>75096.0</td>\n",
       "      <td>0.0</td>\n",
       "    </tr>\n",
       "    <tr>\n",
       "      <th>Alx Veliz</th>\n",
       "      <td>759710.0</td>\n",
       "      <td>0.0</td>\n",
       "    </tr>\n",
       "    <tr>\n",
       "      <th>Andrés Calamaro</th>\n",
       "      <td>294689.0</td>\n",
       "      <td>0.0</td>\n",
       "    </tr>\n",
       "    <tr>\n",
       "      <th>Andrés Cepeda</th>\n",
       "      <td>14857138.0</td>\n",
       "      <td>0.0</td>\n",
       "    </tr>\n",
       "    <tr>\n",
       "      <th>Andy Rivera</th>\n",
       "      <td>941370.0</td>\n",
       "      <td>0.0</td>\n",
       "    </tr>\n",
       "    <tr>\n",
       "      <th>Armin van Buuren</th>\n",
       "      <td>3762.0</td>\n",
       "      <td>0.0</td>\n",
       "    </tr>\n",
       "    <tr>\n",
       "      <th>Avril Lavigne</th>\n",
       "      <td>17226.0</td>\n",
       "      <td>0.0</td>\n",
       "    </tr>\n",
       "    <tr>\n",
       "      <th>Baby Rasta &amp; Gringo</th>\n",
       "      <td>400849.0</td>\n",
       "      <td>0.0</td>\n",
       "    </tr>\n",
       "    <tr>\n",
       "      <th>Bacilos</th>\n",
       "      <td>3142579.0</td>\n",
       "      <td>0.0</td>\n",
       "    </tr>\n",
       "    <tr>\n",
       "      <th>Bad Bunny</th>\n",
       "      <td>33288848.0</td>\n",
       "      <td>0.0</td>\n",
       "    </tr>\n",
       "    <tr>\n",
       "      <th>Bakermat</th>\n",
       "      <td>4812.0</td>\n",
       "      <td>0.0</td>\n",
       "    </tr>\n",
       "    <tr>\n",
       "      <th>Bomba Estéreo</th>\n",
       "      <td>8955109.0</td>\n",
       "      <td>0.0</td>\n",
       "    </tr>\n",
       "    <tr>\n",
       "      <th>Bryant Myers</th>\n",
       "      <td>528274.0</td>\n",
       "      <td>0.0</td>\n",
       "    </tr>\n",
       "    <tr>\n",
       "      <th>Burak Yeter</th>\n",
       "      <td>439201.0</td>\n",
       "      <td>0.0</td>\n",
       "    </tr>\n",
       "    <tr>\n",
       "      <th>C.Tangana</th>\n",
       "      <td>81459.0</td>\n",
       "      <td>0.0</td>\n",
       "    </tr>\n",
       "    <tr>\n",
       "      <th>CNCO</th>\n",
       "      <td>18589656.0</td>\n",
       "      <td>0.0</td>\n",
       "    </tr>\n",
       "    <tr>\n",
       "      <th>Cali Y El Dandee</th>\n",
       "      <td>13106267.0</td>\n",
       "      <td>0.0</td>\n",
       "    </tr>\n",
       "    <tr>\n",
       "      <th>Calle 13</th>\n",
       "      <td>3176521.0</td>\n",
       "      <td>0.0</td>\n",
       "    </tr>\n",
       "    <tr>\n",
       "      <th>Camila</th>\n",
       "      <td>23355.0</td>\n",
       "      <td>0.0</td>\n",
       "    </tr>\n",
       "    <tr>\n",
       "      <th>Carlos Baute</th>\n",
       "      <td>2103425.0</td>\n",
       "      <td>0.0</td>\n",
       "    </tr>\n",
       "    <tr>\n",
       "      <th>Carlos Sadness</th>\n",
       "      <td>94185.0</td>\n",
       "      <td>0.0</td>\n",
       "    </tr>\n",
       "    <tr>\n",
       "      <th>Carlos Vives</th>\n",
       "      <td>28493013.0</td>\n",
       "      <td>0.0</td>\n",
       "    </tr>\n",
       "    <tr>\n",
       "      <th>...</th>\n",
       "      <td>...</td>\n",
       "      <td>...</td>\n",
       "    </tr>\n",
       "    <tr>\n",
       "      <th>Shakira</th>\n",
       "      <td>37920531.0</td>\n",
       "      <td>0.0</td>\n",
       "    </tr>\n",
       "    <tr>\n",
       "      <th>Silvestre Dangond</th>\n",
       "      <td>20451605.0</td>\n",
       "      <td>0.0</td>\n",
       "    </tr>\n",
       "    <tr>\n",
       "      <th>Sinéad O'Connor</th>\n",
       "      <td>18294.0</td>\n",
       "      <td>0.0</td>\n",
       "    </tr>\n",
       "    <tr>\n",
       "      <th>Soda Stereo</th>\n",
       "      <td>545543.0</td>\n",
       "      <td>0.0</td>\n",
       "    </tr>\n",
       "    <tr>\n",
       "      <th>Sofia Reyes</th>\n",
       "      <td>585337.0</td>\n",
       "      <td>0.0</td>\n",
       "    </tr>\n",
       "    <tr>\n",
       "      <th>Soraya Arnelas</th>\n",
       "      <td>30949.0</td>\n",
       "      <td>0.0</td>\n",
       "    </tr>\n",
       "    <tr>\n",
       "      <th>The Chamanas</th>\n",
       "      <td>8790.0</td>\n",
       "      <td>0.0</td>\n",
       "    </tr>\n",
       "    <tr>\n",
       "      <th>The Cinematic Orchestra</th>\n",
       "      <td>4965.0</td>\n",
       "      <td>0.0</td>\n",
       "    </tr>\n",
       "    <tr>\n",
       "      <th>The Cranberries</th>\n",
       "      <td>11912.0</td>\n",
       "      <td>0.0</td>\n",
       "    </tr>\n",
       "    <tr>\n",
       "      <th>The Rolling Stones</th>\n",
       "      <td>107265.0</td>\n",
       "      <td>0.0</td>\n",
       "    </tr>\n",
       "    <tr>\n",
       "      <th>Thomas Jack</th>\n",
       "      <td>238426.0</td>\n",
       "      <td>0.0</td>\n",
       "    </tr>\n",
       "    <tr>\n",
       "      <th>TiRon &amp; Ayomari</th>\n",
       "      <td>47499.0</td>\n",
       "      <td>0.0</td>\n",
       "    </tr>\n",
       "    <tr>\n",
       "      <th>Tom Odell</th>\n",
       "      <td>112907.0</td>\n",
       "      <td>0.0</td>\n",
       "    </tr>\n",
       "    <tr>\n",
       "      <th>Tony Dize</th>\n",
       "      <td>24197.0</td>\n",
       "      <td>0.0</td>\n",
       "    </tr>\n",
       "    <tr>\n",
       "      <th>Tungevaag &amp; Raaban</th>\n",
       "      <td>23721.0</td>\n",
       "      <td>0.0</td>\n",
       "    </tr>\n",
       "    <tr>\n",
       "      <th>Various Artists</th>\n",
       "      <td>128172.0</td>\n",
       "      <td>0.0</td>\n",
       "    </tr>\n",
       "    <tr>\n",
       "      <th>Vicente Garcia</th>\n",
       "      <td>515175.0</td>\n",
       "      <td>0.0</td>\n",
       "    </tr>\n",
       "    <tr>\n",
       "      <th>Wilo D New</th>\n",
       "      <td>68047.0</td>\n",
       "      <td>0.0</td>\n",
       "    </tr>\n",
       "    <tr>\n",
       "      <th>Wisin</th>\n",
       "      <td>39764497.0</td>\n",
       "      <td>7586539.0</td>\n",
       "    </tr>\n",
       "    <tr>\n",
       "      <th>Yall</th>\n",
       "      <td>591640.0</td>\n",
       "      <td>0.0</td>\n",
       "    </tr>\n",
       "    <tr>\n",
       "      <th>Yandel</th>\n",
       "      <td>32633810.0</td>\n",
       "      <td>0.0</td>\n",
       "    </tr>\n",
       "    <tr>\n",
       "      <th>Yann Tiersen</th>\n",
       "      <td>89803.0</td>\n",
       "      <td>0.0</td>\n",
       "    </tr>\n",
       "    <tr>\n",
       "      <th>Yellow Mellow</th>\n",
       "      <td>73272.0</td>\n",
       "      <td>0.0</td>\n",
       "    </tr>\n",
       "    <tr>\n",
       "      <th>Zion</th>\n",
       "      <td>250153.0</td>\n",
       "      <td>0.0</td>\n",
       "    </tr>\n",
       "    <tr>\n",
       "      <th>Zion &amp; Lennox</th>\n",
       "      <td>47784150.0</td>\n",
       "      <td>0.0</td>\n",
       "    </tr>\n",
       "    <tr>\n",
       "      <th>Zoé</th>\n",
       "      <td>74094.0</td>\n",
       "      <td>0.0</td>\n",
       "    </tr>\n",
       "    <tr>\n",
       "      <th>filous</th>\n",
       "      <td>150032.0</td>\n",
       "      <td>0.0</td>\n",
       "    </tr>\n",
       "    <tr>\n",
       "      <th>Álex Ubago</th>\n",
       "      <td>10330.0</td>\n",
       "      <td>0.0</td>\n",
       "    </tr>\n",
       "    <tr>\n",
       "      <th>Álzate</th>\n",
       "      <td>1141120.0</td>\n",
       "      <td>0.0</td>\n",
       "    </tr>\n",
       "    <tr>\n",
       "      <th>Ñejo</th>\n",
       "      <td>2432093.0</td>\n",
       "      <td>0.0</td>\n",
       "    </tr>\n",
       "  </tbody>\n",
       "</table>\n",
       "<p>183 rows × 2 columns</p>\n",
       "</div>"
      ],
      "text/plain": [
       "                                                           CO         US\n",
       "Name                                                                    \n",
       "AC/DC                                                 36300.0        0.0\n",
       "Alejandro Fernandez                                   91470.0        0.0\n",
       "Alejandro Sanz                                       521363.0        0.0\n",
       "Alexis & Fido                                       7001186.0        0.0\n",
       "Alkilados                                           3336128.0        0.0\n",
       "Alkilados Feat Mike Bahia                            992582.0        0.0\n",
       "Alkilados feat. Nicky Jam, J. Alvarez, El Roockie   2217669.0        0.0\n",
       "Alle Farben                                           10932.0        0.0\n",
       "Alvaro Soler                                          75096.0        0.0\n",
       "Alx Veliz                                            759710.0        0.0\n",
       "Andrés Calamaro                                      294689.0        0.0\n",
       "Andrés Cepeda                                      14857138.0        0.0\n",
       "Andy Rivera                                          941370.0        0.0\n",
       "Armin van Buuren                                       3762.0        0.0\n",
       "Avril Lavigne                                         17226.0        0.0\n",
       "Baby Rasta & Gringo                                  400849.0        0.0\n",
       "Bacilos                                             3142579.0        0.0\n",
       "Bad Bunny                                          33288848.0        0.0\n",
       "Bakermat                                               4812.0        0.0\n",
       "Bomba Estéreo                                       8955109.0        0.0\n",
       "Bryant Myers                                         528274.0        0.0\n",
       "Burak Yeter                                          439201.0        0.0\n",
       "C.Tangana                                             81459.0        0.0\n",
       "CNCO                                               18589656.0        0.0\n",
       "Cali Y El Dandee                                   13106267.0        0.0\n",
       "Calle 13                                            3176521.0        0.0\n",
       "Camila                                                23355.0        0.0\n",
       "Carlos Baute                                        2103425.0        0.0\n",
       "Carlos Sadness                                        94185.0        0.0\n",
       "Carlos Vives                                       28493013.0        0.0\n",
       "...                                                       ...        ...\n",
       "Shakira                                            37920531.0        0.0\n",
       "Silvestre Dangond                                  20451605.0        0.0\n",
       "Sinéad O'Connor                                       18294.0        0.0\n",
       "Soda Stereo                                          545543.0        0.0\n",
       "Sofia Reyes                                          585337.0        0.0\n",
       "Soraya Arnelas                                        30949.0        0.0\n",
       "The Chamanas                                           8790.0        0.0\n",
       "The Cinematic Orchestra                                4965.0        0.0\n",
       "The Cranberries                                       11912.0        0.0\n",
       "The Rolling Stones                                   107265.0        0.0\n",
       "Thomas Jack                                          238426.0        0.0\n",
       "TiRon & Ayomari                                       47499.0        0.0\n",
       "Tom Odell                                            112907.0        0.0\n",
       "Tony Dize                                             24197.0        0.0\n",
       "Tungevaag & Raaban                                    23721.0        0.0\n",
       "Various Artists                                      128172.0        0.0\n",
       "Vicente Garcia                                       515175.0        0.0\n",
       "Wilo D New                                            68047.0        0.0\n",
       "Wisin                                              39764497.0  7586539.0\n",
       "Yall                                                 591640.0        0.0\n",
       "Yandel                                             32633810.0        0.0\n",
       "Yann Tiersen                                          89803.0        0.0\n",
       "Yellow Mellow                                         73272.0        0.0\n",
       "Zion                                                 250153.0        0.0\n",
       "Zion & Lennox                                      47784150.0        0.0\n",
       "Zoé                                                   74094.0        0.0\n",
       "filous                                               150032.0        0.0\n",
       "Álex Ubago                                            10330.0        0.0\n",
       "Álzate                                              1141120.0        0.0\n",
       "Ñejo                                                2432093.0        0.0\n",
       "\n",
       "[183 rows x 2 columns]"
      ]
     },
     "execution_count": 26,
     "metadata": {},
     "output_type": "execute_result"
    }
   ],
   "source": [
    "# We'll probably want to do a fillna(0) here, since a lot of the artists in the data set might not have been \n",
    "# streamed in the US or Colombia:\n",
    "artist_daily = track_daily.groupby('Name').aggregate({'US':np.sum,'CO':np.sum}).dropna(how='all').fillna(0.)\n",
    "\n",
    "artist_daily[artist_daily['CO']>artist_daily['US']]"
   ]
  },
  {
   "cell_type": "markdown",
   "metadata": {},
   "source": [
    "Let's make a histogram of US artists (let's ignore all the ones who are at 0). We can drop data that's greater than 2 standard devs above the mean:"
   ]
  },
  {
   "cell_type": "code",
   "execution_count": 27,
   "metadata": {
    "collapsed": false,
    "scrolled": true
   },
   "outputs": [
    {
     "data": {
      "text/plain": [
       "<matplotlib.axes._subplots.AxesSubplot at 0x12b27f690>"
      ]
     },
     "execution_count": 27,
     "metadata": {},
     "output_type": "execute_result"
    },
    {
     "data": {
      "image/png": "[encoded data removed]",
      "text/plain": [
       "<matplotlib.figure.Figure at 0x128208ed0>"
      ]
     },
     "metadata": {},
     "output_type": "display_data"
    }
   ],
   "source": [
    "artist_daily[artist_daily['US']>0.]['US'].hist(bins=50)"
   ]
  },
  {
   "cell_type": "code",
   "execution_count": 28,
   "metadata": {
    "collapsed": false
   },
   "outputs": [
    {
     "data": {
      "text/plain": [
       "(0, 20000000000.0)"
      ]
     },
     "execution_count": 28,
     "metadata": {},
     "output_type": "execute_result"
    },
    {
     "data": {
      "image/png": "[encoded data removed]",
      "text/plain": [
       "<matplotlib.figure.Figure at 0x1231f5b50>"
      ]
     },
     "metadata": {},
     "output_type": "display_data"
    }
   ],
   "source": [
    "artist_daily[artist_daily['US']>0.]['US'].plot(kind='kde')\n",
    "plt.xlim([0,None])"
   ]
  },
  {
   "cell_type": "markdown",
   "metadata": {},
   "source": [
    "We can visualize the number of streams by artist in a particular time frame:"
   ]
  },
  {
   "cell_type": "code",
   "execution_count": 58,
   "metadata": {
    "collapsed": false,
    "scrolled": true
   },
   "outputs": [],
   "source": [
    "# Select a few artists:\n",
    "gucci_and_drake = track_daily[track_daily['Name'].isin(['Gucci Mane','Drake'])]\n",
    "\n",
    "# Select a time window:\n",
    "gucci_and_drake = gucci_and_drake[(gucci_and_drake['Date']<20161001) & (gucci_and_drake['Date']>20150701)]\n",
    "\n",
    "# Groupby day:\n",
    "gucci_and_drake = gucci_and_drake.groupby('Date').aggregate(\n",
    "    {'US':np.sum,'CO':np.sum, 'Name':lambda row: row.iloc[-1]})\n",
    "\n",
    "# Convert the index:\n",
    "gucci_and_drake.index = gucci_and_drake.index.map(lambda x:pd.to_datetime(str(int(x)), format='%Y%m%d'))"
   ]
  },
  {
   "cell_type": "code",
   "execution_count": 59,
   "metadata": {
    "collapsed": false
   },
   "outputs": [
    {
     "data": {
      "text/html": [
       "<div>\n",
       "<table border=\"1\" class=\"dataframe\">\n",
       "  <thead>\n",
       "    <tr style=\"text-align: right;\">\n",
       "      <th></th>\n",
       "      <th>CO</th>\n",
       "      <th>Name</th>\n",
       "      <th>US</th>\n",
       "    </tr>\n",
       "  </thead>\n",
       "  <tbody>\n",
       "    <tr>\n",
       "      <th>2016-07-28</th>\n",
       "      <td>605606.0</td>\n",
       "      <td>Gucci Mane</td>\n",
       "      <td>61067835.0</td>\n",
       "    </tr>\n",
       "  </tbody>\n",
       "</table>\n",
       "</div>"
      ],
      "text/plain": [
       "                  CO        Name          US\n",
       "2016-07-28  605606.0  Gucci Mane  61067835.0"
      ]
     },
     "execution_count": 59,
     "metadata": {},
     "output_type": "execute_result"
    }
   ],
   "source": [
    "gucci_and_drake[gucci_and_drake['Name']=='Gucci Mane']"
   ]
  },
  {
   "cell_type": "markdown",
   "metadata": {},
   "source": [
    "We can make histograms as before using the tracks dataset:"
   ]
  },
  {
   "cell_type": "code",
   "execution_count": 65,
   "metadata": {
    "collapsed": false
   },
   "outputs": [
    {
     "data": {
      "text/plain": [
       "<matplotlib.axes._subplots.AxesSubplot at 0x12a5dd7d0>"
      ]
     },
     "execution_count": 65,
     "metadata": {},
     "output_type": "execute_result"
    },
    {
     "data": {
      "image/png": "[encoded data removed]",
      "text/plain": [
       "<matplotlib.figure.Figure at 0x12a5e2150>"
      ]
     },
     "metadata": {},
     "output_type": "display_data"
    }
   ],
   "source": [
    "pd.to_numeric(tracks['Streams'].str.replace(\",\",\"\"),errors='coerce').hist(bins=50)"
   ]
  },
  {
   "cell_type": "markdown",
   "metadata": {},
   "source": [
    "We can make a histogram by artist as well:"
   ]
  },
  {
   "cell_type": "code",
   "execution_count": 80,
   "metadata": {
    "collapsed": false
   },
   "outputs": [
    {
     "data": {
      "text/plain": [
       "<matplotlib.axes._subplots.AxesSubplot at 0x12d17d3d0>"
      ]
     },
     "execution_count": 80,
     "metadata": {},
     "output_type": "execute_result"
    },
    {
     "data": {
      "image/png": "[encoded data removed]",
      "text/plain": [
       "<matplotlib.figure.Figure at 0x119902c10>"
      ]
     },
     "metadata": {},
     "output_type": "display_data"
    }
   ],
   "source": [
    "pd.to_numeric(\n",
    "    tracks[tracks['Name']=='Drake']['Streams'].str.replace(\",\",\"\"),\n",
    "    errors='coerce').hist(bins=50)"
   ]
  },
  {
   "cell_type": "markdown",
   "metadata": {},
   "source": [
    "Note that blindly using the KDE, which tries to estimate the probability distribution from which streams comes from, is problematic. Do you notice anything funny about the plot below?"
   ]
  },
  {
   "cell_type": "code",
   "execution_count": 81,
   "metadata": {
    "collapsed": false
   },
   "outputs": [
    {
     "data": {
      "text/plain": [
       "<matplotlib.axes._subplots.AxesSubplot at 0x11a743b50>"
      ]
     },
     "execution_count": 81,
     "metadata": {},
     "output_type": "execute_result"
    },
    {
     "data": {
      "image/png": "[encoded data removed]",
      "text/plain": [
       "<matplotlib.figure.Figure at 0x11a872210>"
      ]
     },
     "metadata": {},
     "output_type": "display_data"
    }
   ],
   "source": [
    "pd.to_numeric(\n",
    "    tracks[tracks['Name']=='Drake']['Streams'].str.replace(\",\",\"\"),\n",
    "    errors='coerce').plot(kind='kde')"
   ]
  },
  {
   "cell_type": "markdown",
   "metadata": {},
   "source": [
    "#### **TRY THIS!**\n",
    "\n",
    "We've added a column called 'Name' to track_daily, which is the artist name. However, the tracks df has a column called Track_name. The tracks df also has a column called 'Peak Date'. \n",
    "\n",
    "1). Use a merge to add new columns, Track_name and Peak Date, to the track_daily df. (Be sure to use the `unique tracks' df below which filters out repeat rows based on the 'with' column). \n",
    "\n",
    "2). Pick a few songs to investigate. Plot the time series of streams for a few tracks (look at a few different countries). Look at 'Peak Date' for this song and whether or not it makes sense from your plot. \n",
    "\n",
    "The unique_tracks df you'll want to merge on will probably look like the following:"
   ]
  },
  {
   "cell_type": "code",
   "execution_count": 83,
   "metadata": {
    "collapsed": true
   },
   "outputs": [],
   "source": [
    "unique_tracks_2 = tracks[np.invert(tracks['TrackUrl'].duplicated())][['Track_name', 'TrackUrl', 'Peak Date']]"
   ]
  },
  {
   "cell_type": "markdown",
   "metadata": {},
   "source": [
    "## 4. Random Numbers and Sampling"
   ]
  },
  {
   "cell_type": "code",
   "execution_count": null,
   "metadata": {
    "collapsed": true
   },
   "outputs": [],
   "source": [
    "'''\n",
    "We can generate random numbers using numpy, a library for numerical computing in python\n",
    "'''"
   ]
  },
  {
   "cell_type": "markdown",
   "metadata": {},
   "source": [
    "## 5. Simulation for Data Analysis"
   ]
  },
  {
   "cell_type": "code",
   "execution_count": null,
   "metadata": {
    "collapsed": true
   },
   "outputs": [],
   "source": []
  }
 ],
 "metadata": {
  "kernelspec": {
   "display_name": "Python 2",
   "language": "python",
   "name": "python2"
  },
  "language_info": {
   "codemirror_mode": {
    "name": "ipython",
    "version": 2
   },
   "file_extension": ".py",
   "mimetype": "text/x-python",
   "name": "python",
   "nbconvert_exporter": "python",
   "pygments_lexer": "ipython2",
   "version": "2.7.13"
  }
 },
 "nbformat": 4,
 "nbformat_minor": 2
}
