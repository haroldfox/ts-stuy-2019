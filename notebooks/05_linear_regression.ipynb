{
  "nbformat": 4,
  "nbformat_minor": 0,
  "metadata": {
    "colab": {
      "name": "05_linear_regression.ipynb",
      "version": "0.3.2",
      "provenance": []
    },
    "kernelspec": {
      "display_name": "Python 3",
      "language": "python",
      "name": "python3"
    }
  },
  "cells": [
    {
      "metadata": {
        "id": "6gb9hTmhiAzC",
        "colab_type": "text"
      },
      "cell_type": "markdown",
      "source": [
        "<h1>Introduction to Linear Regression</h1>"
      ]
    },
    {
      "metadata": {
        "id": "9r-3DuWFiAzE",
        "colab_type": "text"
      },
      "cell_type": "markdown",
      "source": [
        "<h2>Key Concepts</h2>\n",
        "\n",
        "- Visualize multivariate data\n",
        "- Fit a linear model\n",
        "- Check the goodness of fit"
      ]
    },
    {
      "metadata": {
        "id": "yIE_TuiKiAzE",
        "colab_type": "text"
      },
      "cell_type": "markdown",
      "source": [
        "<h2>Visualize Multivariate Data</h2>"
      ]
    },
    {
      "metadata": {
        "id": "_m37GPWtiAzF",
        "colab_type": "text"
      },
      "cell_type": "markdown",
      "source": [
        "First, we will load some helpful Python statistics packages:\n",
        "\n",
        "- Pandas is a general purpose package for data analysis, particularly datasets that are measured over time (*pan*el *da*taset*s*)\n",
        "- Numpy is a package for easily manipulating matrices and includes some basic multivariate statistics and linear algebra functions\n",
        "- Matplotlib is a package for plotting data\n",
        "\n",
        "All of these packages can be downloaded for free online."
      ]
    },
    {
      "metadata": {
        "id": "c0VeOkVGiAzG",
        "colab_type": "code",
        "colab": {}
      },
      "cell_type": "code",
      "source": [
        "%matplotlib notebook\n",
        "import pandas as pd\n",
        "import numpy as np\n",
        "import matplotlib.pyplot as plt\n",
        "import warnings; warnings.simplefilter('ignore')\n",
        "%matplotlib inline"
      ],
      "execution_count": 0,
      "outputs": []
    },
    {
      "metadata": {
        "id": "9_wRfLTqiAzI",
        "colab_type": "text"
      },
      "cell_type": "markdown",
      "source": [
        "In this class, we'll look at **World Happiness Report 2018**, derived from actual transactions. The World Happiness Report is a landmark survey of the state of global happiness. It ranks 156 countries by their happiness levels, and 117 countries by the happiness of their immigrants.                                                                    <br><br> For more information about the report read **http://worldhappiness.report/ed/2018/**.    The dataset comes as a list of comma-separated values (.csv), for which Pandas provides a convenient loading function."
      ]
    },
    {
      "metadata": {
        "id": "hwVSoF6XiAzJ",
        "colab_type": "text"
      },
      "cell_type": "markdown",
      "source": [
        "##### Download the data"
      ]
    },
    {
      "metadata": {
        "id": "TkAQ3iSPiogH",
        "colab_type": "code",
        "outputId": "1066b65c-4dba-489e-846f-8e01f49b9b28",
        "colab": {
          "base_uri": "https://localhost:8080/",
          "height": 136
        }
      },
      "cell_type": "code",
      "source": [
        "!git clone https://<username>:<password>@github.com/haroldfox/ts-stuy-2019"
      ],
      "execution_count": 4,
      "outputs": [
        {
          "output_type": "stream",
          "text": [
            "Cloning into 'ts-stuy-2019'...\n",
            "remote: Enumerating objects: 173, done.\u001b[K\n",
            "remote: Counting objects: 100% (173/173), done.\u001b[K\n",
            "remote: Compressing objects: 100% (163/163), done.\u001b[K\n",
            "remote: Total 173 (delta 57), reused 63 (delta 6), pack-reused 0\u001b[K\n",
            "Receiving objects: 100% (173/173), 13.44 MiB | 12.21 MiB/s, done.\n",
            "Resolving deltas: 100% (57/57), done.\n"
          ],
          "name": "stdout"
        }
      ]
    },
    {
      "metadata": {
        "id": "ivpmjVozjWQL",
        "colab_type": "code",
        "outputId": "2fff8c22-c331-4d52-d9b4-c021171013ef",
        "colab": {
          "base_uri": "https://localhost:8080/",
          "height": 34
        }
      },
      "cell_type": "code",
      "source": [
        "!ls"
      ],
      "execution_count": 5,
      "outputs": [
        {
          "output_type": "stream",
          "text": [
            "sample_data  ts-stuy-2019\n"
          ],
          "name": "stdout"
        }
      ]
    },
    {
      "metadata": {
        "id": "-JBH02o5jtty",
        "colab_type": "text"
      },
      "cell_type": "markdown",
      "source": [
        "##### Let's look at the data"
      ]
    },
    {
      "metadata": {
        "id": "-XfE7QiFiAzK",
        "colab_type": "code",
        "outputId": "9c77273d-7898-4e48-8d82-b29dc1b72a65",
        "colab": {
          "base_uri": "https://localhost:8080/",
          "height": 309
        }
      },
      "cell_type": "code",
      "source": [
        "data = pd.read_csv(\"ts-stuy-2019/datasets/world_happiness_report_2018.csv\")\n",
        "data = data.dropna()\n",
        "data.head()"
      ],
      "execution_count": 33,
      "outputs": [
        {
          "output_type": "execute_result",
          "data": {
            "text/html": [
              "<div>\n",
              "<style scoped>\n",
              "    .dataframe tbody tr th:only-of-type {\n",
              "        vertical-align: middle;\n",
              "    }\n",
              "\n",
              "    .dataframe tbody tr th {\n",
              "        vertical-align: top;\n",
              "    }\n",
              "\n",
              "    .dataframe thead th {\n",
              "        text-align: right;\n",
              "    }\n",
              "</style>\n",
              "<table border=\"1\" class=\"dataframe\">\n",
              "  <thead>\n",
              "    <tr style=\"text-align: right;\">\n",
              "      <th></th>\n",
              "      <th>year</th>\n",
              "      <th>country</th>\n",
              "      <th>Life Ladder</th>\n",
              "      <th>GDP per capita</th>\n",
              "      <th>Log GDP per capita</th>\n",
              "      <th>Social support</th>\n",
              "      <th>Healthy life expectancy at birth</th>\n",
              "      <th>Freedom to make life choices</th>\n",
              "      <th>Generosity</th>\n",
              "      <th>Perceptions of corruption</th>\n",
              "      <th>Positive affect</th>\n",
              "      <th>Negative affect</th>\n",
              "      <th>Confidence in national government</th>\n",
              "      <th>Democratic Quality</th>\n",
              "      <th>Delivery Quality</th>\n",
              "      <th>Standard deviation of ladder by country-year</th>\n",
              "      <th>Standard deviation/Mean of ladder by country-year</th>\n",
              "    </tr>\n",
              "  </thead>\n",
              "  <tbody>\n",
              "    <tr>\n",
              "      <th>0</th>\n",
              "      <td>2008</td>\n",
              "      <td>Afghanistan</td>\n",
              "      <td>3.723590</td>\n",
              "      <td>1298.143187</td>\n",
              "      <td>7.168690</td>\n",
              "      <td>0.450662</td>\n",
              "      <td>49.209663</td>\n",
              "      <td>0.718114</td>\n",
              "      <td>0.181819</td>\n",
              "      <td>0.881686</td>\n",
              "      <td>0.517637</td>\n",
              "      <td>0.258195</td>\n",
              "      <td>0.612072</td>\n",
              "      <td>-1.929690</td>\n",
              "      <td>-1.655084</td>\n",
              "      <td>1.774662</td>\n",
              "      <td>0.476600</td>\n",
              "    </tr>\n",
              "    <tr>\n",
              "      <th>1</th>\n",
              "      <td>2009</td>\n",
              "      <td>Afghanistan</td>\n",
              "      <td>4.401778</td>\n",
              "      <td>1531.173670</td>\n",
              "      <td>7.333790</td>\n",
              "      <td>0.552308</td>\n",
              "      <td>49.624432</td>\n",
              "      <td>0.678896</td>\n",
              "      <td>0.203614</td>\n",
              "      <td>0.850035</td>\n",
              "      <td>0.583926</td>\n",
              "      <td>0.237092</td>\n",
              "      <td>0.611545</td>\n",
              "      <td>-2.044093</td>\n",
              "      <td>-1.635025</td>\n",
              "      <td>1.722688</td>\n",
              "      <td>0.391362</td>\n",
              "    </tr>\n",
              "    <tr>\n",
              "      <th>2</th>\n",
              "      <td>2010</td>\n",
              "      <td>Afghanistan</td>\n",
              "      <td>4.758381</td>\n",
              "      <td>1614.254676</td>\n",
              "      <td>7.386629</td>\n",
              "      <td>0.539075</td>\n",
              "      <td>50.008961</td>\n",
              "      <td>0.600127</td>\n",
              "      <td>0.137630</td>\n",
              "      <td>0.706766</td>\n",
              "      <td>0.618265</td>\n",
              "      <td>0.275324</td>\n",
              "      <td>0.299357</td>\n",
              "      <td>-1.991810</td>\n",
              "      <td>-1.617176</td>\n",
              "      <td>1.878622</td>\n",
              "      <td>0.394803</td>\n",
              "    </tr>\n",
              "    <tr>\n",
              "      <th>3</th>\n",
              "      <td>2011</td>\n",
              "      <td>Afghanistan</td>\n",
              "      <td>3.831719</td>\n",
              "      <td>1660.739990</td>\n",
              "      <td>7.415019</td>\n",
              "      <td>0.521104</td>\n",
              "      <td>50.367298</td>\n",
              "      <td>0.495901</td>\n",
              "      <td>0.175329</td>\n",
              "      <td>0.731109</td>\n",
              "      <td>0.611387</td>\n",
              "      <td>0.267175</td>\n",
              "      <td>0.307386</td>\n",
              "      <td>-1.919018</td>\n",
              "      <td>-1.616221</td>\n",
              "      <td>1.785360</td>\n",
              "      <td>0.465942</td>\n",
              "    </tr>\n",
              "    <tr>\n",
              "      <th>4</th>\n",
              "      <td>2012</td>\n",
              "      <td>Afghanistan</td>\n",
              "      <td>3.782938</td>\n",
              "      <td>1839.273771</td>\n",
              "      <td>7.517126</td>\n",
              "      <td>0.520637</td>\n",
              "      <td>50.709263</td>\n",
              "      <td>0.530935</td>\n",
              "      <td>0.247159</td>\n",
              "      <td>0.775620</td>\n",
              "      <td>0.710385</td>\n",
              "      <td>0.267919</td>\n",
              "      <td>0.435440</td>\n",
              "      <td>-1.842996</td>\n",
              "      <td>-1.404078</td>\n",
              "      <td>1.798283</td>\n",
              "      <td>0.475367</td>\n",
              "    </tr>\n",
              "  </tbody>\n",
              "</table>\n",
              "</div>"
            ],
            "text/plain": [
              "   year      country  Life Ladder  GDP per capita  Log GDP per capita  \\\n",
              "0  2008  Afghanistan     3.723590     1298.143187            7.168690   \n",
              "1  2009  Afghanistan     4.401778     1531.173670            7.333790   \n",
              "2  2010  Afghanistan     4.758381     1614.254676            7.386629   \n",
              "3  2011  Afghanistan     3.831719     1660.739990            7.415019   \n",
              "4  2012  Afghanistan     3.782938     1839.273771            7.517126   \n",
              "\n",
              "   Social support  Healthy life expectancy at birth  \\\n",
              "0        0.450662                         49.209663   \n",
              "1        0.552308                         49.624432   \n",
              "2        0.539075                         50.008961   \n",
              "3        0.521104                         50.367298   \n",
              "4        0.520637                         50.709263   \n",
              "\n",
              "   Freedom to make life choices  Generosity  Perceptions of corruption  \\\n",
              "0                      0.718114    0.181819                   0.881686   \n",
              "1                      0.678896    0.203614                   0.850035   \n",
              "2                      0.600127    0.137630                   0.706766   \n",
              "3                      0.495901    0.175329                   0.731109   \n",
              "4                      0.530935    0.247159                   0.775620   \n",
              "\n",
              "   Positive affect  Negative affect  Confidence in national government  \\\n",
              "0         0.517637         0.258195                           0.612072   \n",
              "1         0.583926         0.237092                           0.611545   \n",
              "2         0.618265         0.275324                           0.299357   \n",
              "3         0.611387         0.267175                           0.307386   \n",
              "4         0.710385         0.267919                           0.435440   \n",
              "\n",
              "   Democratic Quality  Delivery Quality  \\\n",
              "0           -1.929690         -1.655084   \n",
              "1           -2.044093         -1.635025   \n",
              "2           -1.991810         -1.617176   \n",
              "3           -1.919018         -1.616221   \n",
              "4           -1.842996         -1.404078   \n",
              "\n",
              "   Standard deviation of ladder by country-year  \\\n",
              "0                                      1.774662   \n",
              "1                                      1.722688   \n",
              "2                                      1.878622   \n",
              "3                                      1.785360   \n",
              "4                                      1.798283   \n",
              "\n",
              "   Standard deviation/Mean of ladder by country-year  \n",
              "0                                           0.476600  \n",
              "1                                           0.391362  \n",
              "2                                           0.394803  \n",
              "3                                           0.465942  \n",
              "4                                           0.475367  "
            ]
          },
          "metadata": {
            "tags": []
          },
          "execution_count": 33
        }
      ]
    },
    {
      "metadata": {
        "id": "uq4DbF3TmN7N",
        "colab_type": "code",
        "outputId": "82cf4331-d101-47ec-eaa1-1a9838b911db",
        "colab": {
          "base_uri": "https://localhost:8080/",
          "height": 878
        }
      },
      "cell_type": "code",
      "source": [
        "fig = plt.figure(figsize = (12,15))\n",
        "ax = fig.gca()\n",
        "data.hist(ax = ax);"
      ],
      "execution_count": 34,
      "outputs": [
        {
          "output_type": "display_data",
          "data": {
            "image/png": "[encoded data removed]",
            "text/plain": [
              "<Figure size 864x1080 with 16 Axes>"
            ]
          },
          "metadata": {
            "tags": []
          }
        }
      ]
    },
    {
      "metadata": {
        "id": "XhWleEifiAzR",
        "colab_type": "text"
      },
      "cell_type": "markdown",
      "source": [
        "There can be multiple hypothesis about what drives the happiness of a nation up. Maybe more generous the people are happier in life and as such have higher life ladder. Maybe it doesnt have anything to do with the generosity of people and what really matters is the GDP (Gross Domestic Product) per capita of the company. For this week, since we are exploring single varible regressions, let's pick one variable and dive deeper into it. "
      ]
    },
    {
      "metadata": {
        "id": "c0fVQSUgiAzS",
        "colab_type": "text"
      },
      "cell_type": "markdown",
      "source": [
        "##### Hypothesis 1"
      ]
    },
    {
      "metadata": {
        "id": "GNZaCPM9iAzS",
        "colab_type": "text"
      },
      "cell_type": "markdown",
      "source": [
        "An obvious hypothesis to test is whether or not more developed countries have higher levels of happiness. In other words, does higher GDP suggest higher Life Ladder score. We first plot the data to see if ther is a relationship between the two variables."
      ]
    },
    {
      "metadata": {
        "id": "CokAGtXriAzT",
        "colab_type": "code",
        "outputId": "abf8df79-b827-4d2f-c4ac-a43ea2bfc9d8",
        "colab": {
          "base_uri": "https://localhost:8080/",
          "height": 403
        }
      },
      "cell_type": "code",
      "source": [
        "plt.figure(figsize=(10, 6))\n",
        "data = data[data['year'] == 2016]\n",
        "plt.plot(data[\"GDP per capita\"], data[\"Life Ladder\"], \"o\", markersize=5)\n",
        "plt.xlabel(\"GDP per capita\")\n",
        "plt.ylabel(\"Life Ladder\")\n",
        "plt.title(\"Life Ladder vs GDP per Capita\")\n",
        "plt.grid()"
      ],
      "execution_count": 35,
      "outputs": [
        {
          "output_type": "display_data",
          "data": {
            "image/png": "[encoded data removed]",
            "text/plain": [
              "<Figure size 720x432 with 1 Axes>"
            ]
          },
          "metadata": {
            "tags": []
          }
        }
      ]
    },
    {
      "metadata": {
        "id": "UfgWJcXVNTV7",
        "colab_type": "text"
      },
      "cell_type": "markdown",
      "source": [
        "Looking at countries with highest GDP per capita"
      ]
    },
    {
      "metadata": {
        "id": "ZdbBPoW_ncfQ",
        "colab_type": "code",
        "outputId": "9b6f3a26-2d0e-461d-d2e4-2de98c269463",
        "colab": {
          "base_uri": "https://localhost:8080/",
          "height": 515
        }
      },
      "cell_type": "code",
      "source": [
        "data.sort_values(by = 'GDP per capita', ascending = False).head(10)"
      ],
      "execution_count": 37,
      "outputs": [
        {
          "output_type": "execute_result",
          "data": {
            "text/html": [
              "<div>\n",
              "<style scoped>\n",
              "    .dataframe tbody tr th:only-of-type {\n",
              "        vertical-align: middle;\n",
              "    }\n",
              "\n",
              "    .dataframe tbody tr th {\n",
              "        vertical-align: top;\n",
              "    }\n",
              "\n",
              "    .dataframe thead th {\n",
              "        text-align: right;\n",
              "    }\n",
              "</style>\n",
              "<table border=\"1\" class=\"dataframe\">\n",
              "  <thead>\n",
              "    <tr style=\"text-align: right;\">\n",
              "      <th></th>\n",
              "      <th>year</th>\n",
              "      <th>country</th>\n",
              "      <th>Life Ladder</th>\n",
              "      <th>GDP per capita</th>\n",
              "      <th>Log GDP per capita</th>\n",
              "      <th>Social support</th>\n",
              "      <th>Healthy life expectancy at birth</th>\n",
              "      <th>Freedom to make life choices</th>\n",
              "      <th>Generosity</th>\n",
              "      <th>Perceptions of corruption</th>\n",
              "      <th>Positive affect</th>\n",
              "      <th>Negative affect</th>\n",
              "      <th>Confidence in national government</th>\n",
              "      <th>Democratic Quality</th>\n",
              "      <th>Delivery Quality</th>\n",
              "      <th>Standard deviation of ladder by country-year</th>\n",
              "      <th>Standard deviation/Mean of ladder by country-year</th>\n",
              "    </tr>\n",
              "  </thead>\n",
              "  <tbody>\n",
              "    <tr>\n",
              "      <th>640</th>\n",
              "      <td>2016</td>\n",
              "      <td>Luxembourg</td>\n",
              "      <td>6.967341</td>\n",
              "      <td>94764.967613</td>\n",
              "      <td>11.459155</td>\n",
              "      <td>0.941261</td>\n",
              "      <td>72.201309</td>\n",
              "      <td>0.882365</td>\n",
              "      <td>0.005298</td>\n",
              "      <td>0.356336</td>\n",
              "      <td>0.757950</td>\n",
              "      <td>0.192301</td>\n",
              "      <td>0.678978</td>\n",
              "      <td>1.421889</td>\n",
              "      <td>1.801323</td>\n",
              "      <td>1.389065</td>\n",
              "      <td>0.199368</td>\n",
              "    </tr>\n",
              "    <tr>\n",
              "      <th>941</th>\n",
              "      <td>2016</td>\n",
              "      <td>Singapore</td>\n",
              "      <td>6.033481</td>\n",
              "      <td>81443.349551</td>\n",
              "      <td>11.307663</td>\n",
              "      <td>0.925128</td>\n",
              "      <td>75.720833</td>\n",
              "      <td>0.903736</td>\n",
              "      <td>0.125498</td>\n",
              "      <td>0.047311</td>\n",
              "      <td>0.823989</td>\n",
              "      <td>0.110942</td>\n",
              "      <td>0.930617</td>\n",
              "      <td>0.622578</td>\n",
              "      <td>2.072999</td>\n",
              "      <td>1.302088</td>\n",
              "      <td>0.215810</td>\n",
              "    </tr>\n",
              "    <tr>\n",
              "      <th>811</th>\n",
              "      <td>2016</td>\n",
              "      <td>Norway</td>\n",
              "      <td>7.596332</td>\n",
              "      <td>64179.059471</td>\n",
              "      <td>11.069432</td>\n",
              "      <td>0.959743</td>\n",
              "      <td>71.086586</td>\n",
              "      <td>0.954352</td>\n",
              "      <td>0.106471</td>\n",
              "      <td>0.409666</td>\n",
              "      <td>0.849626</td>\n",
              "      <td>0.209262</td>\n",
              "      <td>0.657646</td>\n",
              "      <td>1.374090</td>\n",
              "      <td>1.950178</td>\n",
              "      <td>1.579265</td>\n",
              "      <td>0.207898</td>\n",
              "    </tr>\n",
              "    <tr>\n",
              "      <th>520</th>\n",
              "      <td>2016</td>\n",
              "      <td>Ireland</td>\n",
              "      <td>7.040731</td>\n",
              "      <td>62991.887044</td>\n",
              "      <td>11.050761</td>\n",
              "      <td>0.958144</td>\n",
              "      <td>71.575096</td>\n",
              "      <td>0.874589</td>\n",
              "      <td>0.161004</td>\n",
              "      <td>0.398544</td>\n",
              "      <td>0.809203</td>\n",
              "      <td>0.211063</td>\n",
              "      <td>0.574740</td>\n",
              "      <td>1.085433</td>\n",
              "      <td>1.564082</td>\n",
              "      <td>1.843073</td>\n",
              "      <td>0.261773</td>\n",
              "    </tr>\n",
              "    <tr>\n",
              "      <th>1019</th>\n",
              "      <td>2016</td>\n",
              "      <td>Switzerland</td>\n",
              "      <td>7.458520</td>\n",
              "      <td>57430.079606</td>\n",
              "      <td>10.958323</td>\n",
              "      <td>0.927628</td>\n",
              "      <td>73.173759</td>\n",
              "      <td>0.933947</td>\n",
              "      <td>0.075722</td>\n",
              "      <td>0.301563</td>\n",
              "      <td>0.779471</td>\n",
              "      <td>0.206317</td>\n",
              "      <td>0.798537</td>\n",
              "      <td>1.390244</td>\n",
              "      <td>1.980969</td>\n",
              "      <td>1.694410</td>\n",
              "      <td>0.227178</td>\n",
              "    </tr>\n",
              "    <tr>\n",
              "      <th>460</th>\n",
              "      <td>2016</td>\n",
              "      <td>Hong Kong S.A.R. of China</td>\n",
              "      <td>5.498421</td>\n",
              "      <td>54279.205675</td>\n",
              "      <td>10.901896</td>\n",
              "      <td>0.832078</td>\n",
              "      <td>76.268028</td>\n",
              "      <td>0.799743</td>\n",
              "      <td>0.082168</td>\n",
              "      <td>0.402813</td>\n",
              "      <td>0.664093</td>\n",
              "      <td>0.213115</td>\n",
              "      <td>0.449610</td>\n",
              "      <td>0.555141</td>\n",
              "      <td>1.821866</td>\n",
              "      <td>1.819238</td>\n",
              "      <td>0.330866</td>\n",
              "    </tr>\n",
              "    <tr>\n",
              "      <th>1122</th>\n",
              "      <td>2016</td>\n",
              "      <td>United States</td>\n",
              "      <td>6.803600</td>\n",
              "      <td>53341.808911</td>\n",
              "      <td>10.884476</td>\n",
              "      <td>0.896751</td>\n",
              "      <td>69.770920</td>\n",
              "      <td>0.757893</td>\n",
              "      <td>0.128466</td>\n",
              "      <td>0.738920</td>\n",
              "      <td>0.805674</td>\n",
              "      <td>0.264204</td>\n",
              "      <td>0.297206</td>\n",
              "      <td>0.728749</td>\n",
              "      <td>1.493718</td>\n",
              "      <td>1.972203</td>\n",
              "      <td>0.289876</td>\n",
              "    </tr>\n",
              "    <tr>\n",
              "      <th>764</th>\n",
              "      <td>2016</td>\n",
              "      <td>Netherlands</td>\n",
              "      <td>7.540877</td>\n",
              "      <td>47302.682247</td>\n",
              "      <td>10.764322</td>\n",
              "      <td>0.925944</td>\n",
              "      <td>71.619995</td>\n",
              "      <td>0.907310</td>\n",
              "      <td>0.226168</td>\n",
              "      <td>0.433304</td>\n",
              "      <td>0.838432</td>\n",
              "      <td>0.214851</td>\n",
              "      <td>0.572273</td>\n",
              "      <td>1.184741</td>\n",
              "      <td>1.915634</td>\n",
              "      <td>1.281472</td>\n",
              "      <td>0.169937</td>\n",
              "    </tr>\n",
              "    <tr>\n",
              "      <th>1013</th>\n",
              "      <td>2016</td>\n",
              "      <td>Sweden</td>\n",
              "      <td>7.368744</td>\n",
              "      <td>46662.057958</td>\n",
              "      <td>10.750687</td>\n",
              "      <td>0.912061</td>\n",
              "      <td>72.745270</td>\n",
              "      <td>0.918036</td>\n",
              "      <td>0.131626</td>\n",
              "      <td>0.246182</td>\n",
              "      <td>0.815695</td>\n",
              "      <td>0.200607</td>\n",
              "      <td>0.485791</td>\n",
              "      <td>1.241600</td>\n",
              "      <td>1.976513</td>\n",
              "      <td>1.630500</td>\n",
              "      <td>0.221272</td>\n",
              "    </tr>\n",
              "    <tr>\n",
              "      <th>293</th>\n",
              "      <td>2016</td>\n",
              "      <td>Denmark</td>\n",
              "      <td>7.557783</td>\n",
              "      <td>45966.282152</td>\n",
              "      <td>10.735663</td>\n",
              "      <td>0.954452</td>\n",
              "      <td>71.312500</td>\n",
              "      <td>0.948231</td>\n",
              "      <td>0.127812</td>\n",
              "      <td>0.209893</td>\n",
              "      <td>0.836116</td>\n",
              "      <td>0.207583</td>\n",
              "      <td>0.467661</td>\n",
              "      <td>1.161069</td>\n",
              "      <td>1.900531</td>\n",
              "      <td>1.611470</td>\n",
              "      <td>0.213220</td>\n",
              "    </tr>\n",
              "  </tbody>\n",
              "</table>\n",
              "</div>"
            ],
            "text/plain": [
              "      year                    country  Life Ladder  GDP per capita  \\\n",
              "640   2016                 Luxembourg     6.967341    94764.967613   \n",
              "941   2016                  Singapore     6.033481    81443.349551   \n",
              "811   2016                     Norway     7.596332    64179.059471   \n",
              "520   2016                    Ireland     7.040731    62991.887044   \n",
              "1019  2016                Switzerland     7.458520    57430.079606   \n",
              "460   2016  Hong Kong S.A.R. of China     5.498421    54279.205675   \n",
              "1122  2016              United States     6.803600    53341.808911   \n",
              "764   2016                Netherlands     7.540877    47302.682247   \n",
              "1013  2016                     Sweden     7.368744    46662.057958   \n",
              "293   2016                    Denmark     7.557783    45966.282152   \n",
              "\n",
              "      Log GDP per capita  Social support  Healthy life expectancy at birth  \\\n",
              "640            11.459155        0.941261                         72.201309   \n",
              "941            11.307663        0.925128                         75.720833   \n",
              "811            11.069432        0.959743                         71.086586   \n",
              "520            11.050761        0.958144                         71.575096   \n",
              "1019           10.958323        0.927628                         73.173759   \n",
              "460            10.901896        0.832078                         76.268028   \n",
              "1122           10.884476        0.896751                         69.770920   \n",
              "764            10.764322        0.925944                         71.619995   \n",
              "1013           10.750687        0.912061                         72.745270   \n",
              "293            10.735663        0.954452                         71.312500   \n",
              "\n",
              "      Freedom to make life choices  Generosity  Perceptions of corruption  \\\n",
              "640                       0.882365    0.005298                   0.356336   \n",
              "941                       0.903736    0.125498                   0.047311   \n",
              "811                       0.954352    0.106471                   0.409666   \n",
              "520                       0.874589    0.161004                   0.398544   \n",
              "1019                      0.933947    0.075722                   0.301563   \n",
              "460                       0.799743    0.082168                   0.402813   \n",
              "1122                      0.757893    0.128466                   0.738920   \n",
              "764                       0.907310    0.226168                   0.433304   \n",
              "1013                      0.918036    0.131626                   0.246182   \n",
              "293                       0.948231    0.127812                   0.209893   \n",
              "\n",
              "      Positive affect  Negative affect  Confidence in national government  \\\n",
              "640          0.757950         0.192301                           0.678978   \n",
              "941          0.823989         0.110942                           0.930617   \n",
              "811          0.849626         0.209262                           0.657646   \n",
              "520          0.809203         0.211063                           0.574740   \n",
              "1019         0.779471         0.206317                           0.798537   \n",
              "460          0.664093         0.213115                           0.449610   \n",
              "1122         0.805674         0.264204                           0.297206   \n",
              "764          0.838432         0.214851                           0.572273   \n",
              "1013         0.815695         0.200607                           0.485791   \n",
              "293          0.836116         0.207583                           0.467661   \n",
              "\n",
              "      Democratic Quality  Delivery Quality  \\\n",
              "640             1.421889          1.801323   \n",
              "941             0.622578          2.072999   \n",
              "811             1.374090          1.950178   \n",
              "520             1.085433          1.564082   \n",
              "1019            1.390244          1.980969   \n",
              "460             0.555141          1.821866   \n",
              "1122            0.728749          1.493718   \n",
              "764             1.184741          1.915634   \n",
              "1013            1.241600          1.976513   \n",
              "293             1.161069          1.900531   \n",
              "\n",
              "      Standard deviation of ladder by country-year  \\\n",
              "640                                       1.389065   \n",
              "941                                       1.302088   \n",
              "811                                       1.579265   \n",
              "520                                       1.843073   \n",
              "1019                                      1.694410   \n",
              "460                                       1.819238   \n",
              "1122                                      1.972203   \n",
              "764                                       1.281472   \n",
              "1013                                      1.630500   \n",
              "293                                       1.611470   \n",
              "\n",
              "      Standard deviation/Mean of ladder by country-year  \n",
              "640                                            0.199368  \n",
              "941                                            0.215810  \n",
              "811                                            0.207898  \n",
              "520                                            0.261773  \n",
              "1019                                           0.227178  \n",
              "460                                            0.330866  \n",
              "1122                                           0.289876  \n",
              "764                                            0.169937  \n",
              "1013                                           0.221272  \n",
              "293                                            0.213220  "
            ]
          },
          "metadata": {
            "tags": []
          },
          "execution_count": 37
        }
      ]
    },
    {
      "metadata": {
        "id": "mBL_A33ynz5h",
        "colab_type": "code",
        "outputId": "b9922ffc-5c54-4c05-dce3-291ecd78e984",
        "colab": {
          "base_uri": "https://localhost:8080/",
          "height": 250
        }
      },
      "cell_type": "code",
      "source": [
        "data[data['country'].str.contains(\"United\")]"
      ],
      "execution_count": 36,
      "outputs": [
        {
          "output_type": "execute_result",
          "data": {
            "text/html": [
              "<div>\n",
              "<style scoped>\n",
              "    .dataframe tbody tr th:only-of-type {\n",
              "        vertical-align: middle;\n",
              "    }\n",
              "\n",
              "    .dataframe tbody tr th {\n",
              "        vertical-align: top;\n",
              "    }\n",
              "\n",
              "    .dataframe thead th {\n",
              "        text-align: right;\n",
              "    }\n",
              "</style>\n",
              "<table border=\"1\" class=\"dataframe\">\n",
              "  <thead>\n",
              "    <tr style=\"text-align: right;\">\n",
              "      <th></th>\n",
              "      <th>year</th>\n",
              "      <th>country</th>\n",
              "      <th>Life Ladder</th>\n",
              "      <th>GDP per capita</th>\n",
              "      <th>Log GDP per capita</th>\n",
              "      <th>Social support</th>\n",
              "      <th>Healthy life expectancy at birth</th>\n",
              "      <th>Freedom to make life choices</th>\n",
              "      <th>Generosity</th>\n",
              "      <th>Perceptions of corruption</th>\n",
              "      <th>Positive affect</th>\n",
              "      <th>Negative affect</th>\n",
              "      <th>Confidence in national government</th>\n",
              "      <th>Democratic Quality</th>\n",
              "      <th>Delivery Quality</th>\n",
              "      <th>Standard deviation of ladder by country-year</th>\n",
              "      <th>Standard deviation/Mean of ladder by country-year</th>\n",
              "    </tr>\n",
              "  </thead>\n",
              "  <tbody>\n",
              "    <tr>\n",
              "      <th>1113</th>\n",
              "      <td>2016</td>\n",
              "      <td>United Kingdom</td>\n",
              "      <td>6.824284</td>\n",
              "      <td>39229.851742</td>\n",
              "      <td>10.577193</td>\n",
              "      <td>0.954068</td>\n",
              "      <td>71.793167</td>\n",
              "      <td>0.821192</td>\n",
              "      <td>0.239837</td>\n",
              "      <td>0.458313</td>\n",
              "      <td>0.775853</td>\n",
              "      <td>0.229587</td>\n",
              "      <td>0.408632</td>\n",
              "      <td>0.808277</td>\n",
              "      <td>1.719784</td>\n",
              "      <td>1.628820</td>\n",
              "      <td>0.238680</td>\n",
              "    </tr>\n",
              "    <tr>\n",
              "      <th>1122</th>\n",
              "      <td>2016</td>\n",
              "      <td>United States</td>\n",
              "      <td>6.803600</td>\n",
              "      <td>53341.808911</td>\n",
              "      <td>10.884476</td>\n",
              "      <td>0.896751</td>\n",
              "      <td>69.770920</td>\n",
              "      <td>0.757893</td>\n",
              "      <td>0.128466</td>\n",
              "      <td>0.738920</td>\n",
              "      <td>0.805674</td>\n",
              "      <td>0.264204</td>\n",
              "      <td>0.297206</td>\n",
              "      <td>0.728749</td>\n",
              "      <td>1.493718</td>\n",
              "      <td>1.972203</td>\n",
              "      <td>0.289876</td>\n",
              "    </tr>\n",
              "  </tbody>\n",
              "</table>\n",
              "</div>"
            ],
            "text/plain": [
              "      year         country  Life Ladder  GDP per capita  Log GDP per capita  \\\n",
              "1113  2016  United Kingdom     6.824284    39229.851742           10.577193   \n",
              "1122  2016   United States     6.803600    53341.808911           10.884476   \n",
              "\n",
              "      Social support  Healthy life expectancy at birth  \\\n",
              "1113        0.954068                         71.793167   \n",
              "1122        0.896751                         69.770920   \n",
              "\n",
              "      Freedom to make life choices  Generosity  Perceptions of corruption  \\\n",
              "1113                      0.821192    0.239837                   0.458313   \n",
              "1122                      0.757893    0.128466                   0.738920   \n",
              "\n",
              "      Positive affect  Negative affect  Confidence in national government  \\\n",
              "1113         0.775853         0.229587                           0.408632   \n",
              "1122         0.805674         0.264204                           0.297206   \n",
              "\n",
              "      Democratic Quality  Delivery Quality  \\\n",
              "1113            0.808277          1.719784   \n",
              "1122            0.728749          1.493718   \n",
              "\n",
              "      Standard deviation of ladder by country-year  \\\n",
              "1113                                      1.628820   \n",
              "1122                                      1.972203   \n",
              "\n",
              "      Standard deviation/Mean of ladder by country-year  \n",
              "1113                                           0.238680  \n",
              "1122                                           0.289876  "
            ]
          },
          "metadata": {
            "tags": []
          },
          "execution_count": 36
        }
      ]
    },
    {
      "metadata": {
        "id": "mkjpr0aLiAzV",
        "colab_type": "text"
      },
      "cell_type": "markdown",
      "source": [
        "No linear or any other obvious pattern or relationship emmerges here. There are some ouliers points over 40,000 per capita with most country lying on line GDP = 0."
      ]
    },
    {
      "metadata": {
        "id": "mHLrHvk0iAzW",
        "colab_type": "text"
      },
      "cell_type": "markdown",
      "source": [
        "##### Let's log transform GDP per capita and see if any pattern emmerges "
      ]
    },
    {
      "metadata": {
        "id": "kurUYZNGiAzW",
        "colab_type": "text"
      },
      "cell_type": "markdown",
      "source": [
        "The log transform is already provided to us. We can simply plug in the transformed column and recreate the above plot"
      ]
    },
    {
      "metadata": {
        "id": "tNLdsAVDiAzX",
        "colab_type": "code",
        "outputId": "09e8b89f-33c7-473a-e1bc-446f0007611d",
        "colab": {
          "base_uri": "https://localhost:8080/",
          "height": 403
        }
      },
      "cell_type": "code",
      "source": [
        "plt.figure(figsize=(10, 6))\n",
        "plt.plot(data[\"Log GDP per capita\"], data[\"Life Ladder\"], \"o\", markersize=5)\n",
        "plt.xlabel(\"Log GDP per capita\")\n",
        "plt.ylabel(\"Life Ladder\")\n",
        "plt.title(\"Life Ladder vs Log GDP per Capita\")\n",
        "plt.grid()"
      ],
      "execution_count": 38,
      "outputs": [
        {
          "output_type": "display_data",
          "data": {
            "image/png": "[encoded data removed]",
            "text/plain": [
              "<Figure size 720x432 with 1 Axes>"
            ]
          },
          "metadata": {
            "tags": []
          }
        }
      ]
    },
    {
      "metadata": {
        "id": "irnAAYdUpEhU",
        "colab_type": "text"
      },
      "cell_type": "markdown",
      "source": [
        "### Correlations"
      ]
    },
    {
      "metadata": {
        "id": "-D1uEPeyiAza",
        "colab_type": "text"
      },
      "cell_type": "markdown",
      "source": [
        "It looks like higher the log GDP of a country-year , higher is the life ladder score. <br> **Example 1:** Can you guess what the correlation is between these two variables?  Here are some plots that may help:"
      ]
    },
    {
      "metadata": {
        "id": "GClubPyciAzb",
        "colab_type": "code",
        "outputId": "84b739e7-739e-4e59-edcf-d8c1e19008c5",
        "colab": {
          "base_uri": "https://localhost:8080/",
          "height": 441
        }
      },
      "cell_type": "code",
      "source": [
        "import warnings; warnings.simplefilter('ignore')\n",
        "plt.figure(figsize=(10, 6))\n",
        "for i in range(6):\n",
        "    plt.subplot(2, 3, i + 1)\n",
        "    test_data = np.random.multivariate_normal([0, 0], [[1, i / 5.0], [i / 5.0, 1]], 200)\n",
        "    plt.plot(test_data[:,0], test_data[:,1], \"o\")\n",
        "    plt.title(\"Correlation = {}\".format(i / 5.0))\n",
        "    plt.grid()\n",
        "    \n",
        "plt.tight_layout()"
      ],
      "execution_count": 39,
      "outputs": [
        {
          "output_type": "display_data",
          "data": {
            "image/png": "[encoded data removed]",
            "text/plain": [
              "<Figure size 720x432 with 6 Axes>"
            ]
          },
          "metadata": {
            "tags": []
          }
        }
      ]
    },
    {
      "metadata": {
        "id": "1zOrYPR3iAze",
        "colab_type": "text"
      },
      "cell_type": "markdown",
      "source": [
        "<div style=\"border: 3px solid green; padding: 10px\">\n",
        "  <b>Example 2:</b> (Anscombe's quartet) Given the data below, can you create a scatter plot of the data and compute correlations for each pair?\n",
        "</div>"
      ]
    },
    {
      "metadata": {
        "id": "A91yeTBQiAzf",
        "colab_type": "code",
        "colab": {}
      },
      "cell_type": "code",
      "source": [
        "x1 = [10.0, 8.0,  13.0,  9.0,  11.0, 14.0, 6.0,  4.0,  12.0,  7.0,  5.0]\n",
        "y1 = [8.04, 6.95, 7.58,  8.81, 8.33, 9.96, 7.24, 4.26, 10.84, 4.82, 5.68]\n",
        "\n",
        "x2 = [10.0, 8.0,  13.0,  9.0,  11.0, 14.0, 6.0,  4.0,  12.0,  7.0,  5.0]\n",
        "y2 = [9.14, 8.14, 8.74,  8.77, 9.26, 8.10, 6.13, 3.10, 9.13,  7.26, 4.74]\n",
        "\n",
        "x3 = [10.0, 8.0,  13.0,  9.0,  11.0, 14.0, 6.0,  4.0,  12.0,  7.0,  5.0]\n",
        "y3 = [7.46, 6.77, 12.74, 7.11, 7.81, 8.84, 6.08, 5.39, 8.15,  6.42, 5.73]\n",
        "\n",
        "x4 = [8.0,  8.0,  8.0,   8.0,  8.0,  8.0,  8.0,  19.0,  8.0,  8.0,  8.0]\n",
        "y4 = [6.58, 5.76, 7.71,  8.84, 8.47, 7.04, 5.25, 12.50, 5.56, 7.91, 6.89]"
      ],
      "execution_count": 0,
      "outputs": []
    },
    {
      "metadata": {
        "scrolled": true,
        "id": "2uJRdJxAiAzh",
        "colab_type": "code",
        "outputId": "97a45a0e-36e5-4743-a3aa-4b2156e3a6df",
        "colab": {
          "base_uri": "https://localhost:8080/",
          "height": 441
        }
      },
      "cell_type": "code",
      "source": [
        "plt.figure(figsize=(10, 6))\n",
        "for i in range(4):\n",
        "    plt.subplot(2, 2, i + 1)\n",
        "    plt.plot(eval(\"x\" + str(i+1)), eval(\"y\" + str(i+1)), \"o\", markersize=4)\n",
        "    plt.xlabel(\"x\" + str(i+1))\n",
        "    plt.ylabel(\"y\" + str(i+1))\n",
        "    plt.title(\"Correlation = {:6.2f}\".format(np.corrcoef(eval(\"x\" + str(i+1)), eval(\"y\" + str(i+1)))[0,1]))\n",
        "    plt.grid()\n",
        "\n",
        "plt.tight_layout()"
      ],
      "execution_count": 42,
      "outputs": [
        {
          "output_type": "display_data",
          "data": {
            "image/png": "[encoded data removed]",
            "text/plain": [
              "<Figure size 720x432 with 4 Axes>"
            ]
          },
          "metadata": {
            "tags": []
          }
        }
      ]
    },
    {
      "metadata": {
        "id": "hI-S5Wk7iAzk",
        "colab_type": "text"
      },
      "cell_type": "markdown",
      "source": [
        "<div style=\"border: 3px solid green; padding: 10px\">\n",
        " <b> Example 3: </b> Compute the correlation between the 'Log GDP per capita and Life Ladder' of a country. Also compute the correlations of 'Generosity and Life Ladder' as well as 'Social support and Life Ladder'. Which variable shows the highest correlation?\n",
        "</div>"
      ]
    },
    {
      "metadata": {
        "id": "jTJpbDLfiAzl",
        "colab_type": "code",
        "outputId": "9b787312-55f1-4d5a-ca99-96bf849fb5fa",
        "colab": {
          "base_uri": "https://localhost:8080/",
          "height": 68
        }
      },
      "cell_type": "code",
      "source": [
        "# Correlation with Log GDP per capita and Life Ladder\n",
        "print(data['Log GDP per capita'].corr(data['Life Ladder']))\n",
        "\n",
        "# Correlation with Generosity and Life Ladder\n",
        "print(data[...].corr(data['Life Ladder']))\n",
        "\n",
        "# Correlation with Social support and Life Ladder\n",
        "print(data[...].corr(data['Life Ladder']))"
      ],
      "execution_count": 44,
      "outputs": [
        {
          "output_type": "stream",
          "text": [
            "0.8124641606247303\n",
            "0.10922311365230031\n",
            "0.7550050324380898\n"
          ],
          "name": "stdout"
        }
      ]
    },
    {
      "metadata": {
        "id": "Lo6RidjXiAzo",
        "colab_type": "text"
      },
      "cell_type": "markdown",
      "source": [
        "<div style=\"border: 3px solid green; padding: 10px\">\n",
        "  <b>Example 4:</b> What is the correlation between 'Life Ladder and Social support'? Is it different from 'Social support and Life Ladder'?</div>"
      ]
    },
    {
      "metadata": {
        "id": "tbjBGqJPiAzo",
        "colab_type": "code",
        "colab": {
          "base_uri": "https://localhost:8080/",
          "height": 34
        },
        "outputId": "a59a8511-8c45-46dc-deef-bd0f9bd7f881"
      },
      "cell_type": "code",
      "source": [
        "# Correlation with Life Ladder and Social support\n",
        "print(data['Life Ladder'].corr(data[...]))"
      ],
      "execution_count": 45,
      "outputs": [
        {
          "output_type": "stream",
          "text": [
            "0.7550050324380897\n"
          ],
          "name": "stdout"
        }
      ]
    },
    {
      "metadata": {
        "id": "iQUqn-rYiAzt",
        "colab_type": "text"
      },
      "cell_type": "markdown",
      "source": [
        "##### However, remember..."
      ]
    },
    {
      "metadata": {
        "id": "zzLOhGACiAzu",
        "colab_type": "text"
      },
      "cell_type": "markdown",
      "source": [
        "## Correlation is NOT Causation"
      ]
    },
    {
      "metadata": {
        "id": "doMTu5eTiAzw",
        "colab_type": "text"
      },
      "cell_type": "markdown",
      "source": [
        "**\"Correlation is not causation\"** is a statistics mantra. **Correlation is a measure of how closely related two things are.** Think of it as a number describing the relative change in one thing when there is a change in the other, with 1 being a strong positive relationship between two sets of numbers, –1 being a strong negative relationship and 0 being no relationship whatsoever. <br><br> \"Correlation is not causation\" means that just because two things correlate does not necessarily mean that one causes the other. Above you saw correlation between 'Social Support' and 'Life Ladder' is same as the correlation between 'Life Ladder' and 'Social Support'. <br><br> We can not conclude from this number what parameter 'causes' the other. "
      ]
    },
    {
      "metadata": {
        "id": "Qq_HCtrziAzx",
        "colab_type": "text"
      },
      "cell_type": "markdown",
      "source": [
        "##### With these concepts in mind, let's try to..."
      ]
    },
    {
      "metadata": {
        "id": "FJ2qTbxviAzy",
        "colab_type": "text"
      },
      "cell_type": "markdown",
      "source": [
        "<h2>Fit a Linear Model</h2>"
      ]
    },
    {
      "metadata": {
        "id": "MroxSK1diAzz",
        "colab_type": "text"
      },
      "cell_type": "markdown",
      "source": [
        "Our goal in this section is to find a linear model between Log GDP per capita and Life Ladder.  The linear model has the form\n",
        "\n",
        "$$ \\mathrm{LifeLadder} = a \\cdot \\mathrm{LogGDPPerCapita} + b $$\n",
        "\n",
        "We call $a$ the <b>slope</b> and $b$ the <b>intercept</b>.  The animation below shows different linear models superimposed on the data."
      ]
    },
    {
      "metadata": {
        "scrolled": true,
        "id": "g-5_Yuv4iAzz",
        "colab_type": "code",
        "colab": {}
      },
      "cell_type": "code",
      "source": [
        "fig = plt.figure(figsize=(10, 6))\n",
        "plt.ion()\n",
        "\n",
        "plt.plot(data[\"Log GDP per capita\"], data[\"Life Ladder\"], \"o\", markersize=4)\n",
        "plt.ylim(0,15)\n",
        "plt.xlim(0,12)\n",
        "plt.xlabel(\"Log GDP per capita\")\n",
        "plt.ylabel(\"Life Ladder\")\n",
        "plt.title(\"Log GDP per capita vs Life Ladder\")\n",
        "plt.grid()\n",
        "\n",
        "xvals = np.arange(data[\"Log GDP per capita\"].max())\n",
        "for i in range(5):\n",
        "    for s in range(5):\n",
        "        intercept = -1*i\n",
        "        slope = .5 * s\n",
        "        yvals = slope * xvals + intercept\n",
        "        line = plt.plot(xvals, yvals, color=\"r\")\n",
        "        fig.canvas.draw()\n",
        "        line.pop(0).remove()"
      ],
      "execution_count": 0,
      "outputs": []
    },
    {
      "metadata": {
        "id": "gwmVWQ9JiAz2",
        "colab_type": "text"
      },
      "cell_type": "markdown",
      "source": [
        "<div style=\"border: 3px solid green; padding: 10px\">\n",
        "  <b>Exercise 4:</b> Guess the slope and intercept of this linear model, without using a computer.  No cheating! Plot the line in together with the scatter plot\n",
        "</div>"
      ]
    },
    {
      "metadata": {
        "id": "aFMLfmGBiAz2",
        "colab_type": "code",
        "outputId": "885cbdd1-1dd8-4ef4-d3fd-d8247319597b",
        "colab": {}
      },
      "cell_type": "code",
      "source": [
        "SLOPE = ...\n",
        "INTERCEPT = ...\n",
        "\n",
        "fig = plt.figure(figsize=(10, 6))\n",
        "plt.ion()\n",
        "\n",
        "plt.plot(data[\"Log GDP per capita\"], data[\"Life Ladder\"], \"o\", markersize=4)\n",
        "plt.xlabel(\"Log GDP per capita\")\n",
        "plt.ylabel(\"Life Ladder\")\n",
        "plt.title(\"Log GDP per capita versus Life Ladder\")\n",
        "plt.grid()\n",
        "\n",
        "xvals = np.arange(data[\"Log GDP per capita\"].max()) \n",
        "yvals = SLOPE * xvals + INTERCEPT\n",
        "line = plt.plot(xvals, yvals, color=\"r\")"
      ],
      "execution_count": 0,
      "outputs": [
        {
          "output_type": "display_data",
          "data": {
            "application/javascript": [
              "/* Put everything inside the global mpl namespace */\n",
              "window.mpl = {};\n",
              "\n",
              "\n",
              "mpl.get_websocket_type = function() {\n",
              "    if (typeof(WebSocket) !== 'undefined') {\n",
              "        return WebSocket;\n",
              "    } else if (typeof(MozWebSocket) !== 'undefined') {\n",
              "        return MozWebSocket;\n",
              "    } else {\n",
              "        alert('Your browser does not have WebSocket support.' +\n",
              "              'Please try Chrome, Safari or Firefox ≥ 6. ' +\n",
              "              'Firefox 4 and 5 are also supported but you ' +\n",
              "              'have to enable WebSockets in about:config.');\n",
              "    };\n",
              "}\n",
              "\n",
              "mpl.figure = function(figure_id, websocket, ondownload, parent_element) {\n",
              "    this.id = figure_id;\n",
              "\n",
              "    this.ws = websocket;\n",
              "\n",
              "    this.supports_binary = (this.ws.binaryType != undefined);\n",
              "\n",
              "    if (!this.supports_binary) {\n",
              "        var warnings = document.getElementById(\"mpl-warnings\");\n",
              "        if (warnings) {\n",
              "            warnings.style.display = 'block';\n",
              "            warnings.textContent = (\n",
              "                \"This browser does not support binary websocket messages. \" +\n",
              "                    \"Performance may be slow.\");\n",
              "        }\n",
              "    }\n",
              "\n",
              "    this.imageObj = new Image();\n",
              "\n",
              "    this.context = undefined;\n",
              "    this.message = undefined;\n",
              "    this.canvas = undefined;\n",
              "    this.rubberband_canvas = undefined;\n",
              "    this.rubberband_context = undefined;\n",
              "    this.format_dropdown = undefined;\n",
              "\n",
              "    this.image_mode = 'full';\n",
              "\n",
              "    this.root = $('<div/>');\n",
              "    this._root_extra_style(this.root)\n",
              "    this.root.attr('style', 'display: inline-block');\n",
              "\n",
              "    $(parent_element).append(this.root);\n",
              "\n",
              "    this._init_header(this);\n",
              "    this._init_canvas(this);\n",
              "    this._init_toolbar(this);\n",
              "\n",
              "    var fig = this;\n",
              "\n",
              "    this.waiting = false;\n",
              "\n",
              "    this.ws.onopen =  function () {\n",
              "            fig.send_message(\"supports_binary\", {value: fig.supports_binary});\n",
              "            fig.send_message(\"send_image_mode\", {});\n",
              "            if (mpl.ratio != 1) {\n",
              "                fig.send_message(\"set_dpi_ratio\", {'dpi_ratio': mpl.ratio});\n",
              "            }\n",
              "            fig.send_message(\"refresh\", {});\n",
              "        }\n",
              "\n",
              "    this.imageObj.onload = function() {\n",
              "            if (fig.image_mode == 'full') {\n",
              "                // Full images could contain transparency (where diff images\n",
              "                // almost always do), so we need to clear the canvas so that\n",
              "                // there is no ghosting.\n",
              "                fig.context.clearRect(0, 0, fig.canvas.width, fig.canvas.height);\n",
              "            }\n",
              "            fig.context.drawImage(fig.imageObj, 0, 0);\n",
              "        };\n",
              "\n",
              "    this.imageObj.onunload = function() {\n",
              "        fig.ws.close();\n",
              "    }\n",
              "\n",
              "    this.ws.onmessage = this._make_on_message_function(this);\n",
              "\n",
              "    this.ondownload = ondownload;\n",
              "}\n",
              "\n",
              "mpl.figure.prototype._init_header = function() {\n",
              "    var titlebar = $(\n",
              "        '<div class=\"ui-dialog-titlebar ui-widget-header ui-corner-all ' +\n",
              "        'ui-helper-clearfix\"/>');\n",
              "    var titletext = $(\n",
              "        '<div class=\"ui-dialog-title\" style=\"width: 100%; ' +\n",
              "        'text-align: center; padding: 3px;\"/>');\n",
              "    titlebar.append(titletext)\n",
              "    this.root.append(titlebar);\n",
              "    this.header = titletext[0];\n",
              "}\n",
              "\n",
              "\n",
              "\n",
              "mpl.figure.prototype._canvas_extra_style = function(canvas_div) {\n",
              "\n",
              "}\n",
              "\n",
              "\n",
              "mpl.figure.prototype._root_extra_style = function(canvas_div) {\n",
              "\n",
              "}\n",
              "\n",
              "mpl.figure.prototype._init_canvas = function() {\n",
              "    var fig = this;\n",
              "\n",
              "    var canvas_div = $('<div/>');\n",
              "\n",
              "    canvas_div.attr('style', 'position: relative; clear: both; outline: 0');\n",
              "\n",
              "    function canvas_keyboard_event(event) {\n",
              "        return fig.key_event(event, event['data']);\n",
              "    }\n",
              "\n",
              "    canvas_div.keydown('key_press', canvas_keyboard_event);\n",
              "    canvas_div.keyup('key_release', canvas_keyboard_event);\n",
              "    this.canvas_div = canvas_div\n",
              "    this._canvas_extra_style(canvas_div)\n",
              "    this.root.append(canvas_div);\n",
              "\n",
              "    var canvas = $('<canvas/>');\n",
              "    canvas.addClass('mpl-canvas');\n",
              "    canvas.attr('style', \"left: 0; top: 0; z-index: 0; outline: 0\")\n",
              "\n",
              "    this.canvas = canvas[0];\n",
              "    this.context = canvas[0].getContext(\"2d\");\n",
              "\n",
              "    var backingStore = this.context.backingStorePixelRatio ||\n",
              "\tthis.context.webkitBackingStorePixelRatio ||\n",
              "\tthis.context.mozBackingStorePixelRatio ||\n",
              "\tthis.context.msBackingStorePixelRatio ||\n",
              "\tthis.context.oBackingStorePixelRatio ||\n",
              "\tthis.context.backingStorePixelRatio || 1;\n",
              "\n",
              "    mpl.ratio = (window.devicePixelRatio || 1) / backingStore;\n",
              "\n",
              "    var rubberband = $('<canvas/>');\n",
              "    rubberband.attr('style', \"position: absolute; left: 0; top: 0; z-index: 1;\")\n",
              "\n",
              "    var pass_mouse_events = true;\n",
              "\n",
              "    canvas_div.resizable({\n",
              "        start: function(event, ui) {\n",
              "            pass_mouse_events = false;\n",
              "        },\n",
              "        resize: function(event, ui) {\n",
              "            fig.request_resize(ui.size.width, ui.size.height);\n",
              "        },\n",
              "        stop: function(event, ui) {\n",
              "            pass_mouse_events = true;\n",
              "            fig.request_resize(ui.size.width, ui.size.height);\n",
              "        },\n",
              "    });\n",
              "\n",
              "    function mouse_event_fn(event) {\n",
              "        if (pass_mouse_events)\n",
              "            return fig.mouse_event(event, event['data']);\n",
              "    }\n",
              "\n",
              "    rubberband.mousedown('button_press', mouse_event_fn);\n",
              "    rubberband.mouseup('button_release', mouse_event_fn);\n",
              "    // Throttle sequential mouse events to 1 every 20ms.\n",
              "    rubberband.mousemove('motion_notify', mouse_event_fn);\n",
              "\n",
              "    rubberband.mouseenter('figure_enter', mouse_event_fn);\n",
              "    rubberband.mouseleave('figure_leave', mouse_event_fn);\n",
              "\n",
              "    canvas_div.on(\"wheel\", function (event) {\n",
              "        event = event.originalEvent;\n",
              "        event['data'] = 'scroll'\n",
              "        if (event.deltaY < 0) {\n",
              "            event.step = 1;\n",
              "        } else {\n",
              "            event.step = -1;\n",
              "        }\n",
              "        mouse_event_fn(event);\n",
              "    });\n",
              "\n",
              "    canvas_div.append(canvas);\n",
              "    canvas_div.append(rubberband);\n",
              "\n",
              "    this.rubberband = rubberband;\n",
              "    this.rubberband_canvas = rubberband[0];\n",
              "    this.rubberband_context = rubberband[0].getContext(\"2d\");\n",
              "    this.rubberband_context.strokeStyle = \"#000000\";\n",
              "\n",
              "    this._resize_canvas = function(width, height) {\n",
              "        // Keep the size of the canvas, canvas container, and rubber band\n",
              "        // canvas in synch.\n",
              "        canvas_div.css('width', width)\n",
              "        canvas_div.css('height', height)\n",
              "\n",
              "        canvas.attr('width', width * mpl.ratio);\n",
              "        canvas.attr('height', height * mpl.ratio);\n",
              "        canvas.attr('style', 'width: ' + width + 'px; height: ' + height + 'px;');\n",
              "\n",
              "        rubberband.attr('width', width);\n",
              "        rubberband.attr('height', height);\n",
              "    }\n",
              "\n",
              "    // Set the figure to an initial 600x600px, this will subsequently be updated\n",
              "    // upon first draw.\n",
              "    this._resize_canvas(600, 600);\n",
              "\n",
              "    // Disable right mouse context menu.\n",
              "    $(this.rubberband_canvas).bind(\"contextmenu\",function(e){\n",
              "        return false;\n",
              "    });\n",
              "\n",
              "    function set_focus () {\n",
              "        canvas.focus();\n",
              "        canvas_div.focus();\n",
              "    }\n",
              "\n",
              "    window.setTimeout(set_focus, 100);\n",
              "}\n",
              "\n",
              "mpl.figure.prototype._init_toolbar = function() {\n",
              "    var fig = this;\n",
              "\n",
              "    var nav_element = $('<div/>')\n",
              "    nav_element.attr('style', 'width: 100%');\n",
              "    this.root.append(nav_element);\n",
              "\n",
              "    // Define a callback function for later on.\n",
              "    function toolbar_event(event) {\n",
              "        return fig.toolbar_button_onclick(event['data']);\n",
              "    }\n",
              "    function toolbar_mouse_event(event) {\n",
              "        return fig.toolbar_button_onmouseover(event['data']);\n",
              "    }\n",
              "\n",
              "    for(var toolbar_ind in mpl.toolbar_items) {\n",
              "        var name = mpl.toolbar_items[toolbar_ind][0];\n",
              "        var tooltip = mpl.toolbar_items[toolbar_ind][1];\n",
              "        var image = mpl.toolbar_items[toolbar_ind][2];\n",
              "        var method_name = mpl.toolbar_items[toolbar_ind][3];\n",
              "\n",
              "        if (!name) {\n",
              "            // put a spacer in here.\n",
              "            continue;\n",
              "        }\n",
              "        var button = $('<button/>');\n",
              "        button.addClass('ui-button ui-widget ui-state-default ui-corner-all ' +\n",
              "                        'ui-button-icon-only');\n",
              "        button.attr('role', 'button');\n",
              "        button.attr('aria-disabled', 'false');\n",
              "        button.click(method_name, toolbar_event);\n",
              "        button.mouseover(tooltip, toolbar_mouse_event);\n",
              "\n",
              "        var icon_img = $('<span/>');\n",
              "        icon_img.addClass('ui-button-icon-primary ui-icon');\n",
              "        icon_img.addClass(image);\n",
              "        icon_img.addClass('ui-corner-all');\n",
              "\n",
              "        var tooltip_span = $('<span/>');\n",
              "        tooltip_span.addClass('ui-button-text');\n",
              "        tooltip_span.html(tooltip);\n",
              "\n",
              "        button.append(icon_img);\n",
              "        button.append(tooltip_span);\n",
              "\n",
              "        nav_element.append(button);\n",
              "    }\n",
              "\n",
              "    var fmt_picker_span = $('<span/>');\n",
              "\n",
              "    var fmt_picker = $('<select/>');\n",
              "    fmt_picker.addClass('mpl-toolbar-option ui-widget ui-widget-content');\n",
              "    fmt_picker_span.append(fmt_picker);\n",
              "    nav_element.append(fmt_picker_span);\n",
              "    this.format_dropdown = fmt_picker[0];\n",
              "\n",
              "    for (var ind in mpl.extensions) {\n",
              "        var fmt = mpl.extensions[ind];\n",
              "        var option = $(\n",
              "            '<option/>', {selected: fmt === mpl.default_extension}).html(fmt);\n",
              "        fmt_picker.append(option)\n",
              "    }\n",
              "\n",
              "    // Add hover states to the ui-buttons\n",
              "    $( \".ui-button\" ).hover(\n",
              "        function() { $(this).addClass(\"ui-state-hover\");},\n",
              "        function() { $(this).removeClass(\"ui-state-hover\");}\n",
              "    );\n",
              "\n",
              "    var status_bar = $('<span class=\"mpl-message\"/>');\n",
              "    nav_element.append(status_bar);\n",
              "    this.message = status_bar[0];\n",
              "}\n",
              "\n",
              "mpl.figure.prototype.request_resize = function(x_pixels, y_pixels) {\n",
              "    // Request matplotlib to resize the figure. Matplotlib will then trigger a resize in the client,\n",
              "    // which will in turn request a refresh of the image.\n",
              "    this.send_message('resize', {'width': x_pixels, 'height': y_pixels});\n",
              "}\n",
              "\n",
              "mpl.figure.prototype.send_message = function(type, properties) {\n",
              "    properties['type'] = type;\n",
              "    properties['figure_id'] = this.id;\n",
              "    this.ws.send(JSON.stringify(properties));\n",
              "}\n",
              "\n",
              "mpl.figure.prototype.send_draw_message = function() {\n",
              "    if (!this.waiting) {\n",
              "        this.waiting = true;\n",
              "        this.ws.send(JSON.stringify({type: \"draw\", figure_id: this.id}));\n",
              "    }\n",
              "}\n",
              "\n",
              "\n",
              "mpl.figure.prototype.handle_save = function(fig, msg) {\n",
              "    var format_dropdown = fig.format_dropdown;\n",
              "    var format = format_dropdown.options[format_dropdown.selectedIndex].value;\n",
              "    fig.ondownload(fig, format);\n",
              "}\n",
              "\n",
              "\n",
              "mpl.figure.prototype.handle_resize = function(fig, msg) {\n",
              "    var size = msg['size'];\n",
              "    if (size[0] != fig.canvas.width || size[1] != fig.canvas.height) {\n",
              "        fig._resize_canvas(size[0], size[1]);\n",
              "        fig.send_message(\"refresh\", {});\n",
              "    };\n",
              "}\n",
              "\n",
              "mpl.figure.prototype.handle_rubberband = function(fig, msg) {\n",
              "    var x0 = msg['x0'] / mpl.ratio;\n",
              "    var y0 = (fig.canvas.height - msg['y0']) / mpl.ratio;\n",
              "    var x1 = msg['x1'] / mpl.ratio;\n",
              "    var y1 = (fig.canvas.height - msg['y1']) / mpl.ratio;\n",
              "    x0 = Math.floor(x0) + 0.5;\n",
              "    y0 = Math.floor(y0) + 0.5;\n",
              "    x1 = Math.floor(x1) + 0.5;\n",
              "    y1 = Math.floor(y1) + 0.5;\n",
              "    var min_x = Math.min(x0, x1);\n",
              "    var min_y = Math.min(y0, y1);\n",
              "    var width = Math.abs(x1 - x0);\n",
              "    var height = Math.abs(y1 - y0);\n",
              "\n",
              "    fig.rubberband_context.clearRect(\n",
              "        0, 0, fig.canvas.width, fig.canvas.height);\n",
              "\n",
              "    fig.rubberband_context.strokeRect(min_x, min_y, width, height);\n",
              "}\n",
              "\n",
              "mpl.figure.prototype.handle_figure_label = function(fig, msg) {\n",
              "    // Updates the figure title.\n",
              "    fig.header.textContent = msg['label'];\n",
              "}\n",
              "\n",
              "mpl.figure.prototype.handle_cursor = function(fig, msg) {\n",
              "    var cursor = msg['cursor'];\n",
              "    switch(cursor)\n",
              "    {\n",
              "    case 0:\n",
              "        cursor = 'pointer';\n",
              "        break;\n",
              "    case 1:\n",
              "        cursor = 'default';\n",
              "        break;\n",
              "    case 2:\n",
              "        cursor = 'crosshair';\n",
              "        break;\n",
              "    case 3:\n",
              "        cursor = 'move';\n",
              "        break;\n",
              "    }\n",
              "    fig.rubberband_canvas.style.cursor = cursor;\n",
              "}\n",
              "\n",
              "mpl.figure.prototype.handle_message = function(fig, msg) {\n",
              "    fig.message.textContent = msg['message'];\n",
              "}\n",
              "\n",
              "mpl.figure.prototype.handle_draw = function(fig, msg) {\n",
              "    // Request the server to send over a new figure.\n",
              "    fig.send_draw_message();\n",
              "}\n",
              "\n",
              "mpl.figure.prototype.handle_image_mode = function(fig, msg) {\n",
              "    fig.image_mode = msg['mode'];\n",
              "}\n",
              "\n",
              "mpl.figure.prototype.updated_canvas_event = function() {\n",
              "    // Called whenever the canvas gets updated.\n",
              "    this.send_message(\"ack\", {});\n",
              "}\n",
              "\n",
              "// A function to construct a web socket function for onmessage handling.\n",
              "// Called in the figure constructor.\n",
              "mpl.figure.prototype._make_on_message_function = function(fig) {\n",
              "    return function socket_on_message(evt) {\n",
              "        if (evt.data instanceof Blob) {\n",
              "            /* FIXME: We get \"Resource interpreted as Image but\n",
              "             * transferred with MIME type text/plain:\" errors on\n",
              "             * Chrome.  But how to set the MIME type?  It doesn't seem\n",
              "             * to be part of the websocket stream */\n",
              "            evt.data.type = \"image/png\";\n",
              "\n",
              "            /* Free the memory for the previous frames */\n",
              "            if (fig.imageObj.src) {\n",
              "                (window.URL || window.webkitURL).revokeObjectURL(\n",
              "                    fig.imageObj.src);\n",
              "            }\n",
              "\n",
              "            fig.imageObj.src = (window.URL || window.webkitURL).createObjectURL(\n",
              "                evt.data);\n",
              "            fig.updated_canvas_event();\n",
              "            fig.waiting = false;\n",
              "            return;\n",
              "        }\n",
              "        else if (typeof evt.data === 'string' && evt.data.slice(0, 21) == \"data:image/png;base64\") {\n",
              "            fig.imageObj.src = evt.data;\n",
              "            fig.updated_canvas_event();\n",
              "            fig.waiting = false;\n",
              "            return;\n",
              "        }\n",
              "\n",
              "        var msg = JSON.parse(evt.data);\n",
              "        var msg_type = msg['type'];\n",
              "\n",
              "        // Call the  \"handle_{type}\" callback, which takes\n",
              "        // the figure and JSON message as its only arguments.\n",
              "        try {\n",
              "            var callback = fig[\"handle_\" + msg_type];\n",
              "        } catch (e) {\n",
              "            console.log(\"No handler for the '\" + msg_type + \"' message type: \", msg);\n",
              "            return;\n",
              "        }\n",
              "\n",
              "        if (callback) {\n",
              "            try {\n",
              "                // console.log(\"Handling '\" + msg_type + \"' message: \", msg);\n",
              "                callback(fig, msg);\n",
              "            } catch (e) {\n",
              "                console.log(\"Exception inside the 'handler_\" + msg_type + \"' callback:\", e, e.stack, msg);\n",
              "            }\n",
              "        }\n",
              "    };\n",
              "}\n",
              "\n",
              "// from http://stackoverflow.com/questions/1114465/getting-mouse-location-in-canvas\n",
              "mpl.findpos = function(e) {\n",
              "    //this section is from http://www.quirksmode.org/js/events_properties.html\n",
              "    var targ;\n",
              "    if (!e)\n",
              "        e = window.event;\n",
              "    if (e.target)\n",
              "        targ = e.target;\n",
              "    else if (e.srcElement)\n",
              "        targ = e.srcElement;\n",
              "    if (targ.nodeType == 3) // defeat Safari bug\n",
              "        targ = targ.parentNode;\n",
              "\n",
              "    // jQuery normalizes the pageX and pageY\n",
              "    // pageX,Y are the mouse positions relative to the document\n",
              "    // offset() returns the position of the element relative to the document\n",
              "    var x = e.pageX - $(targ).offset().left;\n",
              "    var y = e.pageY - $(targ).offset().top;\n",
              "\n",
              "    return {\"x\": x, \"y\": y};\n",
              "};\n",
              "\n",
              "/*\n",
              " * return a copy of an object with only non-object keys\n",
              " * we need this to avoid circular references\n",
              " * http://stackoverflow.com/a/24161582/3208463\n",
              " */\n",
              "function simpleKeys (original) {\n",
              "  return Object.keys(original).reduce(function (obj, key) {\n",
              "    if (typeof original[key] !== 'object')\n",
              "        obj[key] = original[key]\n",
              "    return obj;\n",
              "  }, {});\n",
              "}\n",
              "\n",
              "mpl.figure.prototype.mouse_event = function(event, name) {\n",
              "    var canvas_pos = mpl.findpos(event)\n",
              "\n",
              "    if (name === 'button_press')\n",
              "    {\n",
              "        this.canvas.focus();\n",
              "        this.canvas_div.focus();\n",
              "    }\n",
              "\n",
              "    var x = canvas_pos.x * mpl.ratio;\n",
              "    var y = canvas_pos.y * mpl.ratio;\n",
              "\n",
              "    this.send_message(name, {x: x, y: y, button: event.button,\n",
              "                             step: event.step,\n",
              "                             guiEvent: simpleKeys(event)});\n",
              "\n",
              "    /* This prevents the web browser from automatically changing to\n",
              "     * the text insertion cursor when the button is pressed.  We want\n",
              "     * to control all of the cursor setting manually through the\n",
              "     * 'cursor' event from matplotlib */\n",
              "    event.preventDefault();\n",
              "    return false;\n",
              "}\n",
              "\n",
              "mpl.figure.prototype._key_event_extra = function(event, name) {\n",
              "    // Handle any extra behaviour associated with a key event\n",
              "}\n",
              "\n",
              "mpl.figure.prototype.key_event = function(event, name) {\n",
              "\n",
              "    // Prevent repeat events\n",
              "    if (name == 'key_press')\n",
              "    {\n",
              "        if (event.which === this._key)\n",
              "            return;\n",
              "        else\n",
              "            this._key = event.which;\n",
              "    }\n",
              "    if (name == 'key_release')\n",
              "        this._key = null;\n",
              "\n",
              "    var value = '';\n",
              "    if (event.ctrlKey && event.which != 17)\n",
              "        value += \"ctrl+\";\n",
              "    if (event.altKey && event.which != 18)\n",
              "        value += \"alt+\";\n",
              "    if (event.shiftKey && event.which != 16)\n",
              "        value += \"shift+\";\n",
              "\n",
              "    value += 'k';\n",
              "    value += event.which.toString();\n",
              "\n",
              "    this._key_event_extra(event, name);\n",
              "\n",
              "    this.send_message(name, {key: value,\n",
              "                             guiEvent: simpleKeys(event)});\n",
              "    return false;\n",
              "}\n",
              "\n",
              "mpl.figure.prototype.toolbar_button_onclick = function(name) {\n",
              "    if (name == 'download') {\n",
              "        this.handle_save(this, null);\n",
              "    } else {\n",
              "        this.send_message(\"toolbar_button\", {name: name});\n",
              "    }\n",
              "};\n",
              "\n",
              "mpl.figure.prototype.toolbar_button_onmouseover = function(tooltip) {\n",
              "    this.message.textContent = tooltip;\n",
              "};\n",
              "mpl.toolbar_items = [[\"Home\", \"Reset original view\", \"fa fa-home icon-home\", \"home\"], [\"Back\", \"Back to  previous view\", \"fa fa-arrow-left icon-arrow-left\", \"back\"], [\"Forward\", \"Forward to next view\", \"fa fa-arrow-right icon-arrow-right\", \"forward\"], [\"\", \"\", \"\", \"\"], [\"Pan\", \"Pan axes with left mouse, zoom with right\", \"fa fa-arrows icon-move\", \"pan\"], [\"Zoom\", \"Zoom to rectangle\", \"fa fa-square-o icon-check-empty\", \"zoom\"], [\"\", \"\", \"\", \"\"], [\"Download\", \"Download plot\", \"fa fa-floppy-o icon-save\", \"download\"]];\n",
              "\n",
              "mpl.extensions = [\"eps\", \"jpeg\", \"pdf\", \"png\", \"ps\", \"raw\", \"svg\", \"tif\"];\n",
              "\n",
              "mpl.default_extension = \"png\";var comm_websocket_adapter = function(comm) {\n",
              "    // Create a \"websocket\"-like object which calls the given IPython comm\n",
              "    // object with the appropriate methods. Currently this is a non binary\n",
              "    // socket, so there is still some room for performance tuning.\n",
              "    var ws = {};\n",
              "\n",
              "    ws.close = function() {\n",
              "        comm.close()\n",
              "    };\n",
              "    ws.send = function(m) {\n",
              "        //console.log('sending', m);\n",
              "        comm.send(m);\n",
              "    };\n",
              "    // Register the callback with on_msg.\n",
              "    comm.on_msg(function(msg) {\n",
              "        //console.log('receiving', msg['content']['data'], msg);\n",
              "        // Pass the mpl event to the overriden (by mpl) onmessage function.\n",
              "        ws.onmessage(msg['content']['data'])\n",
              "    });\n",
              "    return ws;\n",
              "}\n",
              "\n",
              "mpl.mpl_figure_comm = function(comm, msg) {\n",
              "    // This is the function which gets called when the mpl process\n",
              "    // starts-up an IPython Comm through the \"matplotlib\" channel.\n",
              "\n",
              "    var id = msg.content.data.id;\n",
              "    // Get hold of the div created by the display call when the Comm\n",
              "    // socket was opened in Python.\n",
              "    var element = $(\"#\" + id);\n",
              "    var ws_proxy = comm_websocket_adapter(comm)\n",
              "\n",
              "    function ondownload(figure, format) {\n",
              "        window.open(figure.imageObj.src);\n",
              "    }\n",
              "\n",
              "    var fig = new mpl.figure(id, ws_proxy,\n",
              "                           ondownload,\n",
              "                           element.get(0));\n",
              "\n",
              "    // Call onopen now - mpl needs it, as it is assuming we've passed it a real\n",
              "    // web socket which is closed, not our websocket->open comm proxy.\n",
              "    ws_proxy.onopen();\n",
              "\n",
              "    fig.parent_element = element.get(0);\n",
              "    fig.cell_info = mpl.find_output_cell(\"<div id='\" + id + \"'></div>\");\n",
              "    if (!fig.cell_info) {\n",
              "        console.error(\"Failed to find cell for figure\", id, fig);\n",
              "        return;\n",
              "    }\n",
              "\n",
              "    var output_index = fig.cell_info[2]\n",
              "    var cell = fig.cell_info[0];\n",
              "\n",
              "};\n",
              "\n",
              "mpl.figure.prototype.handle_close = function(fig, msg) {\n",
              "    var width = fig.canvas.width/mpl.ratio\n",
              "    fig.root.unbind('remove')\n",
              "\n",
              "    // Update the output cell to use the data from the current canvas.\n",
              "    fig.push_to_output();\n",
              "    var dataURL = fig.canvas.toDataURL();\n",
              "    // Re-enable the keyboard manager in IPython - without this line, in FF,\n",
              "    // the notebook keyboard shortcuts fail.\n",
              "    IPython.keyboard_manager.enable()\n",
              "    $(fig.parent_element).html('<img src=\"' + dataURL + '\" width=\"' + width + '\">');\n",
              "    fig.close_ws(fig, msg);\n",
              "}\n",
              "\n",
              "mpl.figure.prototype.close_ws = function(fig, msg){\n",
              "    fig.send_message('closing', msg);\n",
              "    // fig.ws.close()\n",
              "}\n",
              "\n",
              "mpl.figure.prototype.push_to_output = function(remove_interactive) {\n",
              "    // Turn the data on the canvas into data in the output cell.\n",
              "    var width = this.canvas.width/mpl.ratio\n",
              "    var dataURL = this.canvas.toDataURL();\n",
              "    this.cell_info[1]['text/html'] = '<img src=\"' + dataURL + '\" width=\"' + width + '\">';\n",
              "}\n",
              "\n",
              "mpl.figure.prototype.updated_canvas_event = function() {\n",
              "    // Tell IPython that the notebook contents must change.\n",
              "    IPython.notebook.set_dirty(true);\n",
              "    this.send_message(\"ack\", {});\n",
              "    var fig = this;\n",
              "    // Wait a second, then push the new image to the DOM so\n",
              "    // that it is saved nicely (might be nice to debounce this).\n",
              "    setTimeout(function () { fig.push_to_output() }, 1000);\n",
              "}\n",
              "\n",
              "mpl.figure.prototype._init_toolbar = function() {\n",
              "    var fig = this;\n",
              "\n",
              "    var nav_element = $('<div/>')\n",
              "    nav_element.attr('style', 'width: 100%');\n",
              "    this.root.append(nav_element);\n",
              "\n",
              "    // Define a callback function for later on.\n",
              "    function toolbar_event(event) {\n",
              "        return fig.toolbar_button_onclick(event['data']);\n",
              "    }\n",
              "    function toolbar_mouse_event(event) {\n",
              "        return fig.toolbar_button_onmouseover(event['data']);\n",
              "    }\n",
              "\n",
              "    for(var toolbar_ind in mpl.toolbar_items){\n",
              "        var name = mpl.toolbar_items[toolbar_ind][0];\n",
              "        var tooltip = mpl.toolbar_items[toolbar_ind][1];\n",
              "        var image = mpl.toolbar_items[toolbar_ind][2];\n",
              "        var method_name = mpl.toolbar_items[toolbar_ind][3];\n",
              "\n",
              "        if (!name) { continue; };\n",
              "\n",
              "        var button = $('<button class=\"btn btn-default\" href=\"#\" title=\"' + name + '\"><i class=\"fa ' + image + ' fa-lg\"></i></button>');\n",
              "        button.click(method_name, toolbar_event);\n",
              "        button.mouseover(tooltip, toolbar_mouse_event);\n",
              "        nav_element.append(button);\n",
              "    }\n",
              "\n",
              "    // Add the status bar.\n",
              "    var status_bar = $('<span class=\"mpl-message\" style=\"text-align:right; float: right;\"/>');\n",
              "    nav_element.append(status_bar);\n",
              "    this.message = status_bar[0];\n",
              "\n",
              "    // Add the close button to the window.\n",
              "    var buttongrp = $('<div class=\"btn-group inline pull-right\"></div>');\n",
              "    var button = $('<button class=\"btn btn-mini btn-primary\" href=\"#\" title=\"Stop Interaction\"><i class=\"fa fa-power-off icon-remove icon-large\"></i></button>');\n",
              "    button.click(function (evt) { fig.handle_close(fig, {}); } );\n",
              "    button.mouseover('Stop Interaction', toolbar_mouse_event);\n",
              "    buttongrp.append(button);\n",
              "    var titlebar = this.root.find($('.ui-dialog-titlebar'));\n",
              "    titlebar.prepend(buttongrp);\n",
              "}\n",
              "\n",
              "mpl.figure.prototype._root_extra_style = function(el){\n",
              "    var fig = this\n",
              "    el.on(\"remove\", function(){\n",
              "\tfig.close_ws(fig, {});\n",
              "    });\n",
              "}\n",
              "\n",
              "mpl.figure.prototype._canvas_extra_style = function(el){\n",
              "    // this is important to make the div 'focusable\n",
              "    el.attr('tabindex', 0)\n",
              "    // reach out to IPython and tell the keyboard manager to turn it's self\n",
              "    // off when our div gets focus\n",
              "\n",
              "    // location in version 3\n",
              "    if (IPython.notebook.keyboard_manager) {\n",
              "        IPython.notebook.keyboard_manager.register_events(el);\n",
              "    }\n",
              "    else {\n",
              "        // location in version 2\n",
              "        IPython.keyboard_manager.register_events(el);\n",
              "    }\n",
              "\n",
              "}\n",
              "\n",
              "mpl.figure.prototype._key_event_extra = function(event, name) {\n",
              "    var manager = IPython.notebook.keyboard_manager;\n",
              "    if (!manager)\n",
              "        manager = IPython.keyboard_manager;\n",
              "\n",
              "    // Check for shift+enter\n",
              "    if (event.shiftKey && event.which == 13) {\n",
              "        this.canvas_div.blur();\n",
              "        event.shiftKey = false;\n",
              "        // Send a \"J\" for go to next cell\n",
              "        event.which = 74;\n",
              "        event.keyCode = 74;\n",
              "        manager.command_mode();\n",
              "        manager.handle_keydown(event);\n",
              "    }\n",
              "}\n",
              "\n",
              "mpl.figure.prototype.handle_save = function(fig, msg) {\n",
              "    fig.ondownload(fig, null);\n",
              "}\n",
              "\n",
              "\n",
              "mpl.find_output_cell = function(html_output) {\n",
              "    // Return the cell and output element which can be found *uniquely* in the notebook.\n",
              "    // Note - this is a bit hacky, but it is done because the \"notebook_saving.Notebook\"\n",
              "    // IPython event is triggered only after the cells have been serialised, which for\n",
              "    // our purposes (turning an active figure into a static one), is too late.\n",
              "    var cells = IPython.notebook.get_cells();\n",
              "    var ncells = cells.length;\n",
              "    for (var i=0; i<ncells; i++) {\n",
              "        var cell = cells[i];\n",
              "        if (cell.cell_type === 'code'){\n",
              "            for (var j=0; j<cell.output_area.outputs.length; j++) {\n",
              "                var data = cell.output_area.outputs[j];\n",
              "                if (data.data) {\n",
              "                    // IPython >= 3 moved mimebundle to data attribute of output\n",
              "                    data = data.data;\n",
              "                }\n",
              "                if (data['text/html'] == html_output) {\n",
              "                    return [cell, data, j];\n",
              "                }\n",
              "            }\n",
              "        }\n",
              "    }\n",
              "}\n",
              "\n",
              "// Register the function which deals with the matplotlib target/channel.\n",
              "// The kernel may be null if the page has been refreshed.\n",
              "if (IPython.notebook.kernel != null) {\n",
              "    IPython.notebook.kernel.comm_manager.register_target('matplotlib', mpl.mpl_figure_comm);\n",
              "}\n"
            ],
            "text/plain": [
              "<IPython.core.display.Javascript object>"
            ]
          },
          "metadata": {
            "tags": []
          }
        },
        {
          "output_type": "display_data",
          "data": {
            "text/html": [
              "<img src=\"data:image/png;base64,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\" width=\"1000\">"
            ],
            "text/plain": [
              "<IPython.core.display.HTML object>"
            ]
          },
          "metadata": {
            "tags": []
          }
        }
      ]
    },
    {
      "metadata": {
        "id": "Uf8glApEiAz4",
        "colab_type": "text"
      },
      "cell_type": "markdown",
      "source": [
        "To fit the linear model, we need to define a <b>loss function,</b> which tells us how much to penalize \"errors\", or deviations between the actual and fitted values.  The loss function tells us how well the model fits our data.\n",
        "\n",
        "The sum of squared errors is a popular loss function:\n",
        "\n",
        "$$ \\mathrm{loss} = \\sum_{i=1}^N (y_i - a x_i - b)^2 $$\n",
        "\n",
        "This loss function is popular for many reasons, one of which is its <b>tractability</b>.  In other words, it's easy to write down a closed-form expression for $a$ and $b$ so that we can compute them right away without ever needing to actually evaluate the loss function."
      ]
    },
    {
      "metadata": {
        "id": "Kyvg1t7ciAz5",
        "colab_type": "text"
      },
      "cell_type": "markdown",
      "source": [
        "The animation below shows what the loss function looks like for various linear models."
      ]
    },
    {
      "metadata": {
        "id": "CrcAJZ9uiAz5",
        "colab_type": "code",
        "colab": {}
      },
      "cell_type": "code",
      "source": [
        "def loss(x, y, slope, intercept):\n",
        "    predictions = x * slope + intercept\n",
        "    errors = y - predictions\n",
        "    return np.sum(errors ** 2)"
      ],
      "execution_count": 0,
      "outputs": []
    },
    {
      "metadata": {
        "scrolled": false,
        "id": "ov21ySjiiAz7",
        "colab_type": "code",
        "outputId": "0546f6ca-8b96-42de-8d6a-b9369ef8e079",
        "colab": {
          "base_uri": "https://localhost:8080/",
          "height": 588
        }
      },
      "cell_type": "code",
      "source": [
        "fig = plt.figure(figsize=(10, 12))\n",
        "plt.ion()\n",
        "\n",
        "losses = np.zeros(49)\n",
        "counter = 0\n",
        "\n",
        "xvals = np.arange(data['Log GDP per capita'].max())\n",
        "\n",
        "plt.subplot(2, 1, 1)\n",
        "plt.plot(data[\"Log GDP per capita\"], data[\"Life Ladder\"], \"o\", markersize=4)\n",
        "plt.xlabel(\"Log GDP per capita\")\n",
        "plt.ylabel(\"Life Ladder\")\n",
        "plt.title(\"Log GDP per capita versus Life Ladder\")\n",
        "plt.grid()\n",
        "\n",
        "for i in np.arange(7):\n",
        "    for s in np.arange(7):\n",
        "        intercept = 0.5*i\n",
        "        slope = .25 * s\n",
        "        yvals = slope * xvals + intercept\n",
        "        plt.subplot(2, 1, 1)\n",
        "        line = plt.plot(xvals, yvals, color=\"r\")\n",
        "        loss_value = loss(data[\"Log GDP per capita\"], data[\"Life Ladder\"], slope, intercept)\n",
        "        #loss_value = loss_value/1e12\n",
        "        losses[counter] = loss_value        \n",
        "\n",
        "        plt.subplot(2, 1, 2)\n",
        "        plt.plot(np.arange(len(losses)), losses, color ='0.5')\n",
        "        plt.xlabel(\"Iteration\")\n",
        "        plt.ylabel(\"Squared loss\")\n",
        "        plt.title(\"Loss\")\n",
        "        \n",
        "        fig.canvas.draw()\n",
        "        line.pop(0).remove()\n",
        "        counter += 1"
      ],
      "execution_count": 0,
      "outputs": [
        {
          "output_type": "error",
          "ename": "NameError",
          "evalue": "ignored",
          "traceback": [
            "\u001b[0;31m---------------------------------------------------------------------------\u001b[0m",
            "\u001b[0;31mNameError\u001b[0m                                 Traceback (most recent call last)",
            "\u001b[0;32m<ipython-input-48-d2a764d8f5a2>\u001b[0m in \u001b[0;36m<module>\u001b[0;34m()\u001b[0m\n\u001b[1;32m     21\u001b[0m         \u001b[0mplt\u001b[0m\u001b[0;34m.\u001b[0m\u001b[0msubplot\u001b[0m\u001b[0;34m(\u001b[0m\u001b[0;36m2\u001b[0m\u001b[0;34m,\u001b[0m \u001b[0;36m1\u001b[0m\u001b[0;34m,\u001b[0m \u001b[0;36m1\u001b[0m\u001b[0;34m)\u001b[0m\u001b[0;34m\u001b[0m\u001b[0;34m\u001b[0m\u001b[0m\n\u001b[1;32m     22\u001b[0m         \u001b[0mline\u001b[0m \u001b[0;34m=\u001b[0m \u001b[0mplt\u001b[0m\u001b[0;34m.\u001b[0m\u001b[0mplot\u001b[0m\u001b[0;34m(\u001b[0m\u001b[0mxvals\u001b[0m\u001b[0;34m,\u001b[0m \u001b[0myvals\u001b[0m\u001b[0;34m,\u001b[0m \u001b[0mcolor\u001b[0m\u001b[0;34m=\u001b[0m\u001b[0;34m\"r\"\u001b[0m\u001b[0;34m)\u001b[0m\u001b[0;34m\u001b[0m\u001b[0;34m\u001b[0m\u001b[0m\n\u001b[0;32m---> 23\u001b[0;31m         \u001b[0mloss_value\u001b[0m \u001b[0;34m=\u001b[0m \u001b[0mloss\u001b[0m\u001b[0;34m(\u001b[0m\u001b[0mdata\u001b[0m\u001b[0;34m[\u001b[0m\u001b[0;34m\"Log GDP per capita\"\u001b[0m\u001b[0;34m]\u001b[0m\u001b[0;34m,\u001b[0m \u001b[0mdata\u001b[0m\u001b[0;34m[\u001b[0m\u001b[0;34m\"Life Ladder\"\u001b[0m\u001b[0;34m]\u001b[0m\u001b[0;34m,\u001b[0m \u001b[0mslope\u001b[0m\u001b[0;34m,\u001b[0m \u001b[0mintercept\u001b[0m\u001b[0;34m)\u001b[0m\u001b[0;34m\u001b[0m\u001b[0;34m\u001b[0m\u001b[0m\n\u001b[0m\u001b[1;32m     24\u001b[0m         \u001b[0;31m#loss_value = loss_value/1e12\u001b[0m\u001b[0;34m\u001b[0m\u001b[0;34m\u001b[0m\u001b[0;34m\u001b[0m\u001b[0m\n\u001b[1;32m     25\u001b[0m         \u001b[0mlosses\u001b[0m\u001b[0;34m[\u001b[0m\u001b[0mcounter\u001b[0m\u001b[0;34m]\u001b[0m \u001b[0;34m=\u001b[0m \u001b[0mloss_value\u001b[0m\u001b[0;34m\u001b[0m\u001b[0;34m\u001b[0m\u001b[0m\n",
            "\u001b[0;31mNameError\u001b[0m: name 'loss' is not defined"
          ]
        },
        {
          "output_type": "display_data",
          "data": {
            "image/png": "[encoded data removed]",
            "text/plain": [
              "<Figure size 720x864 with 1 Axes>"
            ]
          },
          "metadata": {
            "tags": []
          }
        }
      ]
    },
    {
      "metadata": {
        "id": "hvteIhc6iAz9",
        "colab_type": "text"
      },
      "cell_type": "markdown",
      "source": [
        "<div style=\"border: 3px solid green; padding: 10px\">\n",
        "  <b>Exercise 5:</b> Compute the loss for the parameters you chose earlier\n",
        "</div>"
      ]
    },
    {
      "metadata": {
        "id": "01qXOvomiAz-",
        "colab_type": "code",
        "colab": {}
      },
      "cell_type": "code",
      "source": [
        "loss = loss(data.Size, data.Price, SLOPE, INTERCEPT)\n",
        "print(loss)"
      ],
      "execution_count": 0,
      "outputs": []
    },
    {
      "metadata": {
        "id": "j7ctn2yIiAz_",
        "colab_type": "text"
      },
      "cell_type": "markdown",
      "source": [
        "By now, we will assume you have figured out the closed-form expressions for $a$ and $b$.  Using some of the quantities we learned about in the previous lectures, there is a nice way to write down these formulas.  The slope works out to be the <b>correlation coefficient</b> of the two variables, times the ratio of the <b>standard deviations</b> of the response and predictor variables:\n",
        "\n",
        "$$ a = r_{xy} \\frac{s_y}{s_x} $$\n",
        "\n",
        "where\n",
        "\n",
        "$$ s_x = \\sqrt{\\frac{1}{n - 1} \\sum_{i=1}^n (x_i - \\bar{x})^2} $$\n",
        "$$ s_y = \\sqrt{\\frac{1}{n - 1} \\sum_{i=1}^n (y_i - \\bar{y})^2} $$\n",
        "$$ r_{xy} = \\frac{\\frac{1}{n - 1} \\sum_{i=1}^n (x_i - \\bar{x}) (y_i - \\bar{y})}{s_x s_y} $$\n",
        "\n",
        "The intercept is just\n",
        "\n",
        "$$ b = \\bar{y} - a \\bar{x} $$."
      ]
    },
    {
      "metadata": {
        "id": "7nyCE_ufiA0A",
        "colab_type": "text"
      },
      "cell_type": "markdown",
      "source": [
        "Now we can finally see what the optimal fit is."
      ]
    },
    {
      "metadata": {
        "id": "GOqmRo6BiA0A",
        "colab_type": "code",
        "outputId": "dfb4add9-0bba-4708-9f70-43e83f1e5745",
        "colab": {}
      },
      "cell_type": "code",
      "source": [
        "slope_opt = data[\"Log GDP per capita\"].cov(data[\"Life Ladder\"]) / data[\"Log GDP per capita\"].var()\n",
        "intercept_opt = data[\"Life Ladder\"].mean() - slope_opt * data[\"Log GDP per capita\"].mean()\n",
        "\n",
        "print(\"Optimal slope: {}\".format(slope_opt))\n",
        "print(\"Optimal intercept: {}\".format(intercept_opt))\n",
        "\n",
        "fig = plt.figure(figsize=(10, 6))\n",
        "plt.plot(data[\"Log GDP per capita\"], data[\"Life Ladder\"], \"o\", markersize=4)\n",
        "plt.xlabel(\"Log GDP per capita\")\n",
        "plt.ylabel(\"Life Ladder\")\n",
        "plt.title(\"Life Ladder versus Log GDP per capita\")\n",
        "plt.grid()\n",
        "\n",
        "xvals = np.arange(data['Log GDP per capita'].max())\n",
        "yvals = slope_opt * xvals + intercept_opt\n",
        "plt.plot(xvals, yvals, color=\"r\")\n",
        "fig.canvas.draw()"
      ],
      "execution_count": 0,
      "outputs": [
        {
          "output_type": "stream",
          "text": [
            "Optimal slope: 0.7497144531950475\n",
            "Optimal intercept: -1.4517551267354083\n"
          ],
          "name": "stdout"
        }
      ]
    },
    {
      "metadata": {
        "id": "ZKtAWXC3iA0C",
        "colab_type": "text"
      },
      "cell_type": "markdown",
      "source": [
        "So every additional 0.737 in Log GDP per capita increases the life ladder by 1 point."
      ]
    },
    {
      "metadata": {
        "id": "XtL0po56iA0D",
        "colab_type": "text"
      },
      "cell_type": "markdown",
      "source": [
        "<h2>Check the Goodness of Fit</h2>"
      ]
    },
    {
      "metadata": {
        "id": "nbQzx85KiA0D",
        "colab_type": "text"
      },
      "cell_type": "markdown",
      "source": [
        "Now that we have our linear model, how do we tell if it's any good?  While we computed the slope and intercept by hand above, let's try doing this within the Python package statsmodels, which will give us a few extra things for free:"
      ]
    },
    {
      "metadata": {
        "id": "yl0QrdbuiA0E",
        "colab_type": "code",
        "outputId": "221bf7e1-e476-45d6-d5eb-31c90545cc5c",
        "colab": {
          "base_uri": "https://localhost:8080/",
          "height": 376
        }
      },
      "cell_type": "code",
      "source": [
        "import statsmodels.api as sm\n",
        "data[\"Constant\"] = 1\n",
        "m = sm.OLS(data[\"Life Ladder\"], data[[\"Log GDP per capita\", \"Constant\"]]).fit()\n",
        "m.summary()"
      ],
      "execution_count": 0,
      "outputs": [
        {
          "output_type": "execute_result",
          "data": {
            "text/html": [
              "<table class=\"simpletable\">\n",
              "<caption>OLS Regression Results</caption>\n",
              "<tr>\n",
              "  <th>Dep. Variable:</th>       <td>Life Ladder</td>   <th>  R-squared:         </th> <td>   0.660</td>\n",
              "</tr>\n",
              "<tr>\n",
              "  <th>Model:</th>                   <td>OLS</td>       <th>  Adj. R-squared:    </th> <td>   0.657</td>\n",
              "</tr>\n",
              "<tr>\n",
              "  <th>Method:</th>             <td>Least Squares</td>  <th>  F-statistic:       </th> <td>   236.9</td>\n",
              "</tr>\n",
              "<tr>\n",
              "  <th>Date:</th>             <td>Mon, 01 Apr 2019</td> <th>  Prob (F-statistic):</th> <td>2.28e-30</td>\n",
              "</tr>\n",
              "<tr>\n",
              "  <th>Time:</th>                 <td>20:56:59</td>     <th>  Log-Likelihood:    </th> <td> -129.99</td>\n",
              "</tr>\n",
              "<tr>\n",
              "  <th>No. Observations:</th>      <td>   124</td>      <th>  AIC:               </th> <td>   264.0</td>\n",
              "</tr>\n",
              "<tr>\n",
              "  <th>Df Residuals:</th>          <td>   122</td>      <th>  BIC:               </th> <td>   269.6</td>\n",
              "</tr>\n",
              "<tr>\n",
              "  <th>Df Model:</th>              <td>     1</td>      <th>                     </th>     <td> </td>   \n",
              "</tr>\n",
              "<tr>\n",
              "  <th>Covariance Type:</th>      <td>nonrobust</td>    <th>                     </th>     <td> </td>   \n",
              "</tr>\n",
              "</table>\n",
              "<table class=\"simpletable\">\n",
              "<tr>\n",
              "           <td></td>             <th>coef</th>     <th>std err</th>      <th>t</th>      <th>P>|t|</th>  <th>[0.025</th>    <th>0.975]</th>  \n",
              "</tr>\n",
              "<tr>\n",
              "  <th>Log GDP per capita</th> <td>    0.7861</td> <td>    0.051</td> <td>   15.392</td> <td> 0.000</td> <td>    0.685</td> <td>    0.887</td>\n",
              "</tr>\n",
              "<tr>\n",
              "  <th>Constant</th>           <td>   -1.8939</td> <td>    0.476</td> <td>   -3.977</td> <td> 0.000</td> <td>   -2.837</td> <td>   -0.951</td>\n",
              "</tr>\n",
              "</table>\n",
              "<table class=\"simpletable\">\n",
              "<tr>\n",
              "  <th>Omnibus:</th>       <td> 1.306</td> <th>  Durbin-Watson:     </th> <td>   2.074</td>\n",
              "</tr>\n",
              "<tr>\n",
              "  <th>Prob(Omnibus):</th> <td> 0.521</td> <th>  Jarque-Bera (JB):  </th> <td>   1.379</td>\n",
              "</tr>\n",
              "<tr>\n",
              "  <th>Skew:</th>          <td>-0.231</td> <th>  Prob(JB):          </th> <td>   0.502</td>\n",
              "</tr>\n",
              "<tr>\n",
              "  <th>Kurtosis:</th>      <td> 2.769</td> <th>  Cond. No.          </th> <td>    71.9</td>\n",
              "</tr>\n",
              "</table>"
            ],
            "text/plain": [
              "<class 'statsmodels.iolib.summary.Summary'>\n",
              "\"\"\"\n",
              "                            OLS Regression Results                            \n",
              "==============================================================================\n",
              "Dep. Variable:            Life Ladder   R-squared:                       0.660\n",
              "Model:                            OLS   Adj. R-squared:                  0.657\n",
              "Method:                 Least Squares   F-statistic:                     236.9\n",
              "Date:                Mon, 01 Apr 2019   Prob (F-statistic):           2.28e-30\n",
              "Time:                        20:56:59   Log-Likelihood:                -129.99\n",
              "No. Observations:                 124   AIC:                             264.0\n",
              "Df Residuals:                     122   BIC:                             269.6\n",
              "Df Model:                           1                                         \n",
              "Covariance Type:            nonrobust                                         \n",
              "======================================================================================\n",
              "                         coef    std err          t      P>|t|      [0.025      0.975]\n",
              "--------------------------------------------------------------------------------------\n",
              "Log GDP per capita     0.7861      0.051     15.392      0.000       0.685       0.887\n",
              "Constant              -1.8939      0.476     -3.977      0.000      -2.837      -0.951\n",
              "==============================================================================\n",
              "Omnibus:                        1.306   Durbin-Watson:                   2.074\n",
              "Prob(Omnibus):                  0.521   Jarque-Bera (JB):                1.379\n",
              "Skew:                          -0.231   Prob(JB):                        0.502\n",
              "Kurtosis:                       2.769   Cond. No.                         71.9\n",
              "==============================================================================\n",
              "\n",
              "Warnings:\n",
              "[1] Standard Errors assume that the covariance matrix of the errors is correctly specified.\n",
              "\"\"\""
            ]
          },
          "metadata": {
            "tags": []
          },
          "execution_count": 50
        }
      ]
    },
    {
      "metadata": {
        "id": "77DHVQOliA0G",
        "colab_type": "text"
      },
      "cell_type": "markdown",
      "source": [
        "While there are lots of numbers here, a few confirm what we could probably tell from linear inspection: overall, this is a good model:\n",
        "\n",
        "- The <b>R-squared</b>, which is the squared correlation coefficient, is 61.0%, which is pretty good for a linear model.  Just how good is given by the <b>F-statistic</b>, which roughly tells us how implausible it would be to see such a high correlation between the Log GDP per capita and Life Ladder that we happen to have here, under the assumption that there is actually no correlation between the two.  The actual probability is given by the <b>P-value</b> of the F-statistic, which is less than $10^{-240}$.  This means the probability of seeing a relationship this strong if in truth one did not exist is less than the probability that you could pick one atom out of all of the atoms in the universe.\n",
        "- While the R-squared gives an idea of how good the overall linear model is, we can look at the next table to see how much the Log GDP per capita and the intercept (constant) contribute to the model.  For example, maybe we don't need to bother with a constant term at all and just looking at the $a \\cdot \\mathrm{(Log\\ GDP\\ per\\ capita)}$ part of the model would be good enough.  However, the p-values on both of these variables are quite small, which tells us that both pieces of the model have a statistically significant contribution."
      ]
    },
    {
      "metadata": {
        "id": "QgcZktTPiA0H",
        "colab_type": "text"
      },
      "cell_type": "markdown",
      "source": [
        "<div style=\"border: 3px solid green; padding: 10px\">\n",
        "  <b>Exercise 5:</b> Based on the output above, would you accept or reject the null hypothesis that higher Log GDP indicates higher Life ladder (happiness)\n",
        "</div>"
      ]
    },
    {
      "metadata": {
        "id": "0Q3ZHYGaiA0H",
        "colab_type": "code",
        "colab": {}
      },
      "cell_type": "code",
      "source": [
        ""
      ],
      "execution_count": 0,
      "outputs": []
    },
    {
      "metadata": {
        "id": "3pqWGEwHiA0K",
        "colab_type": "text"
      },
      "cell_type": "markdown",
      "source": [
        "## Outiler Analysis "
      ]
    },
    {
      "metadata": {
        "id": "R9XJRsruiA0K",
        "colab_type": "text"
      },
      "cell_type": "markdown",
      "source": [
        "Imagine now if an outlier were thrown into our dataset.  At Log GPD per capita of 2 and Life Ladder of 15 it would completely throw off our model -- remember that our loss function penalizes <i>squared</i> errors, so the linear model will do whatever it can to make sure it gets right such extreme values."
      ]
    },
    {
      "metadata": {
        "id": "lqm-Ul47iA0L",
        "colab_type": "text"
      },
      "cell_type": "markdown",
      "source": [
        "<div style=\"border: 3px solid green; padding: 10px\">\n",
        "  <b>Exercise 6:</b> Add an extreme data point to the house price dataset and rerun statsmodels' linear model fit on the new dataset.  What happens?\n",
        "</div>"
      ]
    },
    {
      "metadata": {
        "id": "2fbjI-j5iA0L",
        "colab_type": "code",
        "outputId": "a161c479-5d5c-4952-e7fd-f7aa080d0cd5",
        "colab": {
          "base_uri": "https://localhost:8080/",
          "height": 1252
        }
      },
      "cell_type": "code",
      "source": [
        "m2 = sm.OLS(\n",
        "    data[\"Life Ladder\"].append(pd.Series([...])), \n",
        "    data[[\"Log GDP per capita\", \"Constant\"]].append(pd.DataFrame({\"Log GDP per capita\":[...], \"Constant\":[1]}))).fit()\n",
        "m2.summary()"
      ],
      "execution_count": 0,
      "outputs": [
        {
          "output_type": "error",
          "ename": "ValueError",
          "evalue": "ignored",
          "traceback": [
            "\u001b[0;31m---------------------------------------------------------------------------\u001b[0m",
            "\u001b[0;31mValueError\u001b[0m                                Traceback (most recent call last)",
            "\u001b[0;32m<ipython-input-53-4f26dbbd3152>\u001b[0m in \u001b[0;36m<module>\u001b[0;34m()\u001b[0m\n\u001b[1;32m      1\u001b[0m m2 = sm.OLS(\n\u001b[1;32m      2\u001b[0m     \u001b[0mdata\u001b[0m\u001b[0;34m[\u001b[0m\u001b[0;34m\"Life Ladder\"\u001b[0m\u001b[0;34m]\u001b[0m\u001b[0;34m.\u001b[0m\u001b[0mappend\u001b[0m\u001b[0;34m(\u001b[0m\u001b[0mpd\u001b[0m\u001b[0;34m.\u001b[0m\u001b[0mSeries\u001b[0m\u001b[0;34m(\u001b[0m\u001b[0;34m[\u001b[0m\u001b[0;34m...\u001b[0m\u001b[0;34m]\u001b[0m\u001b[0;34m)\u001b[0m\u001b[0;34m)\u001b[0m\u001b[0;34m,\u001b[0m\u001b[0;34m\u001b[0m\u001b[0;34m\u001b[0m\u001b[0m\n\u001b[0;32m----> 3\u001b[0;31m     data[[\"Log GDP per capita\", \"Constant\"]].append(pd.DataFrame({\"Log GDP per capita\":[...], \"Constant\":[1]}))).fit()\n\u001b[0m\u001b[1;32m      4\u001b[0m \u001b[0mm2\u001b[0m\u001b[0;34m.\u001b[0m\u001b[0msummary\u001b[0m\u001b[0;34m(\u001b[0m\u001b[0;34m)\u001b[0m\u001b[0;34m\u001b[0m\u001b[0;34m\u001b[0m\u001b[0m\n",
            "\u001b[0;32m/usr/local/lib/python3.6/dist-packages/statsmodels/regression/linear_model.py\u001b[0m in \u001b[0;36m__init__\u001b[0;34m(self, endog, exog, missing, hasconst, **kwargs)\u001b[0m\n\u001b[1;32m    629\u001b[0m                  **kwargs):\n\u001b[1;32m    630\u001b[0m         super(OLS, self).__init__(endog, exog, missing=missing,\n\u001b[0;32m--> 631\u001b[0;31m                                   hasconst=hasconst, **kwargs)\n\u001b[0m\u001b[1;32m    632\u001b[0m         \u001b[0;32mif\u001b[0m \u001b[0;34m\"weights\"\u001b[0m \u001b[0;32min\u001b[0m \u001b[0mself\u001b[0m\u001b[0;34m.\u001b[0m\u001b[0m_init_keys\u001b[0m\u001b[0;34m:\u001b[0m\u001b[0;34m\u001b[0m\u001b[0;34m\u001b[0m\u001b[0m\n\u001b[1;32m    633\u001b[0m             \u001b[0mself\u001b[0m\u001b[0;34m.\u001b[0m\u001b[0m_init_keys\u001b[0m\u001b[0;34m.\u001b[0m\u001b[0mremove\u001b[0m\u001b[0;34m(\u001b[0m\u001b[0;34m\"weights\"\u001b[0m\u001b[0;34m)\u001b[0m\u001b[0;34m\u001b[0m\u001b[0;34m\u001b[0m\u001b[0m\n",
            "\u001b[0;32m/usr/local/lib/python3.6/dist-packages/statsmodels/regression/linear_model.py\u001b[0m in \u001b[0;36m__init__\u001b[0;34m(self, endog, exog, weights, missing, hasconst, **kwargs)\u001b[0m\n\u001b[1;32m    524\u001b[0m             \u001b[0mweights\u001b[0m \u001b[0;34m=\u001b[0m \u001b[0mweights\u001b[0m\u001b[0;34m.\u001b[0m\u001b[0msqueeze\u001b[0m\u001b[0;34m(\u001b[0m\u001b[0;34m)\u001b[0m\u001b[0;34m\u001b[0m\u001b[0;34m\u001b[0m\u001b[0m\n\u001b[1;32m    525\u001b[0m         super(WLS, self).__init__(endog, exog, missing=missing,\n\u001b[0;32m--> 526\u001b[0;31m                                   weights=weights, hasconst=hasconst, **kwargs)\n\u001b[0m\u001b[1;32m    527\u001b[0m         \u001b[0mnobs\u001b[0m \u001b[0;34m=\u001b[0m \u001b[0mself\u001b[0m\u001b[0;34m.\u001b[0m\u001b[0mexog\u001b[0m\u001b[0;34m.\u001b[0m\u001b[0mshape\u001b[0m\u001b[0;34m[\u001b[0m\u001b[0;36m0\u001b[0m\u001b[0;34m]\u001b[0m\u001b[0;34m\u001b[0m\u001b[0;34m\u001b[0m\u001b[0m\n\u001b[1;32m    528\u001b[0m         \u001b[0mweights\u001b[0m \u001b[0;34m=\u001b[0m \u001b[0mself\u001b[0m\u001b[0;34m.\u001b[0m\u001b[0mweights\u001b[0m\u001b[0;34m\u001b[0m\u001b[0;34m\u001b[0m\u001b[0m\n",
            "\u001b[0;32m/usr/local/lib/python3.6/dist-packages/statsmodels/regression/linear_model.py\u001b[0m in \u001b[0;36m__init__\u001b[0;34m(self, endog, exog, **kwargs)\u001b[0m\n\u001b[1;32m     93\u001b[0m     \"\"\"\n\u001b[1;32m     94\u001b[0m     \u001b[0;32mdef\u001b[0m \u001b[0m__init__\u001b[0m\u001b[0;34m(\u001b[0m\u001b[0mself\u001b[0m\u001b[0;34m,\u001b[0m \u001b[0mendog\u001b[0m\u001b[0;34m,\u001b[0m \u001b[0mexog\u001b[0m\u001b[0;34m,\u001b[0m \u001b[0;34m**\u001b[0m\u001b[0mkwargs\u001b[0m\u001b[0;34m)\u001b[0m\u001b[0;34m:\u001b[0m\u001b[0;34m\u001b[0m\u001b[0;34m\u001b[0m\u001b[0m\n\u001b[0;32m---> 95\u001b[0;31m         \u001b[0msuper\u001b[0m\u001b[0;34m(\u001b[0m\u001b[0mRegressionModel\u001b[0m\u001b[0;34m,\u001b[0m \u001b[0mself\u001b[0m\u001b[0;34m)\u001b[0m\u001b[0;34m.\u001b[0m\u001b[0m__init__\u001b[0m\u001b[0;34m(\u001b[0m\u001b[0mendog\u001b[0m\u001b[0;34m,\u001b[0m \u001b[0mexog\u001b[0m\u001b[0;34m,\u001b[0m \u001b[0;34m**\u001b[0m\u001b[0mkwargs\u001b[0m\u001b[0;34m)\u001b[0m\u001b[0;34m\u001b[0m\u001b[0;34m\u001b[0m\u001b[0m\n\u001b[0m\u001b[1;32m     96\u001b[0m         \u001b[0mself\u001b[0m\u001b[0;34m.\u001b[0m\u001b[0m_data_attr\u001b[0m\u001b[0;34m.\u001b[0m\u001b[0mextend\u001b[0m\u001b[0;34m(\u001b[0m\u001b[0;34m[\u001b[0m\u001b[0;34m'pinv_wexog'\u001b[0m\u001b[0;34m,\u001b[0m \u001b[0;34m'wendog'\u001b[0m\u001b[0;34m,\u001b[0m \u001b[0;34m'wexog'\u001b[0m\u001b[0;34m,\u001b[0m \u001b[0;34m'weights'\u001b[0m\u001b[0;34m]\u001b[0m\u001b[0;34m)\u001b[0m\u001b[0;34m\u001b[0m\u001b[0;34m\u001b[0m\u001b[0m\n\u001b[1;32m     97\u001b[0m \u001b[0;34m\u001b[0m\u001b[0m\n",
            "\u001b[0;32m/usr/local/lib/python3.6/dist-packages/statsmodels/base/model.py\u001b[0m in \u001b[0;36m__init__\u001b[0;34m(self, endog, exog, **kwargs)\u001b[0m\n\u001b[1;32m    210\u001b[0m \u001b[0;34m\u001b[0m\u001b[0m\n\u001b[1;32m    211\u001b[0m     \u001b[0;32mdef\u001b[0m \u001b[0m__init__\u001b[0m\u001b[0;34m(\u001b[0m\u001b[0mself\u001b[0m\u001b[0;34m,\u001b[0m \u001b[0mendog\u001b[0m\u001b[0;34m,\u001b[0m \u001b[0mexog\u001b[0m\u001b[0;34m=\u001b[0m\u001b[0;32mNone\u001b[0m\u001b[0;34m,\u001b[0m \u001b[0;34m**\u001b[0m\u001b[0mkwargs\u001b[0m\u001b[0;34m)\u001b[0m\u001b[0;34m:\u001b[0m\u001b[0;34m\u001b[0m\u001b[0;34m\u001b[0m\u001b[0m\n\u001b[0;32m--> 212\u001b[0;31m         \u001b[0msuper\u001b[0m\u001b[0;34m(\u001b[0m\u001b[0mLikelihoodModel\u001b[0m\u001b[0;34m,\u001b[0m \u001b[0mself\u001b[0m\u001b[0;34m)\u001b[0m\u001b[0;34m.\u001b[0m\u001b[0m__init__\u001b[0m\u001b[0;34m(\u001b[0m\u001b[0mendog\u001b[0m\u001b[0;34m,\u001b[0m \u001b[0mexog\u001b[0m\u001b[0;34m,\u001b[0m \u001b[0;34m**\u001b[0m\u001b[0mkwargs\u001b[0m\u001b[0;34m)\u001b[0m\u001b[0;34m\u001b[0m\u001b[0;34m\u001b[0m\u001b[0m\n\u001b[0m\u001b[1;32m    213\u001b[0m         \u001b[0mself\u001b[0m\u001b[0;34m.\u001b[0m\u001b[0minitialize\u001b[0m\u001b[0;34m(\u001b[0m\u001b[0;34m)\u001b[0m\u001b[0;34m\u001b[0m\u001b[0;34m\u001b[0m\u001b[0m\n\u001b[1;32m    214\u001b[0m \u001b[0;34m\u001b[0m\u001b[0m\n",
            "\u001b[0;32m/usr/local/lib/python3.6/dist-packages/statsmodels/base/model.py\u001b[0m in \u001b[0;36m__init__\u001b[0;34m(self, endog, exog, **kwargs)\u001b[0m\n\u001b[1;32m     61\u001b[0m         \u001b[0mhasconst\u001b[0m \u001b[0;34m=\u001b[0m \u001b[0mkwargs\u001b[0m\u001b[0;34m.\u001b[0m\u001b[0mpop\u001b[0m\u001b[0;34m(\u001b[0m\u001b[0;34m'hasconst'\u001b[0m\u001b[0;34m,\u001b[0m \u001b[0;32mNone\u001b[0m\u001b[0;34m)\u001b[0m\u001b[0;34m\u001b[0m\u001b[0;34m\u001b[0m\u001b[0m\n\u001b[1;32m     62\u001b[0m         self.data = self._handle_data(endog, exog, missing, hasconst,\n\u001b[0;32m---> 63\u001b[0;31m                                       **kwargs)\n\u001b[0m\u001b[1;32m     64\u001b[0m         \u001b[0mself\u001b[0m\u001b[0;34m.\u001b[0m\u001b[0mk_constant\u001b[0m \u001b[0;34m=\u001b[0m \u001b[0mself\u001b[0m\u001b[0;34m.\u001b[0m\u001b[0mdata\u001b[0m\u001b[0;34m.\u001b[0m\u001b[0mk_constant\u001b[0m\u001b[0;34m\u001b[0m\u001b[0;34m\u001b[0m\u001b[0m\n\u001b[1;32m     65\u001b[0m         \u001b[0mself\u001b[0m\u001b[0;34m.\u001b[0m\u001b[0mexog\u001b[0m \u001b[0;34m=\u001b[0m \u001b[0mself\u001b[0m\u001b[0;34m.\u001b[0m\u001b[0mdata\u001b[0m\u001b[0;34m.\u001b[0m\u001b[0mexog\u001b[0m\u001b[0;34m\u001b[0m\u001b[0;34m\u001b[0m\u001b[0m\n",
            "\u001b[0;32m/usr/local/lib/python3.6/dist-packages/statsmodels/base/model.py\u001b[0m in \u001b[0;36m_handle_data\u001b[0;34m(self, endog, exog, missing, hasconst, **kwargs)\u001b[0m\n\u001b[1;32m     86\u001b[0m \u001b[0;34m\u001b[0m\u001b[0m\n\u001b[1;32m     87\u001b[0m     \u001b[0;32mdef\u001b[0m \u001b[0m_handle_data\u001b[0m\u001b[0;34m(\u001b[0m\u001b[0mself\u001b[0m\u001b[0;34m,\u001b[0m \u001b[0mendog\u001b[0m\u001b[0;34m,\u001b[0m \u001b[0mexog\u001b[0m\u001b[0;34m,\u001b[0m \u001b[0mmissing\u001b[0m\u001b[0;34m,\u001b[0m \u001b[0mhasconst\u001b[0m\u001b[0;34m,\u001b[0m \u001b[0;34m**\u001b[0m\u001b[0mkwargs\u001b[0m\u001b[0;34m)\u001b[0m\u001b[0;34m:\u001b[0m\u001b[0;34m\u001b[0m\u001b[0;34m\u001b[0m\u001b[0m\n\u001b[0;32m---> 88\u001b[0;31m         \u001b[0mdata\u001b[0m \u001b[0;34m=\u001b[0m \u001b[0mhandle_data\u001b[0m\u001b[0;34m(\u001b[0m\u001b[0mendog\u001b[0m\u001b[0;34m,\u001b[0m \u001b[0mexog\u001b[0m\u001b[0;34m,\u001b[0m \u001b[0mmissing\u001b[0m\u001b[0;34m,\u001b[0m \u001b[0mhasconst\u001b[0m\u001b[0;34m,\u001b[0m \u001b[0;34m**\u001b[0m\u001b[0mkwargs\u001b[0m\u001b[0;34m)\u001b[0m\u001b[0;34m\u001b[0m\u001b[0;34m\u001b[0m\u001b[0m\n\u001b[0m\u001b[1;32m     89\u001b[0m         \u001b[0;31m# kwargs arrays could have changed, easier to just attach here\u001b[0m\u001b[0;34m\u001b[0m\u001b[0;34m\u001b[0m\u001b[0;34m\u001b[0m\u001b[0m\n\u001b[1;32m     90\u001b[0m         \u001b[0;32mfor\u001b[0m \u001b[0mkey\u001b[0m \u001b[0;32min\u001b[0m \u001b[0mkwargs\u001b[0m\u001b[0;34m:\u001b[0m\u001b[0;34m\u001b[0m\u001b[0;34m\u001b[0m\u001b[0m\n",
            "\u001b[0;32m/usr/local/lib/python3.6/dist-packages/statsmodels/base/data.py\u001b[0m in \u001b[0;36mhandle_data\u001b[0;34m(endog, exog, missing, hasconst, **kwargs)\u001b[0m\n\u001b[1;32m    628\u001b[0m     \u001b[0mklass\u001b[0m \u001b[0;34m=\u001b[0m \u001b[0mhandle_data_class_factory\u001b[0m\u001b[0;34m(\u001b[0m\u001b[0mendog\u001b[0m\u001b[0;34m,\u001b[0m \u001b[0mexog\u001b[0m\u001b[0;34m)\u001b[0m\u001b[0;34m\u001b[0m\u001b[0;34m\u001b[0m\u001b[0m\n\u001b[1;32m    629\u001b[0m     return klass(endog, exog=exog, missing=missing, hasconst=hasconst,\n\u001b[0;32m--> 630\u001b[0;31m                  **kwargs)\n\u001b[0m",
            "\u001b[0;32m/usr/local/lib/python3.6/dist-packages/statsmodels/base/data.py\u001b[0m in \u001b[0;36m__init__\u001b[0;34m(self, endog, exog, missing, hasconst, **kwargs)\u001b[0m\n\u001b[1;32m     74\u001b[0m             \u001b[0mself\u001b[0m\u001b[0;34m.\u001b[0m\u001b[0morig_endog\u001b[0m \u001b[0;34m=\u001b[0m \u001b[0mendog\u001b[0m\u001b[0;34m\u001b[0m\u001b[0;34m\u001b[0m\u001b[0m\n\u001b[1;32m     75\u001b[0m             \u001b[0mself\u001b[0m\u001b[0;34m.\u001b[0m\u001b[0morig_exog\u001b[0m \u001b[0;34m=\u001b[0m \u001b[0mexog\u001b[0m\u001b[0;34m\u001b[0m\u001b[0;34m\u001b[0m\u001b[0m\n\u001b[0;32m---> 76\u001b[0;31m             \u001b[0mself\u001b[0m\u001b[0;34m.\u001b[0m\u001b[0mendog\u001b[0m\u001b[0;34m,\u001b[0m \u001b[0mself\u001b[0m\u001b[0;34m.\u001b[0m\u001b[0mexog\u001b[0m \u001b[0;34m=\u001b[0m \u001b[0mself\u001b[0m\u001b[0;34m.\u001b[0m\u001b[0m_convert_endog_exog\u001b[0m\u001b[0;34m(\u001b[0m\u001b[0mendog\u001b[0m\u001b[0;34m,\u001b[0m \u001b[0mexog\u001b[0m\u001b[0;34m)\u001b[0m\u001b[0;34m\u001b[0m\u001b[0;34m\u001b[0m\u001b[0m\n\u001b[0m\u001b[1;32m     77\u001b[0m \u001b[0;34m\u001b[0m\u001b[0m\n\u001b[1;32m     78\u001b[0m         \u001b[0;31m# this has side-effects, attaches k_constant and const_idx\u001b[0m\u001b[0;34m\u001b[0m\u001b[0;34m\u001b[0m\u001b[0;34m\u001b[0m\u001b[0m\n",
            "\u001b[0;32m/usr/local/lib/python3.6/dist-packages/statsmodels/base/data.py\u001b[0m in \u001b[0;36m_convert_endog_exog\u001b[0;34m(self, endog, exog)\u001b[0m\n\u001b[1;32m    469\u001b[0m         \u001b[0mexog\u001b[0m \u001b[0;34m=\u001b[0m \u001b[0mexog\u001b[0m \u001b[0;32mif\u001b[0m \u001b[0mexog\u001b[0m \u001b[0;32mis\u001b[0m \u001b[0;32mNone\u001b[0m \u001b[0;32melse\u001b[0m \u001b[0mnp\u001b[0m\u001b[0;34m.\u001b[0m\u001b[0masarray\u001b[0m\u001b[0;34m(\u001b[0m\u001b[0mexog\u001b[0m\u001b[0;34m)\u001b[0m\u001b[0;34m\u001b[0m\u001b[0;34m\u001b[0m\u001b[0m\n\u001b[1;32m    470\u001b[0m         \u001b[0;32mif\u001b[0m \u001b[0mendog\u001b[0m\u001b[0;34m.\u001b[0m\u001b[0mdtype\u001b[0m \u001b[0;34m==\u001b[0m \u001b[0mobject\u001b[0m \u001b[0;32mor\u001b[0m \u001b[0mexog\u001b[0m \u001b[0;32mis\u001b[0m \u001b[0;32mnot\u001b[0m \u001b[0;32mNone\u001b[0m \u001b[0;32mand\u001b[0m \u001b[0mexog\u001b[0m\u001b[0;34m.\u001b[0m\u001b[0mdtype\u001b[0m \u001b[0;34m==\u001b[0m \u001b[0mobject\u001b[0m\u001b[0;34m:\u001b[0m\u001b[0;34m\u001b[0m\u001b[0;34m\u001b[0m\u001b[0m\n\u001b[0;32m--> 471\u001b[0;31m             raise ValueError(\"Pandas data cast to numpy dtype of object. \"\n\u001b[0m\u001b[1;32m    472\u001b[0m                              \"Check input data with np.asarray(data).\")\n\u001b[1;32m    473\u001b[0m         \u001b[0;32mreturn\u001b[0m \u001b[0msuper\u001b[0m\u001b[0;34m(\u001b[0m\u001b[0mPandasData\u001b[0m\u001b[0;34m,\u001b[0m \u001b[0mself\u001b[0m\u001b[0;34m)\u001b[0m\u001b[0;34m.\u001b[0m\u001b[0m_convert_endog_exog\u001b[0m\u001b[0;34m(\u001b[0m\u001b[0mendog\u001b[0m\u001b[0;34m,\u001b[0m \u001b[0mexog\u001b[0m\u001b[0;34m)\u001b[0m\u001b[0;34m\u001b[0m\u001b[0;34m\u001b[0m\u001b[0m\n",
            "\u001b[0;31mValueError\u001b[0m: Pandas data cast to numpy dtype of object. Check input data with np.asarray(data)."
          ]
        }
      ]
    },
    {
      "metadata": {
        "id": "RcF8XIRgiA0N",
        "colab_type": "text"
      },
      "cell_type": "markdown",
      "source": [
        "You should find that the R-squared is still good and that the p-values are all still practically zero -- but the values of the slope and intercept may be completely different.  Something about this does not seem right: how could one data point distort the model so much?  Clearly, R-squared doesn't capture the whole story.\n",
        "\n",
        "The linear model makes two critical assumptions (there are others, but these are two of the most important):\n",
        "\n",
        "- <b>Homoskedasticity</b>: This is a fancy way of saying that the variance of the errors is the same no matter what the value of the predictor variable is.  In other words, the predicted range of house prices is about as wide for a 1,000 square foot house as it is for a 10,000 square foot house.\n",
        "- <b>Independence of errors</b>: This means that knowing how much the model gets one house price wrong shouldn't tell us anything about how much the model gets wrong the prices of other houses.\n",
        "\n",
        "Both of these assumptions are quite strong and rarely hold in practice: the goal is more to make sure they hold reasonably well.  Let's look at the residuals to see how well they hold:"
      ]
    },
    {
      "metadata": {
        "id": "xykcpvHSiA0O",
        "colab_type": "code",
        "outputId": "8fab1962-a5ab-47d7-fdd7-cfd869229436",
        "colab": {
          "base_uri": "https://localhost:8080/",
          "height": 403
        }
      },
      "cell_type": "code",
      "source": [
        "data[\"Residual\"] = m.resid\n",
        "data.sort_values('Log GDP per capita', inplace=True)\n",
        "fig = plt.figure(figsize=(10, 6))\n",
        "plt.plot(data[\"Log GDP per capita\"], data[\"Residual\"], \"go-\", markersize=4)\n",
        "plt.xlabel(\"Log GDP per capita\")\n",
        "plt.ylabel(\"Actual minus Predicted Life Ladder\")\n",
        "plt.title(\"Log GDP per capita versus Residual Life Ladder\")\n",
        "plt.grid()"
      ],
      "execution_count": 0,
      "outputs": [
        {
          "output_type": "display_data",
          "data": {
            "image/png": "[encoded data removed]",
            "text/plain": [
              "<Figure size 720x432 with 1 Axes>"
            ]
          },
          "metadata": {
            "tags": []
          }
        }
      ]
    },
    {
      "metadata": {
        "id": "6a0QL4tMiA0Q",
        "colab_type": "text"
      },
      "cell_type": "markdown",
      "source": [
        "<div style=\"border: 3px solid green; padding: 10px\">\n",
        "  <b>Exercise 7:</b> Looking at the above plot, do you think the above two assumptions of linear regressions hold?\n",
        "</div>"
      ]
    },
    {
      "metadata": {
        "id": "p9CTUe74iA0Q",
        "colab_type": "code",
        "colab": {}
      },
      "cell_type": "code",
      "source": [
        ""
      ],
      "execution_count": 0,
      "outputs": []
    },
    {
      "metadata": {
        "id": "ThfLFHuciA0R",
        "colab_type": "text"
      },
      "cell_type": "markdown",
      "source": [
        "<div style=\"border: 3px solid green; padding: 10px\">\n",
        "  <b>Bonus exercise 1:</b> How would you confirm that the log transformation has made the distribution more normal?\n",
        "</div>"
      ]
    },
    {
      "metadata": {
        "id": "fE2oDtrViA0S",
        "colab_type": "code",
        "colab": {}
      },
      "cell_type": "code",
      "source": [
        ""
      ],
      "execution_count": 0,
      "outputs": []
    },
    {
      "metadata": {
        "id": "N27NWP_JiA0U",
        "colab_type": "text"
      },
      "cell_type": "markdown",
      "source": [
        "<div style=\"border: 3px solid green; padding: 10px\">\n",
        "  <b>Bonus exercise 2:</b> Plot the scatter plot together with the regular GDP per capita and Log GDP per capita space fitted lines\n",
        "</div>"
      ]
    },
    {
      "metadata": {
        "id": "m39_MEXGlE2d",
        "colab_type": "code",
        "colab": {}
      },
      "cell_type": "code",
      "source": [
        "Find the factor that describes happiness the best"
      ],
      "execution_count": 0,
      "outputs": []
    },
    {
      "metadata": {
        "id": "ZaawSNFStF6R",
        "colab_type": "text"
      },
      "cell_type": "markdown",
      "source": [
        "**Main Excercise 1:** Find the factor that describes happiness the best"
      ]
    },
    {
      "metadata": {
        "id": "pe16zO5Ut9PV",
        "colab_type": "text"
      },
      "cell_type": "markdown",
      "source": [
        "**Main Exercise 2:** Find the factor that explains residualised happiness (post first factor)"
      ]
    },
    {
      "metadata": {
        "id": "XncTkyq_uRt2",
        "colab_type": "text"
      },
      "cell_type": "markdown",
      "source": [
        "**Main Excercise 3:** Which country has seen highest change in happiness?"
      ]
    },
    {
      "metadata": {
        "id": "pIHTazo-ubtY",
        "colab_type": "text"
      },
      "cell_type": "markdown",
      "source": [
        "**Main Excercise 4:** Which factor best explains the change in happiness?"
      ]
    }
  ]
}