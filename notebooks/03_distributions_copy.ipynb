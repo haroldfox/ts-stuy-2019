{
  "nbformat": 4,
  "nbformat_minor": 0,
  "metadata": {
    "colab": {
      "name": "03_distributions.ipynb",
      "version": "0.3.2",
      "provenance": []
    },
    "kernelspec": {
      "display_name": "Python 2",
      "language": "python",
      "name": "python2"
    }
  },
  "cells": [
    {
      "metadata": {
        "id": "9_wrsseu9JnK",
        "colab_type": "text"
      },
      "cell_type": "markdown",
      "source": [
        "### Key concepts\n",
        "1. Distributions are where data comes from\n",
        "\n",
        "2. Gaussian distribution\n",
        "\n",
        "3. Mean & standard deviation\n",
        "\n",
        "4. Percentiles & outliers\n",
        "\n",
        "5. Power law distribution"
      ]
    },
    {
      "metadata": {
        "id": "HqvZKaqG9JnM",
        "colab_type": "code",
        "colab": {}
      },
      "cell_type": "code",
      "source": [
        "%matplotlib inline\n",
        "import matplotlib\n",
        "import matplotlib.pyplot as plt\n",
        "import pandas as pd\n",
        "import random\n",
        "from IPython.core.display import clear_output\n",
        "\n",
        "def coin_flip(p=0.5):\n",
        "    val = random.random()\n",
        "    if val < p:\n",
        "        return 1 # Heads\n",
        "    else:\n",
        "        return 0 # Tails\n",
        "\n",
        "def roll_dice():\n",
        "    val1 = int(random.random() * 6) + 1\n",
        "    val2 = int(random.random() * 6) + 1\n",
        "    return val1 + val2\n",
        "    \n",
        "def coin_flips(n=10):\n",
        "    res = 0\n",
        "    for i in range(n):\n",
        "        res += coin_flip()\n",
        "    return res\n",
        "\n",
        "def random_avg(n=10):\n",
        "    res = 0\n",
        "    for i in range(n):\n",
        "        res += 10 * random.random()\n",
        "    return res / n\n",
        "\n",
        "def simulate(f, runs=100):\n",
        "    return pd.DataFrame({'Val': [f() for i in range(runs)]})\n",
        "\n",
        "def show_counts(df):\n",
        "    df = df.assign(Count=1)\n",
        "    df = df.groupby('Val').count()\n",
        "    return df\n",
        "\n",
        "def histogram(df, bins=10, range=None):\n",
        "    if isinstance(df, pd.Series):\n",
        "        df = pd.DataFrame({df.name: df})\n",
        "    counts = df.assign(Count=1)\n",
        "    col_name = df.columns[0]\n",
        "    counts = counts.groupby(col_name).count()\n",
        "    df.plot.hist(bins=bins, range=range)\n",
        "    plt.show()\n",
        "    if counts.shape[0] < 30:\n",
        "        return counts"
      ],
      "execution_count": 0,
      "outputs": []
    },
    {
      "metadata": {
        "id": "ow6hvYXi9JnQ",
        "colab_type": "text"
      },
      "cell_type": "markdown",
      "source": [
        "### 1. Distributions\n",
        "We think of data as coming from a distribution. A distribution is a random process that produces individual data points.  \n",
        "A distribution is like a person, and data is like a photograph of that person.\n",
        "The more data points you have, the more you know about the true distribution, like a high-resolution photograph."
      ]
    },
    {
      "metadata": {
        "id": "CinCjDYP9JnQ",
        "colab_type": "text"
      },
      "cell_type": "markdown",
      "source": [
        "#### Dice Rolls\n",
        "\n",
        "We can analyze a distribution by making repeated random simulations and plotting a histogram of the results. Here, we simulate rolling dice 100 times."
      ]
    },
    {
      "metadata": {
        "id": "9G4CkDVa9JnR",
        "colab_type": "code",
        "colab": {
          "base_uri": "https://localhost:8080/",
          "height": 650
        },
        "outputId": "d8ac3060-bb64-4840-db7e-0cbaf69f364a"
      },
      "cell_type": "code",
      "source": [
        "histogram(simulate(f=roll_dice, runs=100), bins=range(2, 12))"
      ],
      "execution_count": 9,
      "outputs": [
        {
          "output_type": "display_data",
          "data": {
            "image/png": "[encoded data removed]",
            "text/plain": [
              "<Figure size 432x288 with 1 Axes>"
            ]
          },
          "metadata": {
            "tags": []
          }
        },
        {
          "output_type": "execute_result",
          "data": {
            "text/html": [
              "<div>\n",
              "<style scoped>\n",
              "    .dataframe tbody tr th:only-of-type {\n",
              "        vertical-align: middle;\n",
              "    }\n",
              "\n",
              "    .dataframe tbody tr th {\n",
              "        vertical-align: top;\n",
              "    }\n",
              "\n",
              "    .dataframe thead th {\n",
              "        text-align: right;\n",
              "    }\n",
              "</style>\n",
              "<table border=\"1\" class=\"dataframe\">\n",
              "  <thead>\n",
              "    <tr style=\"text-align: right;\">\n",
              "      <th></th>\n",
              "      <th>Count</th>\n",
              "    </tr>\n",
              "    <tr>\n",
              "      <th>Val</th>\n",
              "      <th></th>\n",
              "    </tr>\n",
              "  </thead>\n",
              "  <tbody>\n",
              "    <tr>\n",
              "      <th>2</th>\n",
              "      <td>2</td>\n",
              "    </tr>\n",
              "    <tr>\n",
              "      <th>3</th>\n",
              "      <td>8</td>\n",
              "    </tr>\n",
              "    <tr>\n",
              "      <th>4</th>\n",
              "      <td>6</td>\n",
              "    </tr>\n",
              "    <tr>\n",
              "      <th>5</th>\n",
              "      <td>9</td>\n",
              "    </tr>\n",
              "    <tr>\n",
              "      <th>6</th>\n",
              "      <td>11</td>\n",
              "    </tr>\n",
              "    <tr>\n",
              "      <th>7</th>\n",
              "      <td>25</td>\n",
              "    </tr>\n",
              "    <tr>\n",
              "      <th>8</th>\n",
              "      <td>13</td>\n",
              "    </tr>\n",
              "    <tr>\n",
              "      <th>9</th>\n",
              "      <td>18</td>\n",
              "    </tr>\n",
              "    <tr>\n",
              "      <th>10</th>\n",
              "      <td>1</td>\n",
              "    </tr>\n",
              "    <tr>\n",
              "      <th>11</th>\n",
              "      <td>3</td>\n",
              "    </tr>\n",
              "    <tr>\n",
              "      <th>12</th>\n",
              "      <td>4</td>\n",
              "    </tr>\n",
              "  </tbody>\n",
              "</table>\n",
              "</div>"
            ],
            "text/plain": [
              "     Count\n",
              "Val       \n",
              "2        2\n",
              "3        8\n",
              "4        6\n",
              "5        9\n",
              "6       11\n",
              "7       25\n",
              "8       13\n",
              "9       18\n",
              "10       1\n",
              "11       3\n",
              "12       4"
            ]
          },
          "metadata": {
            "tags": []
          },
          "execution_count": 9
        }
      ]
    },
    {
      "metadata": {
        "id": "HLKeQU7J9JnT",
        "colab_type": "text"
      },
      "cell_type": "markdown",
      "source": [
        "To understand why the distribution has this shape, consider that every square in this diagram represents an equally likely outcome.\n",
        "\n",
        "<img src=\"https://github.com/haroldfox/ts-stuy-2019/blob/master/images/dicediagram.jpg?raw=1\" style=\"width: 300px;\">\n",
        "[(source)](https://casmusings.wordpress.com/about/)"
      ]
    },
    {
      "metadata": {
        "id": "XwmKC6gI9JnU",
        "colab_type": "text"
      },
      "cell_type": "markdown",
      "source": [
        "#### Coin Flips\n",
        "Here is a simulation of flipping a coin 10 times. Flipping many coins approximates a bell curve distribution. "
      ]
    },
    {
      "metadata": {
        "id": "jR-CImSD9JnV",
        "colab_type": "code",
        "colab": {
          "base_uri": "https://localhost:8080/",
          "height": 591
        },
        "outputId": "b49dd10d-9fa7-4ad7-ec0a-b1681385a716"
      },
      "cell_type": "code",
      "source": [
        "histogram(simulate(f=coin_flips, runs=100), bins=range(0, 11))"
      ],
      "execution_count": 10,
      "outputs": [
        {
          "output_type": "display_data",
          "data": {
            "image/png": "[encoded data removed]",
            "text/plain": [
              "<Figure size 432x288 with 1 Axes>"
            ]
          },
          "metadata": {
            "tags": []
          }
        },
        {
          "output_type": "execute_result",
          "data": {
            "text/html": [
              "<div>\n",
              "<style scoped>\n",
              "    .dataframe tbody tr th:only-of-type {\n",
              "        vertical-align: middle;\n",
              "    }\n",
              "\n",
              "    .dataframe tbody tr th {\n",
              "        vertical-align: top;\n",
              "    }\n",
              "\n",
              "    .dataframe thead th {\n",
              "        text-align: right;\n",
              "    }\n",
              "</style>\n",
              "<table border=\"1\" class=\"dataframe\">\n",
              "  <thead>\n",
              "    <tr style=\"text-align: right;\">\n",
              "      <th></th>\n",
              "      <th>Count</th>\n",
              "    </tr>\n",
              "    <tr>\n",
              "      <th>Val</th>\n",
              "      <th></th>\n",
              "    </tr>\n",
              "  </thead>\n",
              "  <tbody>\n",
              "    <tr>\n",
              "      <th>0</th>\n",
              "      <td>2</td>\n",
              "    </tr>\n",
              "    <tr>\n",
              "      <th>2</th>\n",
              "      <td>5</td>\n",
              "    </tr>\n",
              "    <tr>\n",
              "      <th>3</th>\n",
              "      <td>9</td>\n",
              "    </tr>\n",
              "    <tr>\n",
              "      <th>4</th>\n",
              "      <td>26</td>\n",
              "    </tr>\n",
              "    <tr>\n",
              "      <th>5</th>\n",
              "      <td>24</td>\n",
              "    </tr>\n",
              "    <tr>\n",
              "      <th>6</th>\n",
              "      <td>17</td>\n",
              "    </tr>\n",
              "    <tr>\n",
              "      <th>7</th>\n",
              "      <td>15</td>\n",
              "    </tr>\n",
              "    <tr>\n",
              "      <th>8</th>\n",
              "      <td>1</td>\n",
              "    </tr>\n",
              "    <tr>\n",
              "      <th>9</th>\n",
              "      <td>1</td>\n",
              "    </tr>\n",
              "  </tbody>\n",
              "</table>\n",
              "</div>"
            ],
            "text/plain": [
              "     Count\n",
              "Val       \n",
              "0        2\n",
              "2        5\n",
              "3        9\n",
              "4       26\n",
              "5       24\n",
              "6       17\n",
              "7       15\n",
              "8        1\n",
              "9        1"
            ]
          },
          "metadata": {
            "tags": []
          },
          "execution_count": 10
        }
      ]
    },
    {
      "metadata": {
        "id": "RSkS3mcb9JnX",
        "colab_type": "code",
        "colab": {}
      },
      "cell_type": "code",
      "source": [
        "# Implement a distribution\n",
        "# this function should flip a coin repeatedly until you get a head. it should return the number of coin flips required. \n",
        "def coin_flips_to_head():\n",
        "    return ..."
      ],
      "execution_count": 0,
      "outputs": []
    },
    {
      "metadata": {
        "id": "gF9RtAS-9JnZ",
        "colab_type": "code",
        "colab": {}
      },
      "cell_type": "code",
      "source": [
        "histogram(simulate(f=coin_flips_to_head))"
      ],
      "execution_count": 0,
      "outputs": []
    },
    {
      "metadata": {
        "id": "rH2QTzWJ9Jnb",
        "colab_type": "text"
      },
      "cell_type": "markdown",
      "source": [
        "### 2. The Gaussian (Normal) distribution\n",
        "A Gaussian distribution is a bell curve, where data clusters around a central mean.\n",
        "This is the most common distribution of data. Height, test scores, and commute times all look like Gaussians.\n",
        "It's so common because the sum of random numbers always looks has a Gaussian distribution."
      ]
    },
    {
      "metadata": {
        "id": "9dkuSRKM9Jnc",
        "colab_type": "code",
        "colab": {
          "base_uri": "https://localhost:8080/",
          "height": 265
        },
        "outputId": "2b103bf8-245b-49ca-bf44-2982c2d2ecd5"
      },
      "cell_type": "code",
      "source": [
        "# the more data points we have, the closer our data looks like the true distribution\n",
        "flips = []\n",
        "for _ in range(100):\n",
        "    flips.append(simulate(f=random_avg, runs=100))\n",
        "    clear_output(wait=True)\n",
        "    histogram(pd.concat(flips), bins=50, range=(0, 10))"
      ],
      "execution_count": 11,
      "outputs": [
        {
          "output_type": "display_data",
          "data": {
            "image/png": "[encoded data removed]",
            "text/plain": [
              "<Figure size 432x288 with 1 Axes>"
            ]
          },
          "metadata": {
            "tags": []
          }
        }
      ]
    },
    {
      "metadata": {
        "id": "ni9RuQ9vKAvy",
        "colab_type": "code",
        "outputId": "ad394e4c-01d9-4624-b875-643225052afe",
        "colab": {
          "base_uri": "https://localhost:8080/",
          "height": 121
        }
      },
      "cell_type": "code",
      "source": [
        "!git clone https://<user>:<pass>@github.com/haroldfox/ts-stuy-2019"
      ],
      "execution_count": 0,
      "outputs": [
        {
          "output_type": "stream",
          "text": [
            "Cloning into 'ts-stuy-2019'...\n",
            "remote: Enumerating objects: 96, done.\u001b[K\n",
            "remote: Counting objects: 100% (96/96), done.\u001b[K\n",
            "remote: Compressing objects: 100% (88/88), done.\u001b[K\n",
            "remote: Total 96 (delta 32), reused 32 (delta 4), pack-reused 0\u001b[K\n",
            "Unpacking objects: 100% (96/96), done.\n"
          ],
          "name": "stdout"
        }
      ]
    },
    {
      "metadata": {
        "id": "llP6K8BU9Jng",
        "colab_type": "text"
      },
      "cell_type": "markdown",
      "source": [
        "## Real-world Data: NBA Player Statistics 🏀\n",
        "\n",
        "Let's load a dataset of NBA player statistics to see how these distributions come up in the real world.\n",
        "\n",
        "![](https://github.com/haroldfox/ts-stuy-2019/blob/master/images/nickyoung.gif?raw=1)"
      ]
    },
    {
      "metadata": {
        "id": "ZcH9buYc9Jng",
        "colab_type": "code",
        "colab": {
          "base_uri": "https://localhost:8080/",
          "height": 330
        },
        "outputId": "16c0d75a-c5de-438d-bd75-4f2849a86652"
      },
      "cell_type": "code",
      "source": [
        "nba = pd.read_hdf('ts-stuy-2019/datasets/nba.h5')\n",
        "for col in nba.columns:\n",
        "    if col not in ['Player', 'Pos', 'Tm']:\n",
        "        nba[col] = pd.to_numeric(nba[col])"
      ],
      "execution_count": 23,
      "outputs": [
        {
          "output_type": "error",
          "ename": "IOError",
          "evalue": "ignored",
          "traceback": [
            "\u001b[0;31m\u001b[0m",
            "\u001b[0;31mIOError\u001b[0mTraceback (most recent call last)",
            "\u001b[0;32m<ipython-input-23-c069fe4be6b8>\u001b[0m in \u001b[0;36m<module>\u001b[0;34m()\u001b[0m\n\u001b[0;32m----> 1\u001b[0;31m \u001b[0mnba\u001b[0m \u001b[0;34m=\u001b[0m \u001b[0mpd\u001b[0m\u001b[0;34m.\u001b[0m\u001b[0mread_hdf\u001b[0m\u001b[0;34m(\u001b[0m\u001b[0;34m'ts-stuy-2019/datasets/nba.h5'\u001b[0m\u001b[0;34m)\u001b[0m\u001b[0;34m\u001b[0m\u001b[0m\n\u001b[0m\u001b[1;32m      2\u001b[0m \u001b[0;32mfor\u001b[0m \u001b[0mcol\u001b[0m \u001b[0;32min\u001b[0m \u001b[0mnba\u001b[0m\u001b[0;34m.\u001b[0m\u001b[0mcolumns\u001b[0m\u001b[0;34m:\u001b[0m\u001b[0;34m\u001b[0m\u001b[0m\n\u001b[1;32m      3\u001b[0m     \u001b[0;32mif\u001b[0m \u001b[0mcol\u001b[0m \u001b[0;32mnot\u001b[0m \u001b[0;32min\u001b[0m \u001b[0;34m[\u001b[0m\u001b[0;34m'Player'\u001b[0m\u001b[0;34m,\u001b[0m \u001b[0;34m'Pos'\u001b[0m\u001b[0;34m,\u001b[0m \u001b[0;34m'Tm'\u001b[0m\u001b[0;34m]\u001b[0m\u001b[0;34m:\u001b[0m\u001b[0;34m\u001b[0m\u001b[0m\n\u001b[1;32m      4\u001b[0m         \u001b[0mnba\u001b[0m\u001b[0;34m[\u001b[0m\u001b[0mcol\u001b[0m\u001b[0;34m]\u001b[0m \u001b[0;34m=\u001b[0m \u001b[0mpd\u001b[0m\u001b[0;34m.\u001b[0m\u001b[0mto_numeric\u001b[0m\u001b[0;34m(\u001b[0m\u001b[0mnba\u001b[0m\u001b[0;34m[\u001b[0m\u001b[0mcol\u001b[0m\u001b[0;34m]\u001b[0m\u001b[0;34m)\u001b[0m\u001b[0;34m\u001b[0m\u001b[0m\n",
            "\u001b[0;32m/usr/local/lib/python2.7/dist-packages/pandas/io/pytables.pyc\u001b[0m in \u001b[0;36mread_hdf\u001b[0;34m(path_or_buf, key, mode, **kwargs)\u001b[0m\n\u001b[1;32m    345\u001b[0m         \u001b[0;32mif\u001b[0m \u001b[0;32mnot\u001b[0m \u001b[0mexists\u001b[0m\u001b[0;34m:\u001b[0m\u001b[0;34m\u001b[0m\u001b[0m\n\u001b[1;32m    346\u001b[0m             raise compat.FileNotFoundError(\n\u001b[0;32m--> 347\u001b[0;31m                 'File %s does not exist' % path_or_buf)\n\u001b[0m\u001b[1;32m    348\u001b[0m \u001b[0;34m\u001b[0m\u001b[0m\n\u001b[1;32m    349\u001b[0m         \u001b[0mstore\u001b[0m \u001b[0;34m=\u001b[0m \u001b[0mHDFStore\u001b[0m\u001b[0;34m(\u001b[0m\u001b[0mpath_or_buf\u001b[0m\u001b[0;34m,\u001b[0m \u001b[0mmode\u001b[0m\u001b[0;34m=\u001b[0m\u001b[0mmode\u001b[0m\u001b[0;34m,\u001b[0m \u001b[0;34m**\u001b[0m\u001b[0mkwargs\u001b[0m\u001b[0;34m)\u001b[0m\u001b[0;34m\u001b[0m\u001b[0m\n",
            "\u001b[0;31mIOError\u001b[0m: File ts-stuy-2019/datasets/nba.h5 does not exist"
          ]
        }
      ]
    },
    {
      "metadata": {
        "id": "OiN-KusC9Jnk",
        "colab_type": "text"
      },
      "cell_type": "markdown",
      "source": [
        "The data has some basic data for each player:\n",
        "\n",
        "- **Player**: The player's name\n",
        "- **Tm**: The player's team. *Players who were traded within the season are listed multiple times.*\n",
        "- **Pos**: The player's position ([reference](https://en.wikipedia.org/wiki/Basketball_positions))\n",
        "- **Age**: The player's age\n",
        "- **2P, 2PA, 2P%**: The player's 2-pointer stats (goals made, attempts, percentage)\n",
        "- **3P, 3PA, 3P%**: The player's 3-pointer stats\n",
        "- **FT, FTA, FT%**: The player's free throw stats\n",
        "- Plenty of others, see [this reference](https://en.wikipedia.org/wiki/Basketball_statistics)\n",
        "\n",
        "Use `.head()` to have a look at the first few rows to familiarize yourself with the data."
      ]
    },
    {
      "metadata": {
        "id": "qeQLQAIt9Jnl",
        "colab_type": "code",
        "outputId": "f5abc9e4-dd61-44f0-b151-5d9f8e4985a2",
        "colab": {
          "base_uri": "https://localhost:8080/",
          "height": 338
        }
      },
      "cell_type": "code",
      "source": [
        "nba.head()"
      ],
      "execution_count": 0,
      "outputs": [
        {
          "output_type": "execute_result",
          "data": {
            "text/html": [
              "<div>\n",
              "<style scoped>\n",
              "    .dataframe tbody tr th:only-of-type {\n",
              "        vertical-align: middle;\n",
              "    }\n",
              "\n",
              "    .dataframe tbody tr th {\n",
              "        vertical-align: top;\n",
              "    }\n",
              "\n",
              "    .dataframe thead th {\n",
              "        text-align: right;\n",
              "    }\n",
              "</style>\n",
              "<table border=\"1\" class=\"dataframe\">\n",
              "  <thead>\n",
              "    <tr style=\"text-align: right;\">\n",
              "      <th></th>\n",
              "      <th>Player</th>\n",
              "      <th>Pos</th>\n",
              "      <th>Age</th>\n",
              "      <th>Tm</th>\n",
              "      <th>G</th>\n",
              "      <th>GS</th>\n",
              "      <th>MP</th>\n",
              "      <th>FG</th>\n",
              "      <th>FGA</th>\n",
              "      <th>FG%</th>\n",
              "      <th>...</th>\n",
              "      <th>FT%</th>\n",
              "      <th>ORB</th>\n",
              "      <th>DRB</th>\n",
              "      <th>TRB</th>\n",
              "      <th>AST</th>\n",
              "      <th>STL</th>\n",
              "      <th>BLK</th>\n",
              "      <th>TOV</th>\n",
              "      <th>PF</th>\n",
              "      <th>PTS</th>\n",
              "    </tr>\n",
              "  </thead>\n",
              "  <tbody>\n",
              "    <tr>\n",
              "      <th>0</th>\n",
              "      <td>Alex Abrines</td>\n",
              "      <td>SG</td>\n",
              "      <td>25</td>\n",
              "      <td>OKC</td>\n",
              "      <td>31</td>\n",
              "      <td>2</td>\n",
              "      <td>588</td>\n",
              "      <td>56</td>\n",
              "      <td>157</td>\n",
              "      <td>0.357</td>\n",
              "      <td>...</td>\n",
              "      <td>0.923</td>\n",
              "      <td>5</td>\n",
              "      <td>43</td>\n",
              "      <td>48</td>\n",
              "      <td>20</td>\n",
              "      <td>17</td>\n",
              "      <td>6</td>\n",
              "      <td>14</td>\n",
              "      <td>53</td>\n",
              "      <td>165</td>\n",
              "    </tr>\n",
              "    <tr>\n",
              "      <th>1</th>\n",
              "      <td>Quincy Acy</td>\n",
              "      <td>PF</td>\n",
              "      <td>28</td>\n",
              "      <td>PHO</td>\n",
              "      <td>10</td>\n",
              "      <td>0</td>\n",
              "      <td>123</td>\n",
              "      <td>4</td>\n",
              "      <td>18</td>\n",
              "      <td>0.222</td>\n",
              "      <td>...</td>\n",
              "      <td>0.700</td>\n",
              "      <td>3</td>\n",
              "      <td>22</td>\n",
              "      <td>25</td>\n",
              "      <td>8</td>\n",
              "      <td>1</td>\n",
              "      <td>4</td>\n",
              "      <td>4</td>\n",
              "      <td>24</td>\n",
              "      <td>17</td>\n",
              "    </tr>\n",
              "    <tr>\n",
              "      <th>2</th>\n",
              "      <td>Jaylen Adams</td>\n",
              "      <td>PG</td>\n",
              "      <td>22</td>\n",
              "      <td>ATL</td>\n",
              "      <td>21</td>\n",
              "      <td>0</td>\n",
              "      <td>221</td>\n",
              "      <td>22</td>\n",
              "      <td>59</td>\n",
              "      <td>0.373</td>\n",
              "      <td>...</td>\n",
              "      <td>1.000</td>\n",
              "      <td>7</td>\n",
              "      <td>23</td>\n",
              "      <td>30</td>\n",
              "      <td>35</td>\n",
              "      <td>6</td>\n",
              "      <td>2</td>\n",
              "      <td>15</td>\n",
              "      <td>20</td>\n",
              "      <td>64</td>\n",
              "    </tr>\n",
              "    <tr>\n",
              "      <th>3</th>\n",
              "      <td>Steven Adams</td>\n",
              "      <td>C</td>\n",
              "      <td>25</td>\n",
              "      <td>OKC</td>\n",
              "      <td>67</td>\n",
              "      <td>67</td>\n",
              "      <td>2265</td>\n",
              "      <td>415</td>\n",
              "      <td>689</td>\n",
              "      <td>0.602</td>\n",
              "      <td>...</td>\n",
              "      <td>0.525</td>\n",
              "      <td>318</td>\n",
              "      <td>326</td>\n",
              "      <td>644</td>\n",
              "      <td>105</td>\n",
              "      <td>104</td>\n",
              "      <td>54</td>\n",
              "      <td>119</td>\n",
              "      <td>173</td>\n",
              "      <td>966</td>\n",
              "    </tr>\n",
              "    <tr>\n",
              "      <th>4</th>\n",
              "      <td>Bam Adebayo</td>\n",
              "      <td>C</td>\n",
              "      <td>21</td>\n",
              "      <td>MIA</td>\n",
              "      <td>67</td>\n",
              "      <td>14</td>\n",
              "      <td>1493</td>\n",
              "      <td>207</td>\n",
              "      <td>358</td>\n",
              "      <td>0.578</td>\n",
              "      <td>...</td>\n",
              "      <td>0.741</td>\n",
              "      <td>133</td>\n",
              "      <td>313</td>\n",
              "      <td>446</td>\n",
              "      <td>141</td>\n",
              "      <td>51</td>\n",
              "      <td>52</td>\n",
              "      <td>94</td>\n",
              "      <td>172</td>\n",
              "      <td>558</td>\n",
              "    </tr>\n",
              "  </tbody>\n",
              "</table>\n",
              "<p>5 rows × 29 columns</p>\n",
              "</div>"
            ],
            "text/plain": [
              "         Player Pos  Age   Tm   G  GS    MP   FG  FGA    FG% ...     FT%  ORB  \\\n",
              "0  Alex Abrines  SG   25  OKC  31   2   588   56  157  0.357 ...   0.923    5   \n",
              "1    Quincy Acy  PF   28  PHO  10   0   123    4   18  0.222 ...   0.700    3   \n",
              "2  Jaylen Adams  PG   22  ATL  21   0   221   22   59  0.373 ...   1.000    7   \n",
              "3  Steven Adams   C   25  OKC  67  67  2265  415  689  0.602 ...   0.525  318   \n",
              "4   Bam Adebayo   C   21  MIA  67  14  1493  207  358  0.578 ...   0.741  133   \n",
              "\n",
              "   DRB  TRB  AST  STL  BLK  TOV   PF  PTS  \n",
              "0   43   48   20   17    6   14   53  165  \n",
              "1   22   25    8    1    4    4   24   17  \n",
              "2   23   30   35    6    2   15   20   64  \n",
              "3  326  644  105  104   54  119  173  966  \n",
              "4  313  446  141   51   52   94  172  558  \n",
              "\n",
              "[5 rows x 29 columns]"
            ]
          },
          "metadata": {
            "tags": []
          },
          "execution_count": 10
        }
      ]
    },
    {
      "metadata": {
        "id": "QK-MOrSc9Jnn",
        "colab_type": "text"
      },
      "cell_type": "markdown",
      "source": [
        "### 3-Pointer histogram\n",
        "\n",
        "Here is a histogram of 3-point shooting % (for players with at least 20 attempts)"
      ]
    },
    {
      "metadata": {
        "id": "FHZWO9xg9Jnn",
        "colab_type": "code",
        "outputId": "a76bc5f3-d88f-4dd7-e903-7988213e5abd",
        "colab": {
          "base_uri": "https://localhost:8080/",
          "height": 265
        }
      },
      "cell_type": "code",
      "source": [
        "histogram(nba[nba['3PA'] >= 20]['3P%'])"
      ],
      "execution_count": 0,
      "outputs": [
        {
          "output_type": "display_data",
          "data": {
            "image/png": "[encoded data removed]",
            "text/plain": [
              "<Figure size 432x288 with 1 Axes>"
            ]
          },
          "metadata": {
            "tags": []
          }
        }
      ]
    },
    {
      "metadata": {
        "colab_type": "text",
        "id": "pPS4AlMF-SnH"
      },
      "cell_type": "markdown",
      "source": [
        "## Make a histogram of each player's free throw shooting %\n"
      ]
    },
    {
      "metadata": {
        "id": "5LBnEhXA9Jnq",
        "colab_type": "code",
        "colab": {}
      },
      "cell_type": "code",
      "source": [
        "# Your code here"
      ],
      "execution_count": 0,
      "outputs": []
    },
    {
      "metadata": {
        "id": "0nhjmSLb9Jnr",
        "colab_type": "text"
      },
      "cell_type": "markdown",
      "source": [
        "Let's see who is in the bottom bucket."
      ]
    },
    {
      "metadata": {
        "id": "3vXfEDob9Jns",
        "colab_type": "code",
        "outputId": "894963d0-912d-4a14-c39b-583312d3702a",
        "colab": {
          "base_uri": "https://localhost:8080/",
          "height": 294
        }
      },
      "cell_type": "code",
      "source": [
        "nba[nba.FTA > 20].sort_values('FT%')[['FT', 'FTA', 'Player', 'FT%']].head(8)"
      ],
      "execution_count": 0,
      "outputs": [
        {
          "output_type": "execute_result",
          "data": {
            "text/html": [
              "<div>\n",
              "<style scoped>\n",
              "    .dataframe tbody tr th:only-of-type {\n",
              "        vertical-align: middle;\n",
              "    }\n",
              "\n",
              "    .dataframe tbody tr th {\n",
              "        vertical-align: top;\n",
              "    }\n",
              "\n",
              "    .dataframe thead th {\n",
              "        text-align: right;\n",
              "    }\n",
              "</style>\n",
              "<table border=\"1\" class=\"dataframe\">\n",
              "  <thead>\n",
              "    <tr style=\"text-align: right;\">\n",
              "      <th></th>\n",
              "      <th>FT</th>\n",
              "      <th>FTA</th>\n",
              "      <th>Player</th>\n",
              "      <th>FT%</th>\n",
              "    </tr>\n",
              "  </thead>\n",
              "  <tbody>\n",
              "    <tr>\n",
              "      <th>657</th>\n",
              "      <td>11</td>\n",
              "      <td>28</td>\n",
              "      <td>D.J. Wilson</td>\n",
              "      <td>0.393</td>\n",
              "    </tr>\n",
              "    <tr>\n",
              "      <th>34</th>\n",
              "      <td>20</td>\n",
              "      <td>48</td>\n",
              "      <td>Lonzo Ball</td>\n",
              "      <td>0.417</td>\n",
              "    </tr>\n",
              "    <tr>\n",
              "      <th>647</th>\n",
              "      <td>90</td>\n",
              "      <td>206</td>\n",
              "      <td>Hassan Whiteside</td>\n",
              "      <td>0.437</td>\n",
              "    </tr>\n",
              "    <tr>\n",
              "      <th>115</th>\n",
              "      <td>12</td>\n",
              "      <td>26</td>\n",
              "      <td>Michael Carter-Williams</td>\n",
              "      <td>0.462</td>\n",
              "    </tr>\n",
              "    <tr>\n",
              "      <th>64</th>\n",
              "      <td>10</td>\n",
              "      <td>21</td>\n",
              "      <td>Jonah Bolden</td>\n",
              "      <td>0.476</td>\n",
              "    </tr>\n",
              "    <tr>\n",
              "      <th>633</th>\n",
              "      <td>16</td>\n",
              "      <td>33</td>\n",
              "      <td>Dion Waiters</td>\n",
              "      <td>0.485</td>\n",
              "    </tr>\n",
              "    <tr>\n",
              "      <th>637</th>\n",
              "      <td>26</td>\n",
              "      <td>51</td>\n",
              "      <td>Tyrone Wallace</td>\n",
              "      <td>0.510</td>\n",
              "    </tr>\n",
              "    <tr>\n",
              "      <th>160</th>\n",
              "      <td>15</td>\n",
              "      <td>29</td>\n",
              "      <td>Sam Dekker</td>\n",
              "      <td>0.517</td>\n",
              "    </tr>\n",
              "  </tbody>\n",
              "</table>\n",
              "</div>"
            ],
            "text/plain": [
              "     FT  FTA                   Player    FT%\n",
              "657  11   28              D.J. Wilson  0.393\n",
              "34   20   48               Lonzo Ball  0.417\n",
              "647  90  206         Hassan Whiteside  0.437\n",
              "115  12   26  Michael Carter-Williams  0.462\n",
              "64   10   21             Jonah Bolden  0.476\n",
              "633  16   33             Dion Waiters  0.485\n",
              "637  26   51           Tyrone Wallace  0.510\n",
              "160  15   29               Sam Dekker  0.517"
            ]
          },
          "metadata": {
            "tags": []
          },
          "execution_count": 13
        }
      ]
    },
    {
      "metadata": {
        "id": "b3vDb1H39Jnu",
        "colab_type": "code",
        "colab": {}
      },
      "cell_type": "code",
      "source": [
        "from IPython.display import HTML\n",
        "HTML('<iframe width=\"560\" height=\"315\" src=\"https://www.youtube.com/embed/L_Knvctdm-8?rel=0&amp;controls=0&amp;showinfo=0\" frameborder=\"0\" allowfullscreen></iframe>')"
      ],
      "execution_count": 0,
      "outputs": []
    },
    {
      "metadata": {
        "collapsed": true,
        "id": "9dnT9MNc9Jnw",
        "colab_type": "text"
      },
      "cell_type": "markdown",
      "source": [
        "## Plot a histogram of NBA players' age. Is it a Gaussian distribution?"
      ]
    },
    {
      "metadata": {
        "id": "Srx9IPW_9Jnx",
        "colab_type": "code",
        "colab": {}
      },
      "cell_type": "code",
      "source": [
        "histogram(...)"
      ],
      "execution_count": 0,
      "outputs": []
    },
    {
      "metadata": {
        "id": "LsihlwwM9Jnz",
        "colab_type": "text"
      },
      "cell_type": "markdown",
      "source": [
        "### Mean and Standard Deviation\n",
        "\n",
        "1. The mean is the average value of a distribution. For the Gaussian distribution, it is also the middle value.\n",
        "2. The standard deviation is the average distance from the mean."
      ]
    },
    {
      "metadata": {
        "id": "DP9m5n_V9Jn1",
        "colab_type": "code",
        "outputId": "5f5f9ba3-d8ba-4be4-b438-04cfe5185988",
        "colab": {
          "base_uri": "https://localhost:8080/",
          "height": 35
        }
      },
      "cell_type": "code",
      "source": [
        "nba[nba['3PA'] >= 20]['3P%'].mean()"
      ],
      "execution_count": 0,
      "outputs": [
        {
          "output_type": "execute_result",
          "data": {
            "text/plain": [
              "0.3391881606765328"
            ]
          },
          "metadata": {
            "tags": []
          },
          "execution_count": 14
        }
      ]
    },
    {
      "metadata": {
        "id": "hCOCPloO9Jn3",
        "colab_type": "code",
        "outputId": "daede42d-41c9-4711-c22a-641314e7b5de",
        "colab": {
          "base_uri": "https://localhost:8080/",
          "height": 35
        }
      },
      "cell_type": "code",
      "source": [
        "nba[nba['3PA'] >= 20]['3P%'].std()"
      ],
      "execution_count": 0,
      "outputs": [
        {
          "output_type": "execute_result",
          "data": {
            "text/plain": [
              "0.0593148424721802"
            ]
          },
          "metadata": {
            "tags": []
          },
          "execution_count": 15
        }
      ]
    },
    {
      "metadata": {
        "id": "EzxnyeuZ9Jn6",
        "colab_type": "text"
      },
      "cell_type": "markdown",
      "source": [
        "\n",
        "\n",
        "What is the mean and standard deviation of age?"
      ]
    },
    {
      "metadata": {
        "id": "4zIjxPz19Jn7",
        "colab_type": "code",
        "colab": {}
      },
      "cell_type": "code",
      "source": [
        "# Your code here"
      ],
      "execution_count": 0,
      "outputs": []
    },
    {
      "metadata": {
        "id": "eKujFH6c9Jn9",
        "colab_type": "text"
      },
      "cell_type": "markdown",
      "source": [
        "The standard deviation is a way to quickly understand how rare a particular data-point is:\n",
        "\n",
        "1. A point within 1 std-dev of the mean is around 68%\n",
        "2. Within 2 std-dev ~ 95%\n",
        "3. Within 3 std-dev ~ 99.7%\n",
        "4. Within 4 std-dev ~99.99%"
      ]
    },
    {
      "metadata": {
        "id": "UpVuYgyj9Jn9",
        "colab_type": "text"
      },
      "cell_type": "markdown",
      "source": [
        "### Outliers\n",
        "\n",
        "Real data is not entirely normally distributed. Particularly, there are more unusual points than you would expect by random chance. Generally, we consider points outside 3 std-dev's to be outliers."
      ]
    },
    {
      "metadata": {
        "id": "BjkWHT0h9Jn-",
        "colab_type": "text"
      },
      "cell_type": "markdown",
      "source": [
        "Which players are outliers in:\n",
        "1. 3-point %\n",
        "2. Age\n",
        "3. Free-throw % (consider players with at least 100 attempts)"
      ]
    },
    {
      "metadata": {
        "id": "fYhaDf7w9Jn_",
        "colab_type": "code",
        "colab": {}
      },
      "cell_type": "code",
      "source": [
        "# Your code here"
      ],
      "execution_count": 0,
      "outputs": []
    },
    {
      "metadata": {
        "id": "KZk_F6Aq9JoC",
        "colab_type": "text"
      },
      "cell_type": "markdown",
      "source": [
        "### Power law distribution\n",
        "\n",
        "There are lots of distributions that are not Gaussian. In particular, many distributions are fat-tailed with small numbers of samples having outsized effects on the overall sum and the mean:\n",
        "\n",
        "1. Spotify plays per artist\n",
        "2. Purchases on amazon\n",
        "3. Income\n",
        "4. Wealth"
      ]
    },
    {
      "metadata": {
        "id": "ZLQPaJfp9JoD",
        "colab_type": "code",
        "outputId": "612badf7-6d58-4e64-fff1-6f11930e6fa1",
        "colab": {
          "base_uri": "https://localhost:8080/",
          "height": 265
        }
      },
      "cell_type": "code",
      "source": [
        "# total points scored looks like this\n",
        "histogram(nba['PTS'])"
      ],
      "execution_count": 0,
      "outputs": [
        {
          "output_type": "display_data",
          "data": {
            "image/png": "[encoded data removed]",
            "text/plain": [
              "<Figure size 432x288 with 1 Axes>"
            ]
          },
          "metadata": {
            "tags": []
          }
        }
      ]
    },
    {
      "metadata": {
        "id": "DBUqJbEE9JoH",
        "colab_type": "code",
        "outputId": "185e19f8-d283-420b-e0d2-ba0fa3f0d0cf",
        "colab": {
          "base_uri": "https://localhost:8080/",
          "height": 35
        }
      },
      "cell_type": "code",
      "source": [
        "nba['PTS'].mean()"
      ],
      "execution_count": 0,
      "outputs": [
        {
          "output_type": "execute_result",
          "data": {
            "text/plain": [
              "385.58246656760775"
            ]
          },
          "metadata": {
            "tags": []
          },
          "execution_count": 17
        }
      ]
    },
    {
      "metadata": {
        "id": "SEU_kDzl9JoL",
        "colab_type": "code",
        "outputId": "f1afba58-e8ab-4138-f654-4d5d10b9558c",
        "colab": {
          "base_uri": "https://localhost:8080/",
          "height": 35
        }
      },
      "cell_type": "code",
      "source": [
        "# The average player scores many fewer points than the average points scored\n",
        "nba['PTS'].median()"
      ],
      "execution_count": 0,
      "outputs": [
        {
          "output_type": "execute_result",
          "data": {
            "text/plain": [
              "258.0"
            ]
          },
          "metadata": {
            "tags": []
          },
          "execution_count": 18
        }
      ]
    },
    {
      "metadata": {
        "id": "33Txnm0D9JoM",
        "colab_type": "text"
      },
      "cell_type": "markdown",
      "source": [
        "## Exercises\n",
        "\n",
        "1. How many players account for 50% of the points scored? Why do some players score so much more than others?\n",
        "\n",
        "2. How many players would account for 50% of the points if everyone played the same minutes?\n"
      ]
    },
    {
      "metadata": {
        "id": "3bUdFfNH_k53",
        "colab_type": "text"
      },
      "cell_type": "markdown",
      "source": [
        "3. The entropy of a probability distribution is a measure of how balanced a distribution is: \n",
        "https://en.wikipedia.org/wiki/Entropy_(information_theory)\n",
        "It consists of $\\Sigma_i log(p_i) * p_i$ where $p_i$ is the probability of value $i$. Calculate the entropy for the distribution of points for each team. Which team has the highest entropy? Which team has the lowest entropy?\n",
        "4. Filter the dataset to starters (players GS/G >= 80%). Calculate mean and standard-dev of points/game, rebounds/game, assists/game, 3-pointers/game. Now calculate mean and standard-dev of these stats by position. Which statistic's standard deviation goes down the most?\n"
      ]
    }
  ]
}