{
  "nbformat": 4,
  "nbformat_minor": 0,
  "metadata": {
    "colab": {
      "name": "07_machine_learning.ipynb",
      "version": "0.3.2",
      "provenance": []
    },
    "language_info": {
      "codemirror_mode": {
        "name": "ipython",
        "version": 3
      },
      "file_extension": ".py",
      "mimetype": "text/x-python",
      "name": "python",
      "nbconvert_exporter": "python",
      "pygments_lexer": "ipython3",
      "version": "3.6.1"
    },
    "kernelspec": {
      "display_name": "Python 3",
      "language": "python",
      "name": "python3"
    }
  },
  "cells": [
    {
      "metadata": {
        "id": "DPihRJi0ILQk",
        "colab_type": "text"
      },
      "cell_type": "markdown",
      "source": [
        "# Machine Learning"
      ]
    },
    {
      "metadata": {
        "id": "KSVGAMVPILQl",
        "colab_type": "text"
      },
      "cell_type": "markdown",
      "source": [
        "## Key concepts\n",
        "\n",
        "1. Overfitting\n",
        "2. Evaluation metrics: accuracy, precision, recall\n",
        "3. Two learning paradigms\n",
        "4. Moons and circles\n",
        "5. Handwriting recognition and more\n",
        "\n",
        "*Side note for today:* no exercises in-class, but rather DIY exercises on your own. Instead, we will spend 1/2 time on lecture, 1/2 time thinking about project ideas."
      ]
    },
    {
      "metadata": {
        "id": "aZvpY5-YILQn",
        "colab_type": "text"
      },
      "cell_type": "markdown",
      "source": [
        "\n",
        "## 1. Overfitting\n",
        "\n",
        "Previous goals involved **making inferences** from the data:\n",
        "\n",
        "* summarizing patterns (identifying the empirical distribution);\n",
        "* checking beliefs against observations (testing a hypothesis);\n",
        "* specifying explanatory variables (fitting a linear regression).\n",
        "\n",
        "Today's goal involves **learning models** from the data; i.e., computing a relationship in the data that will generalize to new settings.\n",
        "\n",
        "*Discuss:*\n",
        "\n",
        "* How can we learn?\n",
        "* How can we measure how well a \"learned\" relationship will generalize?"
      ]
    },
    {
      "metadata": {
        "id": "0btkFqqQILQo",
        "colab_type": "code",
        "colab": {
          "base_uri": "https://localhost:8080/",
          "height": 283
        },
        "outputId": "a97c5883-dc82-446d-fc7f-ff79a85af31c"
      },
      "cell_type": "code",
      "source": [
        "import numpy as np\n",
        "import matplotlib.pyplot as plt\n",
        "from sklearn.pipeline import Pipeline\n",
        "from sklearn.preprocessing import PolynomialFeatures\n",
        "from sklearn.linear_model import LinearRegression\n",
        "from sklearn.model_selection import cross_val_score\n",
        "\n",
        "N_SAMPLES = 30\n",
        "\n",
        "def true_foo(X):\n",
        "    return np.cos(1.5 * np.pi * X)\n",
        "  \n",
        "np.random.seed(0)\n",
        "X = np.random.rand(N_SAMPLES)\n",
        "y = true_foo(X) + np.random.randn(N_SAMPLES) * 0.1\n",
        "X_test = np.linspace(0, 1, 100)\n",
        "\n",
        "plt.plot(X_test, true_foo(X_test), label=\"True function\")\n",
        "plt.scatter(X, y, edgecolor='b', s=20, label=\"Samples\")\n",
        "plt.xlabel(\"x\")\n",
        "plt.ylabel(\"y\")\n",
        "plt.show()"
      ],
      "execution_count": 4,
      "outputs": [
        {
          "output_type": "display_data",
          "data": {
            "image/png": "[encoded data removed]",
            "text/plain": [
              "<Figure size 432x288 with 1 Axes>"
            ]
          },
          "metadata": {
            "tags": []
          }
        }
      ]
    },
    {
      "metadata": {
        "id": "fO6yTSwFILQt",
        "colab_type": "code",
        "colab": {
          "base_uri": "https://localhost:8080/",
          "height": 368
        },
        "outputId": "38492fa4-0f39-4f2b-d2d9-ce1e06a7c435"
      },
      "cell_type": "code",
      "source": [
        "# Fit the samples with different polynomial degrees\n",
        "degrees = [1, 4, 15]\n",
        "\n",
        "plt.figure(figsize=(15, 5))\n",
        "for i in range(len(degrees)):\n",
        "    ax = plt.subplot(1, len(degrees), i + 1)\n",
        "    plt.setp(ax, xticks=(), yticks=())\n",
        "\n",
        "    polynomial_features = PolynomialFeatures(\n",
        "        degree=degrees[i],\n",
        "        include_bias=False,\n",
        "    )\n",
        "    linear_regression = LinearRegression()\n",
        "    pipeline = Pipeline([\n",
        "        (\"polynomial_features\", polynomial_features),\n",
        "        (\"linear_regression\", linear_regression)\n",
        "    ])\n",
        "    pipeline.fit(X[:, np.newaxis], y)\n",
        "\n",
        "    # Evaluate the models using crossvalidation\n",
        "    scores = cross_val_score(\n",
        "        pipeline, \n",
        "        X[:, np.newaxis], \n",
        "        y,\n",
        "        scoring=\"neg_mean_squared_error\", \n",
        "        cv=10,\n",
        "    )\n",
        "\n",
        "    plt.plot(X_test, pipeline.predict(X_test[:, np.newaxis]), label=\"Model\")\n",
        "#     plt.plot(X_test, true_fun(X_test), label=\"True function\")\n",
        "    plt.scatter(X, y, edgecolor='b', s=20, label=\"Samples\")\n",
        "    plt.xlabel(\"x\")\n",
        "    plt.ylabel(\"y\")\n",
        "    plt.xlim((0, 1))\n",
        "    plt.ylim((-2, 2))\n",
        "    plt.legend(loc=\"best\")\n",
        "    plt.title(\"Degree {}\\nMSE = {:.2e}(+/- {:.2e})\".format(\n",
        "        degrees[i], \n",
        "        -scores.mean(), \n",
        "        scores.std(),\n",
        "    ))\n",
        "    \n",
        "plt.show()"
      ],
      "execution_count": 5,
      "outputs": [
        {
          "output_type": "display_data",
          "data": {
            "image/png": "[encoded data removed]",
            "text/plain": [
              "<Figure size 1080x360 with 3 Axes>"
            ]
          },
          "metadata": {
            "tags": []
          }
        }
      ]
    },
    {
      "metadata": {
        "id": "SbKd1m83ILQx",
        "colab_type": "text"
      },
      "cell_type": "markdown",
      "source": [
        "### A note on cross-validation\n",
        "\n",
        "![k-folds](https://scikit-learn.org/stable/_images/grid_search_cross_validation.png)\n",
        "\n",
        "*Discuss:* What is the effect of changing $k$ in the $k$-fold cross-validation depicted above?Dis"
      ]
    },
    {
      "metadata": {
        "id": "dxUXdvluILQz",
        "colab_type": "text"
      },
      "cell_type": "markdown",
      "source": [
        "## 2. Evaluation metrics\n",
        "\n",
        "Previously, you learned about **sum of squared errors** as a loss,\n",
        "\n",
        "$$ \\text{squared error loss} = \\frac{1}{N} \\sum_{i=1}^N (\\text{predicted}_i - \\text{actual}_i)^2,$$\n",
        "\n",
        "which describes: *how far are my predictions from the truth, on average?*\n",
        "\n",
        "When dealing with discrete data, sometimes you will prefer other evaluation metrics. Suppose your $\\text{actual}$ labels can be either $+1$ or $-1$. Predictions can then be:\n",
        "\n",
        "![confusion matrix](https://cdn-images-1.medium.com/max/1600/1*OhEnS-T54Cz0YSTl_c3Dwg.jpeg)\n",
        "\n",
        "Some example evaluation metrics are: **accuracy**, which measures *how correct are my predictions?*,\n",
        "\n",
        "$$\\text{accuracy} := \\frac{\\#\\{\\text{true positive or true negative}\\}}{\\#\\{\\text{predicted}\\}},$$\n",
        "\n",
        "\n",
        "or **precision**, which measures *of my positive predictions, how many did I classify correctly?*,\n",
        "\n",
        "$$\\text{precision} := \\frac{\\#\\{\\text{true positive}\\}}{\\#\\{\\text{predicted positive}\\}},$$\n",
        "\n",
        "or **recall**, which measures *of all positive data points, how many did I classify correctly?*\n",
        "\n",
        "$$\\text{recall} := \\frac{\\#\\{\\text{true positive}\\}}{\\#\\{\\text{actual positive}\\}}.$$\n",
        "\n",
        "*Discuss:* When might precision matter more than recall, or vice versa?\n",
        "\n",
        "*DIY later:* given vector of predicted and actual classes, compute the metrics above.\n"
      ]
    },
    {
      "metadata": {
        "id": "_cc73MMaSCSY",
        "colab_type": "code",
        "colab": {}
      },
      "cell_type": "code",
      "source": [
        "import numpy as np\n",
        "\n",
        "example_actual = np.array([-1, -1, -1, 1, ])\n",
        "example_predicted = np.array([-1, 1, 1, -1, -1])\n",
        "\n",
        "def evaluate(actual: np.array, predicted: np.array, metric: str):\n",
        "  if metric == 'squared':\n",
        "    pass  # do this later!\n",
        "  \n",
        "  elif metric == 'accuracy':\n",
        "    pass  # do this later!\n",
        "    \n",
        "  elif metric == 'precision':\n",
        "    pass  # do this later!\n",
        "    \n",
        "  elif metric == 'recall':\n",
        "    pass  # do this later!\n",
        "    \n",
        "  else:\n",
        "    raise NotImplementedError(\"Not yet implemented!\")"
      ],
      "execution_count": 0,
      "outputs": []
    },
    {
      "metadata": {
        "id": "JMNPz6jTXrVl",
        "colab_type": "text"
      },
      "cell_type": "markdown",
      "source": [
        "## 3. Two learning paradigms\n",
        "\n",
        "\n",
        "* **Extrapolate:** discover some underlying structure in the data, and use this structure to create simple rules from which to extrapolate predictions for new settings.\n",
        "* **Memorize:** record all data, and when faced with a new setting, find the old data most similar to the new data, and use that old data as a blueprint for prediction.\n",
        "\n"
      ]
    },
    {
      "metadata": {
        "id": "dEmiKZSBILRd",
        "colab_type": "text"
      },
      "cell_type": "markdown",
      "source": [
        "### Extrapolate: logistic regression\n",
        "\n",
        "Consider the relationship of tumor size (our $X$ variable) and malignancy (a binary $Y$ label). *Linearity* is one example of underlying structure that we can use here.\n",
        "\n",
        "In the continuous setting, you have seen *linear regression* -- as $X$ changes, the value of the label $Y$ is expected to change by $X^T\\beta$.\n",
        "\n",
        "$$ \\mathbb{E}[Y | X] = X^T\\beta.$$\n",
        "\n",
        "In the discrete setting (e.g., the binary $+1$ vs. $-1$ above), the analog is *logistic regression* -- as $X$ changes, the _logarithm of the probability_ that the label $Y$ equals $+1$ increases by $X^T\\beta$.\n",
        "$$\\log \\mathbb{P}(Y = +1 \\, |\\, X) = X^T\\beta.$$\n",
        "\n",
        "![Tumor size vs. malignancy](http://www.holehouse.org/mlclass/06_Logistic_Regression_files/Image.png)\n",
        "\n",
        "Ultimately, we want classifications, not log-probabilities -- to do so, pick some threshold, and above it classify as $+1$, below it classify as $-1$. The threshold can be shifted up and down in order to get the best evaluation metric of your choice (e.g., accuracy, recall, precision).\n",
        "\n",
        "*Discuss:* You know about the assumptions baked into linear regression -- what about logistic regression?"
      ]
    },
    {
      "metadata": {
        "id": "5OtCYHPGY6dV",
        "colab_type": "text"
      },
      "cell_type": "markdown",
      "source": [
        "### Memorize: k-nearest neighbors\n",
        "\n",
        "Suppose we need to determine whether a datapoint is of type A or type B – e.g., we have demographic information for an individual and we want to guess whether they are a Republican or a Democrat. \n",
        "\n",
        "1.\tChoose a positive integer $k$, say $k=3$.\n",
        "2.\tChoose a distance metric `dist` – e.g., Euclidean distance.\n",
        "3.\tFor given datapoint $i$, assign $i$ the classification of the majority of its $k$ nearest neighbors, where \"nearest\" is with respect to `dist`.\n",
        "\n",
        "*Discuss:* How would we use cross-validation with this algorithm? \n",
        "\n",
        "*Discuss:* What are some problems with low values of $k$? How about high values of $k$? \n"
      ]
    },
    {
      "metadata": {
        "id": "wQf7Ba_Lz84Y",
        "colab_type": "text"
      },
      "cell_type": "markdown",
      "source": [
        "## 4. Moons and circles"
      ]
    },
    {
      "metadata": {
        "id": "HmiYXHVvY3ex",
        "colab_type": "code",
        "colab": {}
      },
      "cell_type": "code",
      "source": [
        "# TODO: apply both examples to moons and circles\n",
        "# save the two for exercises: mnist (but discuss in class), unsupervised\n",
        "# more discussion in extrapolation / memorization"
      ],
      "execution_count": 0,
      "outputs": []
    },
    {
      "metadata": {
        "id": "M1AxBje1ILRu",
        "colab_type": "code",
        "colab": {},
        "outputId": "9eb027a2-553c-441f-f9ee-a0e7fdaf74bf"
      },
      "cell_type": "code",
      "source": [
        "# Train logistic regression using the sklean tool\n",
        "\n",
        "logreg = linear_model.LogisticRegression()\n",
        "logreg.fit(x_train, y_train)\n"
      ],
      "execution_count": 0,
      "outputs": [
        {
          "output_type": "execute_result",
          "data": {
            "text/plain": [
              "LogisticRegression(C=1.0, class_weight=None, dual=False, fit_intercept=True,\n",
              "          intercept_scaling=1, max_iter=100, multi_class='ovr', n_jobs=1,\n",
              "          penalty='l2', random_state=None, solver='liblinear', tol=0.0001,\n",
              "          verbose=0, warm_start=False)"
            ]
          },
          "metadata": {
            "tags": []
          },
          "execution_count": 14
        }
      ]
    },
    {
      "metadata": {
        "id": "42RT_2_BILR0",
        "colab_type": "code",
        "colab": {},
        "outputId": "ec59c50f-8690-4a45-db96-711adc9d129e"
      },
      "cell_type": "code",
      "source": [
        "\n",
        "\n",
        "# Plot the decision boundary. For that, we will assign a color to each\n",
        "# point in the mesh [x_min, x_max]x[y_min, y_max].\n",
        "x_min, x_max = X[:, 0].min() - .5, X[:, 0].max() + .5\n",
        "y_min, y_max = X[:, 1].min() - .5, X[:, 1].max() + .5\n",
        "xx, yy = np.meshgrid(np.arange(x_min, x_max, 0.02), np.arange(y_min, y_max, 0.02))\n",
        "Z = logreg.predict(np.c_[xx.ravel(), yy.ravel()])\n",
        "\n",
        "\n",
        "# Put the result into a color plot\n",
        "Z = Z.reshape(xx.shape)\n",
        "plt.figure(1, figsize=(7, 7))\n",
        "plt.pcolormesh(xx, yy, Z, cmap=plt.cm.Paired)\n",
        "\n",
        "# Plot also the training points\n",
        "plt.scatter(X[:, 0], X[:, 1], c=np.reshape(Y, (len(Y))), edgecolors='k', cmap='RdBu')\n",
        "plt.xlabel('Sepal length')\n",
        "plt.ylabel('Sepal width')\n",
        "\n",
        "plt.xlim(xx.min(), xx.max())\n",
        "plt.ylim(yy.min(), yy.max())\n",
        "\n",
        "plt.show()"
      ],
      "execution_count": 0,
      "outputs": [
        {
          "output_type": "display_data",
          "data": {
            "image/png": "[encoded data removed]",
            "text/plain": [
              "<matplotlib.figure.Figure at 0x1a17a72c18>"
            ]
          },
          "metadata": {
            "tags": []
          }
        }
      ]
    },
    {
      "metadata": {
        "id": "6dlpReKMILR3",
        "colab_type": "code",
        "colab": {},
        "outputId": "fe919378-fa39-4ab9-9c96-abff1357329e"
      },
      "cell_type": "code",
      "source": [
        "# Print the trained weights and intercept\n",
        "print (logreg.coef_)\n",
        "print (logreg.intercept_)"
      ],
      "execution_count": 0,
      "outputs": [
        {
          "output_type": "stream",
          "text": [
            "[[-2.19848683  3.49704579]]\n",
            "[ 0.67817361]\n"
          ],
          "name": "stdout"
        }
      ]
    },
    {
      "metadata": {
        "id": "YdpNy90HILR7",
        "colab_type": "code",
        "colab": {},
        "outputId": "e06fef8f-525f-418c-eb10-6ff5591290b3"
      },
      "cell_type": "code",
      "source": [
        "# Evaluate the model on test data\n",
        "\n",
        "predict = logreg.predict(x_test)\n",
        "\n",
        "print(metrics.classification_report(y_test, predict))\n",
        "print(\"Confusion matrix:\\n%s\" % metrics.confusion_matrix(y_test, predict))\n"
      ],
      "execution_count": 0,
      "outputs": [
        {
          "output_type": "stream",
          "text": [
            "             precision    recall  f1-score   support\n",
            "\n",
            "          0       1.00      1.00      1.00        26\n",
            "          1       1.00      1.00      1.00        19\n",
            "\n",
            "avg / total       1.00      1.00      1.00        45\n",
            "\n",
            "Confusion matrix:\n",
            "[[26  0]\n",
            " [ 0 19]]\n"
          ],
          "name": "stdout"
        }
      ]
    },
    {
      "metadata": {
        "id": "1zSmFrgzILR_",
        "colab_type": "text"
      },
      "cell_type": "markdown",
      "source": [
        "<div style=\"border: 3px solid green; padding: 10px\">\n",
        "<b>Exercise 3:</b> Try to use the features 'petal_length' and 'petal_width' to predict whether an iris flower is setosa, and try to check which features are better. \n",
        "</div>"
      ]
    },
    {
      "metadata": {
        "id": "ANNoSyfOILSA",
        "colab_type": "text"
      },
      "cell_type": "markdown",
      "source": [
        "Hand-written Digits Recognition\n",
        "------------"
      ]
    },
    {
      "metadata": {
        "id": "xWK9h9u1ILSC",
        "colab_type": "code",
        "colab": {},
        "outputId": "274ae1da-63d2-4a3a-a33f-0371e3fcb9f6"
      },
      "cell_type": "code",
      "source": [
        "\n",
        "# Import datasets, classifiers and performance metrics\n",
        "from sklearn import datasets, svm, metrics\n",
        "\n",
        "# The digits dataset\n",
        "digits = datasets.load_digits()\n",
        "\n",
        "print (len(digits.images))\n",
        "print (len(digits.target))\n",
        "\n",
        "images_and_labels = list(zip(digits.images, digits.target))\n",
        "print (images_and_labels[0])"
      ],
      "execution_count": 0,
      "outputs": [
        {
          "output_type": "stream",
          "text": [
            "1797\n",
            "1797\n",
            "(array([[  0.,   0.,   5.,  13.,   9.,   1.,   0.,   0.],\n",
            "       [  0.,   0.,  13.,  15.,  10.,  15.,   5.,   0.],\n",
            "       [  0.,   3.,  15.,   2.,   0.,  11.,   8.,   0.],\n",
            "       [  0.,   4.,  12.,   0.,   0.,   8.,   8.,   0.],\n",
            "       [  0.,   5.,   8.,   0.,   0.,   9.,   8.,   0.],\n",
            "       [  0.,   4.,  11.,   0.,   1.,  12.,   7.,   0.],\n",
            "       [  0.,   2.,  14.,   5.,  10.,  12.,   0.,   0.],\n",
            "       [  0.,   0.,   6.,  13.,  10.,   0.,   0.,   0.]]), 0)\n"
          ],
          "name": "stdout"
        }
      ]
    },
    {
      "metadata": {
        "id": "QZ3qTjfLILSH",
        "colab_type": "code",
        "colab": {},
        "outputId": "f3bba803-e408-4647-a356-3c99bb9358ef"
      },
      "cell_type": "code",
      "source": [
        "# The data that we are interested in is made of 8x8 images of digits, let's\n",
        "# have a look at the first 4 images, stored in the `images` attribute of the\n",
        "# dataset.  If we were working from image files, we could load them using\n",
        "# matplotlib.pyplot.imread.  Note that each image must have the same size. For these\n",
        "# images, we know which digit they represent: it is given in the 'target' of\n",
        "# the dataset.\n",
        "\n",
        "for index, (image, label) in enumerate(images_and_labels[:8]):\n",
        "    plt.subplot(2, 4, index + 1)\n",
        "    plt.axis('off')\n",
        "    plt.imshow(image, cmap=plt.cm.gray_r)\n",
        "    plt.title('Training: %i' % label)\n",
        "    \n",
        "plt.show()"
      ],
      "execution_count": 0,
      "outputs": [
        {
          "output_type": "display_data",
          "data": {
            "image/png": "[encoded data removed]",
            "text/plain": [
              "<matplotlib.figure.Figure at 0x1a19950f28>"
            ]
          },
          "metadata": {
            "tags": []
          }
        }
      ]
    },
    {
      "metadata": {
        "id": "EM34u3O7ILSL",
        "colab_type": "code",
        "colab": {},
        "outputId": "837bfbb3-a2ae-45ba-fa91-ae9e0531655f"
      },
      "cell_type": "code",
      "source": [
        "# To apply a classifier on this data, we need to flatten the image, to\n",
        "# turn the data in a (samples, feature) matrix:\n",
        "n_samples = len(digits.images)\n",
        "data = digits.images.reshape((n_samples, -1))\n",
        "print (data[0])"
      ],
      "execution_count": 0,
      "outputs": [
        {
          "output_type": "stream",
          "text": [
            "[  0.   0.   5.  13.   9.   1.   0.   0.   0.   0.  13.  15.  10.  15.   5.\n",
            "   0.   0.   3.  15.   2.   0.  11.   8.   0.   0.   4.  12.   0.   0.   8.\n",
            "   8.   0.   0.   5.   8.   0.   0.   9.   8.   0.   0.   4.  11.   0.   1.\n",
            "  12.   7.   0.   0.   2.  14.   5.  10.  12.   0.   0.   0.   0.   6.  13.\n",
            "  10.   0.   0.   0.]\n"
          ],
          "name": "stdout"
        }
      ]
    },
    {
      "metadata": {
        "id": "YEUgCnafILSQ",
        "colab_type": "code",
        "colab": {}
      },
      "cell_type": "code",
      "source": [
        "# Create a classifier: a support vector classifier\n",
        "classifier = svm.SVC(gamma=0.001)\n"
      ],
      "execution_count": 0,
      "outputs": []
    },
    {
      "metadata": {
        "id": "1KkjlVliILSU",
        "colab_type": "text"
      },
      "cell_type": "markdown",
      "source": [
        "\n",
        "<img src=\"../images/svm.png\",width=400,height=400>\n"
      ]
    },
    {
      "metadata": {
        "id": "2gnHcnlzILSV",
        "colab_type": "code",
        "colab": {},
        "outputId": "7bb5d4bd-ce53-4ea2-db68-69577b1516a1"
      },
      "cell_type": "code",
      "source": [
        "\n",
        "# We learn the digits on the first half of the digits\n",
        "classifier.fit(data[:n_samples // 2], digits.target[:n_samples // 2])\n",
        "\n",
        "# Now predict the value of the digit on the second half:\n",
        "expected = digits.target[n_samples // 2:]\n",
        "predicted = classifier.predict(data[n_samples // 2:])\n",
        "\n",
        "\n",
        "print(\"Classification report for classifier %s:\\n%s\\n\"\n",
        "      % (classifier, metrics.classification_report(expected, predicted)))\n",
        "print(\"Confusion matrix:\\n%s\" % metrics.confusion_matrix(expected, predicted))\n"
      ],
      "execution_count": 0,
      "outputs": [
        {
          "output_type": "stream",
          "text": [
            "Classification report for classifier SVC(C=1.0, cache_size=200, class_weight=None, coef0=0.0,\n",
            "  decision_function_shape='ovr', degree=3, gamma=0.001, kernel='rbf',\n",
            "  max_iter=-1, probability=False, random_state=None, shrinking=True,\n",
            "  tol=0.001, verbose=False):\n",
            "             precision    recall  f1-score   support\n",
            "\n",
            "          0       1.00      0.99      0.99        88\n",
            "          1       0.99      0.97      0.98        91\n",
            "          2       0.99      0.99      0.99        86\n",
            "          3       0.98      0.87      0.92        91\n",
            "          4       0.99      0.96      0.97        92\n",
            "          5       0.95      0.97      0.96        91\n",
            "          6       0.99      0.99      0.99        91\n",
            "          7       0.96      0.99      0.97        89\n",
            "          8       0.94      1.00      0.97        88\n",
            "          9       0.93      0.98      0.95        92\n",
            "\n",
            "avg / total       0.97      0.97      0.97       899\n",
            "\n",
            "\n",
            "Confusion matrix:\n",
            "[[87  0  0  0  1  0  0  0  0  0]\n",
            " [ 0 88  1  0  0  0  0  0  1  1]\n",
            " [ 0  0 85  1  0  0  0  0  0  0]\n",
            " [ 0  0  0 79  0  3  0  4  5  0]\n",
            " [ 0  0  0  0 88  0  0  0  0  4]\n",
            " [ 0  0  0  0  0 88  1  0  0  2]\n",
            " [ 0  1  0  0  0  0 90  0  0  0]\n",
            " [ 0  0  0  0  0  1  0 88  0  0]\n",
            " [ 0  0  0  0  0  0  0  0 88  0]\n",
            " [ 0  0  0  1  0  1  0  0  0 90]]\n"
          ],
          "name": "stdout"
        }
      ]
    },
    {
      "metadata": {
        "id": "C9F18shvILSa",
        "colab_type": "code",
        "colab": {},
        "outputId": "b924521b-5e5d-49a5-bee1-7847d9b69981"
      },
      "cell_type": "code",
      "source": [
        "# Standard scientific Python imports\n",
        "import matplotlib.pyplot as plt\n",
        "\n",
        "images_and_predictions = list(zip(digits.images[n_samples // 2:], predicted))\n",
        "for index, (image, prediction) in enumerate(images_and_predictions[:8]):\n",
        "    plt.subplot(2, 4, index + 1)\n",
        "    plt.axis('off')\n",
        "    plt.imshow(image, cmap=plt.cm.gray_r)\n",
        "    plt.title('Prediction: %i' % prediction)\n",
        "\n",
        "plt.show()\n"
      ],
      "execution_count": 0,
      "outputs": [
        {
          "output_type": "display_data",
          "data": {
            "image/png": "[encoded data removed]",
            "text/plain": [
              "<matplotlib.figure.Figure at 0x1a1983f748>"
            ]
          },
          "metadata": {
            "tags": []
          }
        }
      ]
    },
    {
      "metadata": {
        "id": "xTnywA-7ILSe",
        "colab_type": "code",
        "colab": {}
      },
      "cell_type": "code",
      "source": [
        "# Part of the code is borrowed from \n",
        "# Author: Gael Varoquaux <gael dot varoquaux at normalesup dot org>\n",
        "# Modified for documentation by Jaques Grobler\n",
        "# License: BSD 3 clause\n"
      ],
      "execution_count": 0,
      "outputs": []
    },
    {
      "metadata": {
        "id": "fQyZo71jILSi",
        "colab_type": "code",
        "colab": {}
      },
      "cell_type": "code",
      "source": [
        ""
      ],
      "execution_count": 0,
      "outputs": []
    },
    {
      "metadata": {
        "id": "dQj0KEQ-Y4Wv",
        "colab_type": "text"
      },
      "cell_type": "markdown",
      "source": [
        ""
      ]
    }
  ]
}