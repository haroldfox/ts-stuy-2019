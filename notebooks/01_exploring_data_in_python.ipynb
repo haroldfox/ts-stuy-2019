{
  "nbformat": 4,
  "nbformat_minor": 0,
  "metadata": {
    "colab": {
      "name": "01_exploring_data_in_python.ipynb",
      "version": "0.3.2",
      "provenance": [],
      "toc_visible": true
    },
    "kernelspec": {
      "display_name": "Python 3",
      "language": "python",
      "name": "python3"
    }
  },
  "cells": [
    {
      "metadata": {
        "id": "lNI4wL3eAq1V",
        "colab_type": "text"
      },
      "cell_type": "markdown",
      "source": [
        "# Today\n",
        "\n",
        "1. Welcome and introductions\n",
        "2. What is Data Science? Math, programming, and specific knowledge\n",
        "3. Setup: github and colaboratory\n",
        "4. Review of python\n",
        "5. Introduction to pandas"
      ]
    },
    {
      "metadata": {
        "id": "9p_rW3-PCp8Z",
        "colab_type": "text"
      },
      "cell_type": "markdown",
      "source": [
        "# Course Schedule\n",
        "\n",
        "|Session|Date|Topic|Dataset|\n",
        "|------------|\n",
        "|1|Mar 6|Introduction and Pandas|IMDB movies|\n",
        "|2|Mar 13|Data visualization|Spotify hits|\n",
        "|3|Mar 20|Statistics: distributions and randomness|Basketball stats|\n",
        "|4|Mar 27|Statistics: hypothesis testing|Polling and elections|\n",
        "|5|Apr 3|Regression: single variable|World happiness|\n",
        "|6|Apr 10|Regression: multivariable|World happiness|\n",
        "|7|Apr 17|Machine learning|Text classification|\n",
        "|8|May 1|FInal project prep||\n",
        "|9|May 8|Final project presentations||\n",
        "\n",
        "\n"
      ]
    },
    {
      "metadata": {
        "id": "nWwHxvtjGbld",
        "colab_type": "text"
      },
      "cell_type": "markdown",
      "source": [
        "# Intro to github and colaboratory\n",
        "\n",
        "We will use this repo: https://github.com/haroldfox/ts-stuy-2019\n",
        "\n",
        "Navigate to https://colab.research.google.com/github\n",
        "\n",
        "Set haroldfox/ts-stuy-2019 as the repo\n",
        "\n",
        "Choose notebooks/01_exploring_data_in_python.ipynb from the **list**"
      ]
    },
    {
      "metadata": {
        "id": "vM3-ERdFILNt",
        "colab_type": "text"
      },
      "cell_type": "markdown",
      "source": [
        "The key data scientist's tool is the jupyter notebook, a mix of code and text. From colaboratory, you can add code cells or text cells and reorder them"
      ]
    },
    {
      "metadata": {
        "id": "rfjfij_EIsAn",
        "colab_type": "text"
      },
      "cell_type": "markdown",
      "source": [
        "# Review of python"
      ]
    },
    {
      "metadata": {
        "id": "NIJ6jjGjgMOE",
        "colab_type": "code",
        "colab": {}
      },
      "cell_type": "code",
      "source": [
        "\"Hello \" + \"there\""
      ],
      "execution_count": 0,
      "outputs": []
    },
    {
      "metadata": {
        "id": "TTF7p3KChv3o",
        "colab_type": "code",
        "colab": {}
      },
      "cell_type": "code",
      "source": [
        "1+1"
      ],
      "execution_count": 0,
      "outputs": []
    },
    {
      "metadata": {
        "id": "NUFwqOFyh18-",
        "colab_type": "code",
        "colab": {}
      },
      "cell_type": "code",
      "source": [
        "['Lists', 'contain', 'multiple', 'items']"
      ],
      "execution_count": 0,
      "outputs": []
    },
    {
      "metadata": {
        "id": "Jqt-OXA-iYi1",
        "colab_type": "text"
      },
      "cell_type": "markdown",
      "source": [
        "Dictionaries map keys to data"
      ]
    },
    {
      "metadata": {
        "id": "t5KzLxUtiASt",
        "colab_type": "code",
        "colab": {}
      },
      "cell_type": "code",
      "source": [
        "{'Yankees': 'New York', 'Red Sox': 'Boston', 'Blue Jays': 'Toronto', 'Dodgers': 'Los Angeles'}"
      ],
      "execution_count": 0,
      "outputs": []
    },
    {
      "metadata": {
        "id": "QnjXlx0bikIe",
        "colab_type": "code",
        "colab": {}
      },
      "cell_type": "code",
      "source": [
        "def capitalize(s):\n",
        "  return ' '.join([w[0].upper() + w[1:].lower() for w in s.split(' ')])"
      ],
      "execution_count": 0,
      "outputs": []
    },
    {
      "metadata": {
        "id": "F2w8c6dDjO86",
        "colab_type": "code",
        "colab": {}
      },
      "cell_type": "code",
      "source": [
        "capitalize('a lower case sentence')"
      ],
      "execution_count": 0,
      "outputs": []
    },
    {
      "metadata": {
        "id": "MF96DvAR--qy",
        "colab_type": "text"
      },
      "cell_type": "markdown",
      "source": [
        "# Exploring Data in pandas"
      ]
    },
    {
      "metadata": {
        "id": "4hhsFrRU--q0",
        "colab_type": "text"
      },
      "cell_type": "markdown",
      "source": [
        "## 1. Getting Started "
      ]
    },
    {
      "metadata": {
        "id": "WGCGcBK3--q1",
        "colab_type": "text"
      },
      "cell_type": "markdown",
      "source": [
        "### Welcome\n",
        "\n",
        "Welcome to Jupyter, a notebook environment for python. We will use Jupyter notebooks throughout this course to explore, visualize, and analyze data. You can learn more about Jupyter here: http://jupyter.readthedocs.io/en/latest/index.html"
      ]
    },
    {
      "metadata": {
        "id": "ECMF0hhc--q2",
        "colab_type": "text"
      },
      "cell_type": "markdown",
      "source": [
        "### Import required python libraries\n",
        "\n",
        "We begin by importing a few basic python libraries for data analysis and visualization. We will start with the following:\n",
        "\n",
        "- pandas: data analysis\n",
        "- numpy: numerical computing and linear algebra in python\n",
        "- datetime: date and time functionality\n",
        "- matplotlib: plotting and data visualization tools\n",
        "- seaborn: interface to matplotlib for easier (and prettier) plotting"
      ]
    },
    {
      "metadata": {
        "id": "GRma8nos--q3",
        "colab_type": "code",
        "colab": {}
      },
      "cell_type": "code",
      "source": [
        "import pandas as pd   # We give the libraries short names for easier referencing\n",
        "import numpy as np\n",
        "import datetime\n",
        "import matplotlib.pyplot as plt\n",
        "import seaborn as sns\n",
        "%matplotlib inline  \n",
        "# This allows us to display plots right within our Jupyter notebook"
      ],
      "execution_count": 0,
      "outputs": []
    },
    {
      "metadata": {
        "id": "tTOJ6jin--q6",
        "colab_type": "text"
      },
      "cell_type": "markdown",
      "source": [
        "### Set notebook display options\n",
        "\n",
        "Pandas is a python library for data analysis. We will begin by using it here to set display options so that we can see a larger number of rows and columns than the default. You can read more about setting options here: https://pandas.pydata.org/pandas-docs/stable/options.html\n",
        "\n"
      ]
    },
    {
      "metadata": {
        "id": "rhDj0HpN--q6",
        "colab_type": "code",
        "colab": {}
      },
      "cell_type": "code",
      "source": [
        "# -- What is the default maximum number of columns displayed?\n",
        "pd.options.display.max_columns"
      ],
      "execution_count": 0,
      "outputs": []
    },
    {
      "metadata": {
        "id": "fD0DOpx6--q8",
        "colab_type": "code",
        "colab": {}
      },
      "cell_type": "code",
      "source": [
        "# -- What is the default maximum number of rows displayed?\n",
        "pd.options.display.max_rows"
      ],
      "execution_count": 0,
      "outputs": []
    },
    {
      "metadata": {
        "id": "20-ToxTm--q_",
        "colab_type": "code",
        "colab": {}
      },
      "cell_type": "code",
      "source": [
        "# -- We can change the default number of rows and columns\n",
        "pd.options.display.max_columns = 50\n",
        "pd.options.display.max_rows = 500"
      ],
      "execution_count": 0,
      "outputs": []
    },
    {
      "metadata": {
        "id": "XC7uSUQG--rB",
        "colab_type": "code",
        "colab": {}
      },
      "cell_type": "code",
      "source": [
        "# -- Which other kinds of options are available?\n",
        "dir(pd.options)"
      ],
      "execution_count": 0,
      "outputs": []
    },
    {
      "metadata": {
        "id": "Ex1kZJek--rD",
        "colab_type": "text"
      },
      "cell_type": "markdown",
      "source": [
        "### Read documentation in your Jupyter notebook\n",
        "Jupyter conveniently allows us to read documentation on python functions and other objects within our notebook. This can be done by either preceding or following the name of the object with a '?' (question mark). We illustrate this here with the 'set_option' function provided by pandas."
      ]
    },
    {
      "metadata": {
        "id": "yXKfD7Lo--rE",
        "colab_type": "code",
        "colab": {}
      },
      "cell_type": "code",
      "source": [
        "pd.set_option?"
      ],
      "execution_count": 0,
      "outputs": []
    },
    {
      "metadata": {
        "id": "xmc2_D-C--rG",
        "colab_type": "code",
        "colab": {}
      },
      "cell_type": "code",
      "source": [
        "# -- \n",
        "'''\n",
        "Getting Familiar with the ipython notebook environment\n",
        "'''\n",
        "\n",
        "\"\"\"\n",
        "Session 1: Exploring Data in Python\n",
        "\n",
        "1.\tGetting Started\n",
        "    - working in jupyter\n",
        "    - display options\n",
        "    - importing libraries (and what these libraries contain)\n",
        "2.\tIntroduction to pandas\n",
        "    - python brief review (control structures, data structures, functions, lambda)\n",
        "    - pandas \n",
        "        - \n",
        "3.\tLoading and Summarizing Data\n",
        "4.\tVisualizing Data in pandas\n",
        "    - \n",
        "\n",
        "5.\tCleaning and Tidying Data\n",
        "\n",
        "Session 2: Visualizing and Simulating Data\n",
        "\n",
        "1.\tBrief Recap of Last Session\n",
        "    - What did we learn last time?\n",
        "    - Review \n",
        "2.\tData Visualization\n",
        "- \n",
        "3.\tHandling Missing Data\n",
        "4.\tRandom Numbers and Sampling\n",
        "5.\tSimulation for Data Analysis\n",
        "\n",
        "\"\"\""
      ],
      "execution_count": 0,
      "outputs": []
    },
    {
      "metadata": {
        "id": "z3GMQUuG--rJ",
        "colab_type": "text"
      },
      "cell_type": "markdown",
      "source": [
        "## 2. Introduction to pandas"
      ]
    },
    {
      "metadata": {
        "id": "WN5ztI1d--rJ",
        "colab_type": "text"
      },
      "cell_type": "markdown",
      "source": [
        "For all this information and more, see https://pandas.pydata.org/pandas-docs/stable/10min.html"
      ]
    },
    {
      "metadata": {
        "id": "xvaq4MLN--rK",
        "colab_type": "text"
      },
      "cell_type": "markdown",
      "source": [
        "In this class, we'll be making extensive use of a Python library called Pandas. You may be familiar with native python data structures like lists and dictionaries. Pandas offers two data structures called DataFrames and Series which have a lot of built-in functionality that makes analyzing data easy.   \n",
        "\n",
        "Let's start off by introducing the Series. Series objects are similar in flavor to dictionaries. They have an 'index' that you can think of as the key of a dictionary, which maps to values. In fact, you can create a Series from a dictionary:"
      ]
    },
    {
      "metadata": {
        "id": "2BM3cSlk--rM",
        "colab_type": "code",
        "colab": {}
      },
      "cell_type": "code",
      "source": [
        "underlying_dict = {i:2*i for i in range(10)} # This is called 'list comprehension'! \n",
        "sers = pd.Series(underlying_dict)\n",
        "sers  "
      ],
      "execution_count": 0,
      "outputs": []
    },
    {
      "metadata": {
        "id": "LY4TorUt--rO",
        "colab_type": "code",
        "colab": {}
      },
      "cell_type": "code",
      "source": [
        "# Access entries by .loc:\n",
        "sers.loc[3]"
      ],
      "execution_count": 0,
      "outputs": []
    },
    {
      "metadata": {
        "id": "RodSMf90--rQ",
        "colab_type": "text"
      },
      "cell_type": "markdown",
      "source": [
        "The index need not be an integer. For example:"
      ]
    },
    {
      "metadata": {
        "id": "TaIi3uE1--rR",
        "colab_type": "code",
        "colab": {}
      },
      "cell_type": "code",
      "source": [
        "underlying_dict = {'a':0, 'b':1, 'c':2}\n",
        "pd.Series(underlying_dict).loc['a']"
      ],
      "execution_count": 0,
      "outputs": []
    },
    {
      "metadata": {
        "id": "EcO2iw1R--rT",
        "colab_type": "code",
        "colab": {}
      },
      "cell_type": "code",
      "source": [
        "# You can also make a Series from a list if you use Pandas' \n",
        "# default integer index:\n",
        "pd.Series([2*i for i in range(10)])"
      ],
      "execution_count": 0,
      "outputs": []
    },
    {
      "metadata": {
        "id": "wNW7l9CM--rV",
        "colab_type": "text"
      },
      "cell_type": "markdown",
      "source": [
        "You can think of a DataFrame as a 2D array or matrix. Like a Series, a DataFrame has an index, but DataFrames also have different columns. We can build up a DataFrame as a dictionary of multiple Series':"
      ]
    },
    {
      "metadata": {
        "id": "0emEUiy6--rV",
        "colab_type": "code",
        "colab": {}
      },
      "cell_type": "code",
      "source": [
        "sers_one = pd.Series({'a':0,'b':1,'c':2})\n",
        "sers_two = pd.Series({'a':3,'b':4,'c':5})\n",
        "my_first_df = pd.DataFrame({'sers_one':sers_one, 'sers_two':sers_two})\n",
        "my_first_df"
      ],
      "execution_count": 0,
      "outputs": []
    },
    {
      "metadata": {
        "id": "zkWkYNu2--rX",
        "colab_type": "code",
        "colab": {}
      },
      "cell_type": "code",
      "source": [
        "# Access a column this way:\n",
        "display(my_first_df['sers_one'])\n",
        "\n",
        "# Access a row this way:\n",
        "display(my_first_df.loc['a'])"
      ],
      "execution_count": 0,
      "outputs": []
    },
    {
      "metadata": {
        "id": "1rA6vndU--ra",
        "colab_type": "code",
        "colab": {}
      },
      "cell_type": "code",
      "source": [
        "# We can build up a DataFrame much faster than that. For instance, \n",
        "# check the output of the following: np.random.normal(size=(10,3))\n",
        "# It returns a 2D array of normal random variables. \n",
        "\n",
        "my_second_df = pd.DataFrame(\n",
        "    np.random.normal(size=(10,3)),columns = ['a','b','c'])\n",
        "my_second_df"
      ],
      "execution_count": 0,
      "outputs": []
    },
    {
      "metadata": {
        "id": "io7PKU5T--rc",
        "colab_type": "text"
      },
      "cell_type": "markdown",
      "source": [
        "Let's say we have a function that takes in rows of a DataFrame and spits out a number. We may want to apply this function to each row of our DataFrame and store the results in a new Series. Below, let's make up a simple function, and use a for-loop to accomplish this:"
      ]
    },
    {
      "metadata": {
        "id": "z6UhDZY4--rd",
        "colab_type": "code",
        "colab": {}
      },
      "cell_type": "code",
      "source": [
        "def f(row):\n",
        "    return 2.*row['a']-row['b']*(row['c'])"
      ],
      "execution_count": 0,
      "outputs": []
    },
    {
      "metadata": {
        "id": "mY_Nx3-S--rg",
        "colab_type": "code",
        "colab": {}
      },
      "cell_type": "code",
      "source": [
        "apply_f_to_rows = {}\n",
        "for i,row in my_second_df.iterrows():\n",
        "    apply_f_to_rows[i] = f(row)\n",
        "apply_f_to_rows = pd.Series(apply_f_to_rows)"
      ],
      "execution_count": 0,
      "outputs": []
    },
    {
      "metadata": {
        "id": "NzWLqCMh--rj",
        "colab_type": "text"
      },
      "cell_type": "markdown",
      "source": [
        "We can accomplish the above with a single line of code using df.apply:"
      ]
    },
    {
      "metadata": {
        "id": "GfXw4TsE--rj",
        "colab_type": "code",
        "colab": {}
      },
      "cell_type": "code",
      "source": [
        "# Below, we set axis = 1 to specify that we want the function to be applied to each row.\n",
        "# If you come up with a function that can take columns, you should set axis = 0\n",
        "apply_f_to_rows_faster = my_second_df.apply(f,axis = 1)\n",
        "\n",
        "# Test that the two results are the same!\n",
        "# Hint: remember that to test if two values are the same we use ==\n",
        "# Try np.all([True,True,False]) for a counter example:\n",
        "np.all(apply_f_to_rows_faster == apply_f_to_rows)"
      ],
      "execution_count": 0,
      "outputs": []
    },
    {
      "metadata": {
        "id": "fVtS8GhvwODd",
        "colab_type": "code",
        "colab": {}
      },
      "cell_type": "code",
      "source": [
        "my_second_df['d'] = 2 * my_second_df['a'] - my_second_df['b'] * my_second_df['c']\n",
        "my_second_df"
      ],
      "execution_count": 0,
      "outputs": []
    },
    {
      "metadata": {
        "id": "Mfva2cCj--r-",
        "colab_type": "text"
      },
      "cell_type": "markdown",
      "source": [
        "## 3. Loading and Summarizing Data  "
      ]
    },
    {
      "metadata": {
        "id": "t3V9Uk5q--r_",
        "colab_type": "text"
      },
      "cell_type": "markdown",
      "source": [
        "### Load data\n",
        "\n",
        "Data can be loaded into a pandas data frame from a variety of file formats. In this session, we will load data on 5000 movies in The Movie Database (TMDB) from a csv file. To see the first few rows of a data frame, use df.head() as in the example below.\n",
        "\n",
        "This dataset is available online on Kaggle: https://www.kaggle.com/carolzhangdc/imdb-5000-movie-dataset\n",
        "There are many other datasets available from Kaggle."
      ]
    },
    {
      "metadata": {
        "id": "GOgJPLoMrikp",
        "colab_type": "code",
        "colab": {}
      },
      "cell_type": "code",
      "source": [
        "!git clone https://<your username>:<your password>@github.com/haroldfox/ts-stuy-2019"
      ],
      "execution_count": 0,
      "outputs": []
    },
    {
      "metadata": {
        "id": "Mq1s4_90uE-v",
        "colab_type": "code",
        "colab": {}
      },
      "cell_type": "code",
      "source": [
        "!ls"
      ],
      "execution_count": 0,
      "outputs": []
    },
    {
      "metadata": {
        "id": "yvzG2ZTsuVie",
        "colab_type": "code",
        "colab": {}
      },
      "cell_type": "code",
      "source": [
        "movies = pd.read_csv('ts-stuy-2019/datasets/movie_metadata.csv')"
      ],
      "execution_count": 0,
      "outputs": []
    },
    {
      "metadata": {
        "scrolled": true,
        "id": "MYOkzr4u--sA",
        "colab_type": "code",
        "colab": {}
      },
      "cell_type": "code",
      "source": [
        "movies.head(10)  # Try changing the number of rows and removing the argument to check what pandas uses as the default value"
      ],
      "execution_count": 0,
      "outputs": []
    },
    {
      "metadata": {
        "id": "6yF_gSBPyiFK",
        "colab_type": "code",
        "colab": {}
      },
      "cell_type": "code",
      "source": [
        "movies.head(10).T"
      ],
      "execution_count": 0,
      "outputs": []
    },
    {
      "metadata": {
        "id": "_09DsXI7--sG",
        "colab_type": "text"
      },
      "cell_type": "markdown",
      "source": [
        "We can view the dimensions of a data frame using df.shape. For example, here we see that our movies data has 5043 rows and 28 columns "
      ]
    },
    {
      "metadata": {
        "id": "9W_fCFZa--sH",
        "colab_type": "code",
        "colab": {}
      },
      "cell_type": "code",
      "source": [
        "movies.shape"
      ],
      "execution_count": 0,
      "outputs": []
    },
    {
      "metadata": {
        "id": "zMjKo6Lt--sI",
        "colab_type": "text"
      },
      "cell_type": "markdown",
      "source": [
        "We can see the names of columns in a data frame using df.columns"
      ]
    },
    {
      "metadata": {
        "id": "oAPaPIS4--sJ",
        "colab_type": "code",
        "colab": {}
      },
      "cell_type": "code",
      "source": [
        "movies.columns"
      ],
      "execution_count": 0,
      "outputs": []
    },
    {
      "metadata": {
        "id": "lt-YbmDz--sE",
        "colab_type": "code",
        "colab": {}
      },
      "cell_type": "code",
      "source": [
        "movies.groupby('actor_2_name').count()['movie_title'].sort_values(ascending=False).head(20)"
      ],
      "execution_count": 0,
      "outputs": []
    },
    {
      "metadata": {
        "id": "esZn7XVe3Ed2",
        "colab_type": "code",
        "colab": {}
      },
      "cell_type": "code",
      "source": [
        "movies[movies['actor_2_name'] == 'Jason Flemyng'][['movie_title', 'director_name', 'title_year']]"
      ],
      "execution_count": 0,
      "outputs": []
    },
    {
      "metadata": {
        "id": "iS27hhVh--sK",
        "colab_type": "text"
      },
      "cell_type": "markdown",
      "source": [
        "When in doubt about the correct way to call a function or use a python object, we can access documentation on it from \n",
        "right within the notebook by following its name with a '?' (question mark)\n",
        "The line below retrieves documentation on the 'read_csv' function that we used above to load data from a CSV file."
      ]
    },
    {
      "metadata": {
        "id": "vRbOSvPV--sL",
        "colab_type": "code",
        "colab": {}
      },
      "cell_type": "code",
      "source": [
        "pd.read_csv?"
      ],
      "execution_count": 0,
      "outputs": []
    },
    {
      "metadata": {
        "id": "1_xkPfx1--sO",
        "colab_type": "text"
      },
      "cell_type": "markdown",
      "source": [
        "### Display summary and descriptive statistics\n",
        "We can summarize the contents of a data frame using the df.describe() method.\n"
      ]
    },
    {
      "metadata": {
        "id": "6BLND0Ez--sP",
        "colab_type": "code",
        "colab": {}
      },
      "cell_type": "code",
      "source": [
        "movies.describe()"
      ],
      "execution_count": 0,
      "outputs": []
    },
    {
      "metadata": {
        "id": "ttveNwug4y_g",
        "colab_type": "code",
        "colab": {}
      },
      "cell_type": "code",
      "source": [
        "movies.sort_values('gross', ascending=False).head(30)[['movie_title', 'gross']]"
      ],
      "execution_count": 0,
      "outputs": []
    },
    {
      "metadata": {
        "id": "NLXnCIhx--sQ",
        "colab_type": "text"
      },
      "cell_type": "markdown",
      "source": [
        "### Select rows and columns using .loc\n",
        "We can select rows and columns of a data frame using .loc, a versatile method that allows us to specify rows and columns either by label or by specifying a condition that needs to be true. Which of the movies in the dataset grossed over $400 million?\n",
        "\n",
        "1. We select the original_title and gross amount columns for all movies that grossed over $400 million.\n",
        "2. We sort the selected data by gross amount (descending) to rank the highest-grossing movies."
      ]
    },
    {
      "metadata": {
        "id": "GtZR71NY--sR",
        "colab_type": "code",
        "colab": {}
      },
      "cell_type": "code",
      "source": [
        "movies[movies.gross>400e6][['movie_title', 'gross']].sort_values('gross', ascending=False)"
      ],
      "execution_count": 0,
      "outputs": []
    },
    {
      "metadata": {
        "id": "n0nh_-qg--sU",
        "colab_type": "text"
      },
      "cell_type": "markdown",
      "source": [
        "### **TRY THIS!**\n",
        "Ask some interesting questions about the movie data that can be answered by filtering and sorting or ranking the dataset. Then answer the questions using what you have learned about .loc and .sort_values."
      ]
    },
    {
      "metadata": {
        "id": "S1UAbtjV--sU",
        "colab_type": "text"
      },
      "cell_type": "markdown",
      "source": [
        "### Group data\n",
        "How many movies from each year of release are in the dataset? We can find out easily by first grouping the data by genre and then counting the number of rows in each genre as shown below."
      ]
    },
    {
      "metadata": {
        "id": "U3CvicCE--sW",
        "colab_type": "code",
        "colab": {}
      },
      "cell_type": "code",
      "source": [
        "movies.groupby('title_year').count()"
      ],
      "execution_count": 0,
      "outputs": []
    },
    {
      "metadata": {
        "id": "Sw80Rffa--sY",
        "colab_type": "text"
      },
      "cell_type": "markdown",
      "source": [
        "### Group on filtered data\n",
        "If we only want the movies per year after 2007 then we can first filter the data, then count the number of movies in each group."
      ]
    },
    {
      "metadata": {
        "id": "VYPagsSo--sZ",
        "colab_type": "code",
        "colab": {}
      },
      "cell_type": "code",
      "source": [
        "movies[(movies.title_year>=2007)].groupby('title_year')['movie_title'].count()"
      ],
      "execution_count": 0,
      "outputs": []
    },
    {
      "metadata": {
        "id": "vvPzswjZ--sa",
        "colab_type": "text"
      },
      "cell_type": "markdown",
      "source": [
        "## 4. Visualizing Data in pandas"
      ]
    },
    {
      "metadata": {
        "id": "0crntEA8--sa",
        "colab_type": "text"
      },
      "cell_type": "markdown",
      "source": [
        "### Plot data from a data frame "
      ]
    },
    {
      "metadata": {
        "id": "PgWzAuGa7dEy",
        "colab_type": "code",
        "colab": {}
      },
      "cell_type": "code",
      "source": [
        "movies[(movies.title_year>=2007)].groupby('title_year')[['movie_title']].count().plot()"
      ],
      "execution_count": 0,
      "outputs": []
    },
    {
      "metadata": {
        "id": "KupiAcii--sb",
        "colab_type": "code",
        "colab": {}
      },
      "cell_type": "code",
      "source": [
        "movies[(movies.title_year>=2007)].groupby('title_year')[['movie_title']].count().plot(kind='bar')"
      ],
      "execution_count": 0,
      "outputs": []
    },
    {
      "metadata": {
        "id": "ohLle9av--sd",
        "colab_type": "code",
        "colab": {}
      },
      "cell_type": "code",
      "source": [
        "movies[(movies.title_year>=2007)].groupby('title_year')[['movie_title']].count().plot(kind='barh')"
      ],
      "execution_count": 0,
      "outputs": []
    },
    {
      "metadata": {
        "id": "VC4GMaKokwry",
        "colab_type": "text"
      },
      "cell_type": "markdown",
      "source": [
        "# Try it"
      ]
    },
    {
      "metadata": {
        "id": "NDrz0N8Jk4Ws",
        "colab_type": "text"
      },
      "cell_type": "markdown",
      "source": [
        "## Python review"
      ]
    },
    {
      "metadata": {
        "id": "KKnOHbYXk96G",
        "colab_type": "text"
      },
      "cell_type": "markdown",
      "source": [
        "Write a function to add a certain number of minutes to a time"
      ]
    },
    {
      "metadata": {
        "id": "H2aA_uymlhvX",
        "colab_type": "code",
        "colab": {}
      },
      "cell_type": "code",
      "source": [
        "def add_minutes(num_minutes, hour, minute):\n",
        "  # return a time tuple\n",
        "  return (hour, minute)"
      ],
      "execution_count": 0,
      "outputs": []
    },
    {
      "metadata": {
        "id": "K0TOwGbulwXP",
        "colab_type": "code",
        "colab": {}
      },
      "cell_type": "code",
      "source": [
        "assert((4, 0) == add_minutes(80, 2, 40))"
      ],
      "execution_count": 0,
      "outputs": []
    },
    {
      "metadata": {
        "id": "_gR8dTZJmFLU",
        "colab_type": "text"
      },
      "cell_type": "markdown",
      "source": [
        "## Analyzing IMDB dataset with pandas"
      ]
    },
    {
      "metadata": {
        "id": "yVZBG_ds9BCM",
        "colab_type": "text"
      },
      "cell_type": "markdown",
      "source": [
        "Which director with at least 3 films has the highest average gross? Who has the highest average imdb_score?"
      ]
    },
    {
      "metadata": {
        "id": "X-126jzF9Zl_",
        "colab_type": "text"
      },
      "cell_type": "markdown",
      "source": [
        "What are the highest-grossing films by genre? What are the highest imdb_score by genre?"
      ]
    },
    {
      "metadata": {
        "id": "A9cLioFC-r0X",
        "colab_type": "text"
      },
      "cell_type": "markdown",
      "source": [
        "Which actors with at least 3 films have the highest gross? Which ones have the highest imdb_score? You will have to combine actor_1, actor_2, and actor_3 together. Hint, you will want to look up concat, rename, and copy"
      ]
    },
    {
      "metadata": {
        "id": "1nNBizPa_1LP",
        "colab_type": "text"
      },
      "cell_type": "markdown",
      "source": [
        "Movie gross does not adjust for inflation. Calculate the average gross per movie per year. Calculate adjusted_gross as the ratio between gross and the median yearly gross. Which movies have the highest adjusted_gross?"
      ]
    }
  ]
}